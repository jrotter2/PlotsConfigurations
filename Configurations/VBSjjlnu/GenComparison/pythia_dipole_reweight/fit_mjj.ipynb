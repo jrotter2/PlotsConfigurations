{
 "cells": [
  {
   "cell_type": "code",
   "execution_count": 137,
   "id": "swiss-imaging",
   "metadata": {
    "ExecuteTime": {
     "end_time": "2021-04-02T15:39:30.028184Z",
     "start_time": "2021-04-02T15:39:29.799371Z"
    }
   },
   "outputs": [],
   "source": [
    "import ROOT as R \n",
    "import sys \n",
    "f= R.TFile.Open(\"total_step1.root\",\"UPDATE\")\n",
    "R.TVirtualFitter.SetMaxIterations(99999);"
   ]
  },
  {
   "cell_type": "code",
   "execution_count": 19,
   "id": "worst-location",
   "metadata": {
    "ExecuteTime": {
     "end_time": "2021-04-02T15:24:16.918743Z",
     "start_time": "2021-04-02T15:24:16.811987Z"
    }
   },
   "outputs": [],
   "source": [
    "%jsroot on"
   ]
  },
  {
   "cell_type": "code",
   "execution_count": 38,
   "id": "involved-reasoning",
   "metadata": {
    "ExecuteTime": {
     "end_time": "2021-04-02T15:26:31.615371Z",
     "start_time": "2021-04-02T15:26:31.453197Z"
    }
   },
   "outputs": [
    {
     "name": "stdout",
     "output_type": "stream",
     "text": [
      "147.5597926058889\n",
      " FCN=0.0489522 FROM MIGRAD    STATUS=FAILED       1936 CALLS        1937 TOTAL\n",
      "                     EDM=8.06123e-05    STRATEGY= 1      ERR MATRIX NOT POS-DEF\n",
      "  EXT PARAMETER                APPROXIMATE        STEP         FIRST   \n",
      "  NO.   NAME      VALUE            ERROR          SIZE      DERIVATIVE \n",
      "   1  p0          -4.05233e+00   4.01601e+01   2.02729e-03  -2.13430e-04\n",
      "   2  p1           5.14591e+01   4.78346e+02   2.73037e-02  -1.71507e-05\n",
      "   3  p2          -6.75302e-03   3.72123e-02   3.12614e-06  -1.06803e-01\n",
      "   4  p3           3.54341e+02   1.67156e+03   7.85140e-02   5.95993e-06\n",
      "   5  p4           1.39480e+00   2.96194e-01   6.10426e-05  -2.85861e-03\n",
      "   6  p5           1.19337e+01   2.11416e+02   2.00077e-02  -8.04187e-05\n",
      "   7  p6           3.21572e-02   1.57251e-01   1.20342e-05   6.87063e-02\n",
      "                               ERR DEF= 0.5\n"
     ]
    },
    {
     "name": "stderr",
     "output_type": "stream",
     "text": [
      "Warning in <Fit>: Abnormal termination of minimization.\n"
     ]
    }
   ],
   "source": [
    "f.cd(\"/\")\n",
    "f.cd(\"mjj100_njet2\")\n",
    "h = R.gDirectory.Get(\"ratio_mjj_zoom2\")\n",
    "\n",
    "#func1 = R.TF1(\"fit_mjj\", \"1 + [0]/(1 + [1]*TMath::Exp(-[2]*(x-[3])))\", 150, 1400)\n",
    "\n",
    "func1 = R.TF1(\"fit_mjj\", \"[5]*TMath::Exp(-[6]*(x))  + [0]/(1 + [1]*TMath::Exp(-[2]*(x-[3]))) + [4] \", 120, 800)\n",
    "# #func1.SetLineColor(R.kRed)\n",
    "\n",
    "# func1.SetParameter(1,500)\n",
    "func1.SetParameter(0,1)\n",
    "# func1.SetParameter(1,1)\n",
    "# func1.SetParameter(2,)\n",
    "func1.SetParameter(3,250)\n",
    "func1.SetParameter(4,1.2)\n",
    "func1.SetParameter(5,10)\n",
    "func1.SetParameter(6,0.01)\n",
    "\n",
    "s = h.Fit(func1, \"RLS\")\n",
    "\n",
    "print(s.Chi2())"
   ]
  },
  {
   "cell_type": "code",
   "execution_count": 39,
   "id": "demonstrated-poland",
   "metadata": {
    "ExecuteTime": {
     "end_time": "2021-04-02T15:26:34.136649Z",
     "start_time": "2021-04-02T15:26:34.017345Z"
    }
   },
   "outputs": [
    {
     "data": {
      "text/html": [
       "\n",
       "<div id=\"root_plot_1617377194130\"\n",
       "     style=\"width: 696px; height: 472px\">\n",
       "</div>\n",
       "<script>\n",
       "if (typeof require !== 'undefined') {\n",
       "\n",
       "    // All requirements met (we are in jupyter notebooks or we loaded requirejs before).\n",
       "    display_root_plot_1617377194130();\n",
       "\n",
       "} else {\n",
       "\n",
       "    // We are in jupyterlab, we need to insert requirejs and configure it.\n",
       "    // Jupyterlab might be installed in a different base_url so we need to know it.\n",
       "    try {\n",
       "        var base_url = JSON.parse(document.getElementById('jupyter-config-data').innerHTML).baseUrl;\n",
       "    } catch(_) {\n",
       "        var base_url = '/';\n",
       "    }\n",
       "\n",
       "    // Try loading a local version of requirejs and fallback to cdn if not possible.\n",
       "    requirejs_load(base_url + 'static/components/requirejs/require.js', requirejs_success(base_url), function(){\n",
       "        requirejs_load('https://cdnjs.cloudflare.com/ajax/libs/require.js/2.2.0/require.min.js', requirejs_success(base_url), function(){\n",
       "            document.getElementById(\"root_plot_1617377194130\").innerHTML = \"Failed to load requireJs\";\n",
       "        });\n",
       "    });\n",
       "}\n",
       "\n",
       "function requirejs_load(src, on_load, on_error) {\n",
       "    var script = document.createElement('script');\n",
       "    script.src = src;\n",
       "    script.onload = on_load;\n",
       "    script.onerror = on_error;\n",
       "    document.head.appendChild(script);\n",
       "}\n",
       "\n",
       "function requirejs_success(base_url) {\n",
       "    return function() {\n",
       "        require.config({\n",
       "            baseUrl: base_url + 'static/'\n",
       "        });\n",
       "        display_root_plot_1617377194130();\n",
       "    }\n",
       "}\n",
       "\n",
       "function display_root_plot_1617377194130() {\n",
       "    require(['scripts/JSRootCore'],\n",
       "        function(Core) {\n",
       "            var obj = Core.JSONR_unref({\"_typename\":\"TCanvas\",\"fUniqueID\":0,\"fBits\":3342344,\"fLineColor\":1,\"fLineStyle\":1,\"fLineWidth\":1,\"fFillColor\":0,\"fFillStyle\":1001,\"fLeftMargin\":0.1,\"fRightMargin\":0.1,\"fBottomMargin\":0.1,\"fTopMargin\":0.1,\"fXfile\":2,\"fYfile\":2,\"fAfile\":1,\"fXstat\":0.99,\"fYstat\":0.99,\"fAstat\":2,\"fFrameFillColor\":0,\"fFrameLineColor\":1,\"fFrameFillStyle\":1001,\"fFrameLineStyle\":1,\"fFrameLineWidth\":1,\"fFrameBorderSize\":1,\"fFrameBorderMode\":0,\"fX1\":-131.250013504178,\"fY1\":-0.242953549960711,\"fX2\":1681.25001350418,\"fY2\":2.1865818048348,\"fXtoAbsPixelk\":50.4000544345858,\"fXtoPixelk\":50.4000544345858,\"fXtoPixel\":0.383999994277954,\"fYtoAbsPixelk\":424.800047186661,\"fYtoPixelk\":424.800047186661,\"fYtoPixel\":-194.275831001326,\"fUtoAbsPixelk\":5e-5,\"fUtoPixelk\":5e-5,\"fUtoPixel\":696,\"fVtoAbsPixelk\":472.00005,\"fVtoPixelk\":472,\"fVtoPixel\":-472,\"fAbsPixeltoXk\":-131.250013504178,\"fPixeltoXk\":-131.250013504178,\"fPixeltoX\":2.60416670547178,\"fAbsPixeltoYk\":2.1865818048348,\"fPixeltoYk\":-0.242953549960711,\"fPixeltoY\":-0.00514732066693964,\"fXlowNDC\":0,\"fYlowNDC\":0,\"fXUpNDC\":1,\"fYUpNDC\":1,\"fWNDC\":1,\"fHNDC\":1,\"fAbsXlowNDC\":0,\"fAbsYlowNDC\":0,\"fAbsWNDC\":1,\"fAbsHNDC\":1,\"fUxmin\":50,\"fUymin\":0,\"fUxmax\":1500,\"fUymax\":1.94362825487409,\"fTheta\":30,\"fPhi\":30,\"fAspectRatio\":0,\"fNumber\":0,\"fTickx\":0,\"fTicky\":0,\"fLogx\":0,\"fLogy\":0,\"fLogz\":0,\"fPadPaint\":0,\"fCrosshair\":0,\"fCrosshairPos\":0,\"fBorderSize\":2,\"fBorderMode\":0,\"fModified\":false,\"fGridx\":false,\"fGridy\":false,\"fAbsCoord\":false,\"fEditable\":true,\"fFixedAspectRatio\":false,\"fPrimitives\":{\"_typename\":\"TList\",\"name\":\"TList\",\"arr\":[{\"_typename\":\"TFrame\",\"fUniqueID\":0,\"fBits\":8,\"fLineColor\":1,\"fLineStyle\":1,\"fLineWidth\":1,\"fFillColor\":0,\"fFillStyle\":1001,\"fX1\":50,\"fY1\":0,\"fX2\":1500,\"fY2\":1.94362825487409,\"fBorderSize\":1,\"fBorderMode\":0},{\"_typename\":\"TH1D\",\"fUniqueID\":0,\"fBits\":8,\"fName\":\"ratio_mjj_zoom2\",\"fTitle\":\"mjj\",\"fLineColor\":602,\"fLineStyle\":1,\"fLineWidth\":1,\"fFillColor\":0,\"fFillStyle\":1001,\"fMarkerColor\":1,\"fMarkerStyle\":1,\"fMarkerSize\":1,\"fNcells\":202,\"fXaxis\":{\"_typename\":\"TAxis\",\"fUniqueID\":0,\"fBits\":0,\"fName\":\"xaxis\",\"fTitle\":\"\",\"fNdivisions\":510,\"fAxisColor\":1,\"fLabelColor\":1,\"fLabelFont\":42,\"fLabelOffset\":0.005,\"fLabelSize\":0.035,\"fTickLength\":0.03,\"fTitleOffset\":1,\"fTitleSize\":0.035,\"fTitleColor\":1,\"fTitleFont\":42,\"fNbins\":200,\"fXmin\":50,\"fXmax\":1500,\"fXbins\":[],\"fFirst\":0,\"fLast\":0,\"fBits2\":0,\"fTimeDisplay\":false,\"fTimeFormat\":\"\",\"fLabels\":null,\"fModLabs\":null},\"fYaxis\":{\"_typename\":\"TAxis\",\"fUniqueID\":0,\"fBits\":0,\"fName\":\"yaxis\",\"fTitle\":\"\",\"fNdivisions\":510,\"fAxisColor\":1,\"fLabelColor\":1,\"fLabelFont\":42,\"fLabelOffset\":0.005,\"fLabelSize\":0.035,\"fTickLength\":0.03,\"fTitleOffset\":0,\"fTitleSize\":0.035,\"fTitleColor\":1,\"fTitleFont\":42,\"fNbins\":1,\"fXmin\":0,\"fXmax\":1,\"fXbins\":[],\"fFirst\":0,\"fLast\":0,\"fBits2\":0,\"fTimeDisplay\":false,\"fTimeFormat\":\"\",\"fLabels\":null,\"fModLabs\":null},\"fZaxis\":{\"_typename\":\"TAxis\",\"fUniqueID\":0,\"fBits\":0,\"fName\":\"zaxis\",\"fTitle\":\"\",\"fNdivisions\":510,\"fAxisColor\":1,\"fLabelColor\":1,\"fLabelFont\":42,\"fLabelOffset\":0.005,\"fLabelSize\":0.035,\"fTickLength\":0.03,\"fTitleOffset\":1,\"fTitleSize\":0.035,\"fTitleColor\":1,\"fTitleFont\":42,\"fNbins\":1,\"fXmin\":0,\"fXmax\":1,\"fXbins\":[],\"fFirst\":0,\"fLast\":0,\"fBits2\":0,\"fTimeDisplay\":false,\"fTimeFormat\":\"\",\"fLabels\":null,\"fModLabs\":null},\"fBarOffset\":0,\"fBarWidth\":1000,\"fEntries\":71379.6555665532,\"fTsumw\":266.21457173128,\"fTsumw2\":0.992862709122918,\"fTsumwx\":216261.947429611,\"fTsumwx2\":218388444.284937,\"fMaximum\":-1111,\"fMinimum\":-1111,\"fNormFactor\":0,\"fContour\":[],\"fSumw2\":[0,0,0,0,0,0,0,5.59768232589875e-4,5.82112013937769e-5,5.60135802020232e-5,5.16828956011434e-5,5.11967105736985e-5,5.21667274818662e-5,6.26097614117803e-5,7.29949644496466e-5,8.92178254504846e-5,9.56987862206692e-5,1.05368727355928e-4,1.13531918922051e-4,1.26744758046637e-4,1.24640648443009e-4,1.35498021184958e-4,1.51848736965718e-4,1.55664939470502e-4,1.65360846198879e-4,1.76421401875008e-4,1.91029955279571e-4,2.03660837516392e-4,2.26910026365558e-4,2.34924734445261e-4,2.60561121559071e-4,2.52742659626178e-4,2.8042482006679e-4,2.90176845969994e-4,3.11831142536059e-4,3.3112922703419e-4,3.35248524727013e-4,3.67955869262231e-4,3.8705876765278e-4,4.12348091268336e-4,4.53806427984869e-4,4.36860380101278e-4,4.57336028287582e-4,4.86394478389085e-4,5.40486539742631e-4,5.68881978003484e-4,5.41984207298742e-4,6.35753277881864e-4,6.30814806151027e-4,6.4156722266335e-4,6.68598028258517e-4,7.1342360932811e-4,6.91547467398038e-4,7.88150374099019e-4,7.49404613905786e-4,8.20391730953351e-4,9.58337575214551e-4,7.44291744053239e-4,9.07068198803875e-4,9.41960656501179e-4,9.73415530480857e-4,0.00106098276538966,0.0010539615942525,0.00110903003684794,0.00108823963680933,0.00115315440061861,0.00121033999628695,0.0011545090550407,0.00133233344038903,0.0011634796892216,0.0013656685525264,0.00141795534665312,0.00129992902353295,0.00143465192906161,0.00143731990453606,0.00134386213679212,0.00159330206808528,0.0017202704602307,0.00196166861392148,0.00172367022602276,0.00198363207282521,0.00170921027211699,0.0022528215693872,0.00192556663412217,0.00189473638827127,0.00211689841576209,0.00186737235158801,0.00214471557053212,0.00225330725933734,0.00246686147160348,0.00242114235853762,0.00263798668482465,0.00269264858950254,0.00225846242089495,0.00228756371540251,0.00281245652823137,0.00289686609783123,0.00282650699331528,0.0028894975464253,0.00280024595057799,0.00343970844453597,0.00305123640706295,0.00349262526295876,0.00370291953694324,0.00339657840900554,0.00383162680022188,0.00326230256398297,0.00322498345326759,0.00381228458885171,0.00422785095343581,0.00358543284923803,0.00395569237376858,0.00498721720575454,0.00466201211743202,0.00430930272946257,0.0040114782018875,0.00400042563988999,0.00470259642703894,0.00405143440120305,0.00511712408426022,0.00554061317322775,0.00463256869737258,0.00538278059736154,0.00653811075562017,0.00574679222587229,0.00609988284350313,0.00698731624947817,0.00516654543636355,0.00693347351031514,0.00688707490953756,0.00675546945781551,0.00814963897004026,0.0058998070278653,0.00669147333387376,0.00724317111642298,0.00575489411482987,0.00699427107433769,0.00537642854640641,0.00651652699429872,0.00734742384170841,0.00746231221138184,0.00775310858803854,0.00635226366512795,0.00874455406535447,0.00826952597321674,0.00717150369806977,0.00707192846462961,0.00777191857473185,0.00870986698145219,0.00865101407776019,0.00898115940656274,0.00613448127337349,0.00828883869622084,0.00992727895025641,0.00950705906520495,0.00884923896819323,0.00852802002303563,0.00849962618368278,0.0100760970133366,0.00996507788258733,0.0089764432372937,0.0088699112580242,0.00934536923798424,0.0107655862263557,0.0101541822377589,0.0124052250597737,0.01226285330952,0.0120552873971472,0.00759383640736429,0.0139604156211521,0.00952548005370513,0.0113792354732636,0.0127769488293197,0.00843284110964615,0.00979165625280669,0.0118657953895637,0.0111034230708452,0.0104904711701237,0.0114997006524398,0.00985504374227109,0.0120859719149449,0.0145287075124058,0.0142003229775825,0.0131062655226907,0.0174671184540094,0.0121233442055294,0.0107981933261344,0.0120364634259112,0.0124253359159712,0.0162167346976839,0.013377522215863,0.0173607888767829,0.0133333584051929,0.0163535369945875,0.0182122215612923,0.0240307004669872,0.0263363339944134,0.0159908844104413,0.0158301175050417,0.0181485271224264,2.6388420412722e-6,2.25247684616359e-4],\"fOption\":\"\",\"fFunctions\":{\"_typename\":\"TList\",\"name\":\"TList\",\"arr\":[{\"_typename\":\"TPaveStats\",\"fUniqueID\":0,\"fBits\":9,\"fLineColor\":1,\"fLineStyle\":1,\"fLineWidth\":1,\"fFillColor\":0,\"fFillStyle\":1001,\"fX1\":1282.50003673136,\"fY1\":1.63993636448697,\"fX2\":1645.00004753471,\"fY2\":2.02866201256556,\"fX1NDC\":0.780000016093254,\"fY1NDC\":0.775000005960464,\"fX2NDC\":0.980000019073486,\"fY2NDC\":0.935000002384186,\"fBorderSize\":1,\"fInit\":1,\"fShadowColor\":1,\"fCornerRadius\":0,\"fOption\":\"brNDC\",\"fName\":\"stats\",\"fTextAngle\":0,\"fTextSize\":0,\"fTextAlign\":12,\"fTextColor\":1,\"fTextFont\":42,\"fLabel\":\"\",\"fLongest\":18,\"fMargin\":0.05,\"fLines\":{\"_typename\":\"TList\",\"name\":\"TList\",\"arr\":[{\"_typename\":\"TLatex\",\"fUniqueID\":0,\"fBits\":0,\"fName\":\"\",\"fTitle\":\"ratio_mjj_zoom2\",\"fTextAngle\":0,\"fTextSize\":0.0368,\"fTextAlign\":0,\"fTextColor\":0,\"fTextFont\":0,\"fX\":0,\"fY\":0,\"fLineColor\":1,\"fLineStyle\":1,\"fLineWidth\":2,\"fLimitFactorSize\":3,\"fOriginSize\":0.0368000008165836},{\"_typename\":\"TLatex\",\"fUniqueID\":0,\"fBits\":0,\"fName\":\"\",\"fTitle\":\"Entries = 71380  \",\"fTextAngle\":0,\"fTextSize\":0,\"fTextAlign\":0,\"fTextColor\":0,\"fTextFont\":0,\"fX\":0,\"fY\":0,\"fLineColor\":1,\"fLineStyle\":1,\"fLineWidth\":2,\"fLimitFactorSize\":3,\"fOriginSize\":0.04},{\"_typename\":\"TLatex\",\"fUniqueID\":0,\"fBits\":0,\"fName\":\"\",\"fTitle\":\"Mean  =  812.4\",\"fTextAngle\":0,\"fTextSize\":0,\"fTextAlign\":0,\"fTextColor\":0,\"fTextFont\":0,\"fX\":0,\"fY\":0,\"fLineColor\":1,\"fLineStyle\":1,\"fLineWidth\":2,\"fLimitFactorSize\":3,\"fOriginSize\":0.04},{\"_typename\":\"TLatex\",\"fUniqueID\":0,\"fBits\":0,\"fName\":\"\",\"fTitle\":\"Std Dev   =  400.5\",\"fTextAngle\":0,\"fTextSize\":0,\"fTextAlign\":0,\"fTextColor\":0,\"fTextFont\":0,\"fX\":0,\"fY\":0,\"fLineColor\":1,\"fLineStyle\":1,\"fLineWidth\":2,\"fLimitFactorSize\":3,\"fOriginSize\":0.04}],\"opt\":[\"\",\"\",\"\",\"\"]},\"fOptFit\":0,\"fOptStat\":1111,\"fFitFormat\":\"5.4g\",\"fStatFormat\":\"6.4g\",\"fParent\":{\"$ref\":3}},{\"_typename\":\"TF1\",\"fUniqueID\":0,\"fBits\":1024,\"fName\":\"fit_mjj\",\"fTitle\":\"[5]*TMath::Exp(-[6]*(x))  + [0]\\/(1 + [1]*TMath::Exp(-[2]*(x-[3]))) + [4] \",\"fLineColor\":2,\"fLineStyle\":1,\"fLineWidth\":2,\"fFillColor\":19,\"fFillStyle\":0,\"fMarkerColor\":1,\"fMarkerStyle\":1,\"fMarkerSize\":1,\"fXmin\":120,\"fXmax\":800,\"fNpar\":7,\"fNdim\":1,\"fNpx\":100,\"fType\":0,\"fNpfits\":93,\"fNDF\":86,\"fChisquare\":147.559792605889,\"fMinimum\":-1111,\"fMaximum\":-1111,\"fParErrors\":[40.1601239572611,478.346088644007,0.0372123381386082,1671.56171951966,0.296193580905518,211.415746431146,0.15725139373178],\"fParMin\":[0,0,0,0,0,0,0],\"fParMax\":[0,0,0,0,0,0,0],\"fSave\":[1.29633871874052,1.26131470500308,1.23545917208655,1.21688107483752,1.20406383243921,1.19579172063754,1.19109071847697,1.18918097097828,1.18943858668481,1.19136493700086,1.19456198425193,1.19871245469409,1.20356390517738,1.20891591898578,1.21460981650196,1.22052038698598,1.22654924470397,1.23261949054986,1.23867142290967,1.24465909182929,1.25054753097751,1.25631053438727,1.26192887106893,1.26738885157288,1.272681177442,1.27780001804703,1.282742270189,1.28750696460639,1.29209479055955,1.29650771531878,1.30074867992713,1.30482135626104,1.30872995334824,1.31247906326171,1.31607353880569,1.31951839673456,1.32281874147115,1.3259797052768,1.32900640161782,1.33190388911,1.33467714393545,1.33733103903786,1.33987032873381,1.34229963764417,1.34462345306427,1.34684612006389,1.34897183874706,1.35100466321325,1.35294850185168,1.35480711867269,1.35658413543849,1.35828303440258,1.35990716150495,1.36145972990048,1.36294382372283,1.36436240200559,1.36571830269856,1.36701424672984,1.36825284207482,1.36943658780152,1.37056787806828,1.37164900605556,1.37268216781774,1.37366946604433,1.37461291372296,1.37551443769878,1.37637588212659,1.37719901181359,1.37798551545186,1.37873700874053,1.37945503739824,1.38014108006732,1.38079655111138,1.38142280330839,1.38202113044155,1.38259276979068,1.38313890452661,1.38366066601151,1.38415913600796,1.38463534879965,1.38509029322663,1.38552491463796,1.38594011676463,1.38633676351559,1.38671568069964,1.38707765767595,1.38742344893574,1.38775377561792,1.38806932696101,1.38837076169394,1.388658709368,1.38893377163242,1.38919652345556,1.38944751429416,1.38968726921253,1.38991628995377,1.39013505596508,1.3903440253788,1.39054363595124,1.3907343059609,1.39091643506781,120,800],\"fNormalized\":false,\"fNormIntegral\":0,\"fFormula\":{\"_typename\":\"TFormula\",\"fUniqueID\":0,\"fBits\":1024,\"fName\":\"fit_mjj\",\"fTitle\":\"[5]*TMath::Exp(-[6]*(x))  + [0]\\/(1 + [1]*TMath::Exp(-[2]*(x-[3]))) + [4] \",\"fClingParameters\":[-4.0523258227955,51.4591456123371,-0.00675301920271262,354.341283397582,1.39479613695349,11.9337234569248,0.0321572307880208],\"fAllParametersSetted\":true,\"fParams\":[{\"$pair\":\"pair<TString,int,TFormulaParamOrder>\",\"first\":\"p0\",\"second\":0},{\"$pair\":\"pair<TString,int,TFormulaParamOrder>\",\"first\":\"p1\",\"second\":1},{\"$pair\":\"pair<TString,int,TFormulaParamOrder>\",\"first\":\"p2\",\"second\":2},{\"$pair\":\"pair<TString,int,TFormulaParamOrder>\",\"first\":\"p3\",\"second\":3},{\"$pair\":\"pair<TString,int,TFormulaParamOrder>\",\"first\":\"p4\",\"second\":4},{\"$pair\":\"pair<TString,int,TFormulaParamOrder>\",\"first\":\"p5\",\"second\":5},{\"$pair\":\"pair<TString,int,TFormulaParamOrder>\",\"first\":\"p6\",\"second\":6}],\"fFormula\":\"[p5]*TMath::Exp(-[p6]*(x))+[p0]\\/(1+[p1]*TMath::Exp(-[p2]*(x-[p3])))+[p4]\",\"fNdim\":1,\"fLinearParts\":[],\"fVectorized\":false},\"fParams\":null,\"fComposition_ptr\":null}],\"opt\":[\"brNDC\",\"\"]},\"fBufferSize\":0,\"fBuffer\":[],\"fBinStatErrOpt\":0,\"fStatOverflows\":2,\"fArray\":[0,0,0,0,0,0,0,1.21289302000741,1.24971933987344,1.28525360038447,1.26972615238887,1.26011438851335,1.23608821882257,1.2586574087787,1.20737509584127,1.18360729730871,1.16343175309639,1.17813807562452,1.18278511921243,1.20747949075696,1.17609636260965,1.18543666524055,1.21892956318795,1.20328208652855,1.20810347346882,1.209062527698,1.23155812246818,1.23769256374198,1.26783560154243,1.26595247327327,1.28794353493371,1.24780436907128,1.27177836292904,1.27426621844843,1.28024750034775,1.29430758299069,1.28178677442378,1.29980792491393,1.29962878470967,1.316903564066,1.35268014126377,1.30190017562767,1.29857784632202,1.30335189325184,1.35850010047887,1.36370835104434,1.3101041291755,1.37885014825403,1.35887259585362,1.33173366185738,1.33307751134336,1.3447188130465,1.32102769128966,1.36665116618771,1.33041321467664,1.35804411739022,1.43888280752216,1.26847464519804,1.36075972694824,1.36648088228982,1.37026938683989,1.39009812393031,1.348962325498,1.36826094306104,1.35163725894931,1.35865242185159,1.37425075083745,1.33671837974704,1.4028597537287,1.302351007665,1.36873082118968,1.38859658127889,1.30200922932423,1.33674312063562,1.3349543112257,1.27623211302092,1.37080735264622,1.39953004422614,1.43658280069284,1.36590387557284,1.4221624694482,1.32375151178459,1.47718410396676,1.37167340840656,1.32905589810333,1.38703944054522,1.29937175445361,1.36361904866633,1.40033209097747,1.43569027330506,1.41016814707122,1.44689942253184,1.44187793920938,1.31600779658859,1.2965907350904,1.41758478188778,1.41254943478506,1.38319520876071,1.39057080034168,1.35121686259127,1.47502385558337,1.38332050562442,1.46062182333511,1.472889849121,1.40371869017184,1.47346515827382,1.3421454782974,1.320087186669,1.43915760908432,1.47714574323196,1.3684323483543,1.4220908685281,1.56857981787007,1.48972584172094,1.44066717982403,1.36125341179498,1.34840946682176,1.44913683571141,1.32939133670908,1.47130699122142,1.50808423827837,1.38532681538274,1.45219507751223,1.55555624278724,1.49021383305805,1.52849504446154,1.55892058654793,1.36619170247667,1.57294994974052,1.56334459712702,1.49278358988797,1.61176375203621,1.36948737470725,1.46255877383894,1.5188029663798,1.3182538559422,1.46932564649016,1.29961058580167,1.4002511288493,1.44823961108073,1.4622121148537,1.45376836179728,1.38393473217857,1.52895335704401,1.49200570254177,1.41514508109904,1.35318649171035,1.41077849525571,1.46431186684446,1.48236162503724,1.48219137260501,1.23979090184773,1.37962184385716,1.52252219721816,1.47011689111697,1.41455988730831,1.36517104111497,1.36076673899132,1.454161625722,1.43241772386699,1.34951859696351,1.33157355877901,1.36868923788851,1.44736977888201,1.43383245875452,1.51864771008503,1.46737978133343,1.46026758463673,1.16545547980458,1.57129881400726,1.29660707920286,1.36746770519136,1.50964746150555,1.19668657290047,1.29443687617048,1.40680571443284,1.29124158527316,1.27032609651465,1.32239070400568,1.27264167228557,1.37531669879414,1.4687515065752,1.45700563462963,1.34516866835794,1.54590736288395,1.27378141830689,1.21078802774382,1.21983225355732,1.35136720985831,1.49827879280685,1.29849073886425,1.51240617437482,1.33013062156242,1.46299307324716,1.42789628906955,1.65567922665907,1.68878979720913,1.35136106285948,1.38365338395005,1.48001145320427,1.43658007914223,1.43598622191534]},{\"_typename\":\"TPaveText\",\"fUniqueID\":0,\"fBits\":9,\"fLineColor\":1,\"fLineStyle\":1,\"fLineWidth\":1,\"fFillColor\":0,\"fFillStyle\":0,\"fX1\":712.604165736896,\"fY1\":2.02619130443789,\"fX2\":837.395834263104,\"fY2\":2.17443413964575,\"fX1NDC\":0.465574712643678,\"fY1NDC\":0.933983055615829,\"fX2NDC\":0.534425287356322,\"fY2NDC\":0.995000004768372,\"fBorderSize\":0,\"fInit\":1,\"fShadowColor\":1,\"fCornerRadius\":0,\"fOption\":\"blNDC\",\"fName\":\"title\",\"fTextAngle\":0,\"fTextSize\":0,\"fTextAlign\":22,\"fTextColor\":1,\"fTextFont\":42,\"fLabel\":\"\",\"fLongest\":3,\"fMargin\":0.05,\"fLines\":{\"_typename\":\"TList\",\"name\":\"TList\",\"arr\":[{\"_typename\":\"TLatex\",\"fUniqueID\":0,\"fBits\":0,\"fName\":\"\",\"fTitle\":\"mjj\",\"fTextAngle\":0,\"fTextSize\":0,\"fTextAlign\":0,\"fTextColor\":0,\"fTextFont\":0,\"fX\":0,\"fY\":0,\"fLineColor\":1,\"fLineStyle\":1,\"fLineWidth\":2,\"fLimitFactorSize\":3,\"fOriginSize\":0.0518644079566002}],\"opt\":[\"\"]}},{\"_typename\":\"TStyle\",\"fUniqueID\":0,\"fBits\":0,\"fName\":\"Modern\",\"fTitle\":\"Modern Style\",\"fLineColor\":1,\"fLineStyle\":1,\"fLineWidth\":1,\"fFillColor\":19,\"fFillStyle\":1001,\"fMarkerColor\":1,\"fMarkerStyle\":1,\"fMarkerSize\":1,\"fTextAngle\":0,\"fTextSize\":0.05,\"fTextAlign\":11,\"fTextColor\":1,\"fTextFont\":62,\"fXaxis\":{\"_typename\":\"TAttAxis\",\"fNdivisions\":510,\"fAxisColor\":1,\"fLabelColor\":1,\"fLabelFont\":42,\"fLabelOffset\":0.005,\"fLabelSize\":0.035,\"fTickLength\":0.03,\"fTitleOffset\":1,\"fTitleSize\":0.035,\"fTitleColor\":1,\"fTitleFont\":42},\"fYaxis\":{\"_typename\":\"TAttAxis\",\"fNdivisions\":510,\"fAxisColor\":1,\"fLabelColor\":1,\"fLabelFont\":42,\"fLabelOffset\":0.005,\"fLabelSize\":0.035,\"fTickLength\":0.03,\"fTitleOffset\":0,\"fTitleSize\":0.035,\"fTitleColor\":1,\"fTitleFont\":42},\"fZaxis\":{\"_typename\":\"TAttAxis\",\"fNdivisions\":510,\"fAxisColor\":1,\"fLabelColor\":1,\"fLabelFont\":42,\"fLabelOffset\":0.005,\"fLabelSize\":0.035,\"fTickLength\":0.03,\"fTitleOffset\":1,\"fTitleSize\":0.035,\"fTitleColor\":1,\"fTitleFont\":42},\"fBarWidth\":1,\"fBarOffset\":0,\"fColorModelPS\":0,\"fDrawBorder\":0,\"fOptLogx\":0,\"fOptLogy\":0,\"fOptLogz\":0,\"fOptDate\":0,\"fOptStat\":1111,\"fOptTitle\":1,\"fOptFile\":0,\"fOptFit\":0,\"fShowEventStatus\":0,\"fShowEditor\":0,\"fShowToolBar\":0,\"fNumberContours\":20,\"fAttDate\":{\"_typename\":\"TAttText\",\"fTextAngle\":0,\"fTextSize\":0.025,\"fTextAlign\":11,\"fTextColor\":1,\"fTextFont\":62},\"fDateX\":0.01,\"fDateY\":0.01,\"fEndErrorSize\":2,\"fErrorX\":0.5,\"fFuncColor\":2,\"fFuncStyle\":1,\"fFuncWidth\":2,\"fGridColor\":0,\"fGridStyle\":3,\"fGridWidth\":1,\"fLegendBorderSize\":1,\"fLegendFillColor\":0,\"fLegendFont\":42,\"fLegendTextSize\":0,\"fHatchesLineWidth\":1,\"fHatchesSpacing\":1,\"fFrameFillColor\":0,\"fFrameLineColor\":1,\"fFrameFillStyle\":1001,\"fFrameLineStyle\":1,\"fFrameLineWidth\":1,\"fFrameBorderSize\":1,\"fFrameBorderMode\":0,\"fHistFillColor\":0,\"fHistLineColor\":602,\"fHistFillStyle\":1001,\"fHistLineStyle\":1,\"fHistLineWidth\":1,\"fHistMinimumZero\":false,\"fHistTopMargin\":0.05,\"fCanvasPreferGL\":false,\"fCanvasColor\":0,\"fCanvasBorderSize\":2,\"fCanvasBorderMode\":0,\"fCanvasDefH\":500,\"fCanvasDefW\":700,\"fCanvasDefX\":10,\"fCanvasDefY\":10,\"fPadColor\":0,\"fPadBorderSize\":2,\"fPadBorderMode\":0,\"fPadBottomMargin\":0.1,\"fPadTopMargin\":0.1,\"fPadLeftMargin\":0.1,\"fPadRightMargin\":0.1,\"fPadGridX\":false,\"fPadGridY\":false,\"fPadTickX\":0,\"fPadTickY\":0,\"fPaperSizeX\":20,\"fPaperSizeY\":26,\"fScreenFactor\":1,\"fStatColor\":0,\"fStatTextColor\":1,\"fStatBorderSize\":1,\"fStatFont\":42,\"fStatFontSize\":0,\"fStatStyle\":1001,\"fStatFormat\":\"6.4g\",\"fStatX\":0.98,\"fStatY\":0.935,\"fStatW\":0.2,\"fStatH\":0.16,\"fStripDecimals\":true,\"fTitleAlign\":23,\"fTitleColor\":0,\"fTitleTextColor\":1,\"fTitleBorderSize\":0,\"fTitleFont\":42,\"fTitleFontSize\":0.05,\"fTitleStyle\":0,\"fTitleX\":0.5,\"fTitleY\":0.995,\"fTitleW\":0,\"fTitleH\":0,\"fLegoInnerR\":0.5,\"fLineStyle\":[\"\",\"  \",\" 12 12\",\" 4 8\",\" 12 16 4 16\",\" 20 12 4 12\",\" 20 12 4 12 4 12 4 12\",\" 20 20\",\" 20 12 4 12 4 12\",\" 80 20\",\" 80 40 4 40\",\"  \",\"  \",\"  \",\"  \",\"  \",\"  \",\"  \",\"  \",\"  \",\"  \",\"  \",\"  \",\"  \",\"  \",\"  \",\"  \",\"  \",\"  \",\"  \"],\"fHeaderPS\":\"\",\"fTitlePS\":\"\",\"fFitFormat\":\"5.4g\",\"fPaintTextFormat\":\"g\",\"fLineScalePS\":3,\"fJoinLinePS\":0,\"fCapLinePS\":0,\"fTimeOffset\":788918400,\"fImageScaling\":1}],\"opt\":[\"\",\"\",\"blNDC\",\"\"]},\"fExecs\":null,\"fName\":\"c1_n4\",\"fTitle\":\"c1_n4\",\"fNumPaletteColor\":0,\"fNextPaletteColor\":0,\"fDISPLAY\":\"$DISPLAY\",\"fDoubleBuffer\":0,\"fRetained\":true,\"fXsizeUser\":0,\"fYsizeUser\":0,\"fXsizeReal\":20,\"fYsizeReal\":14.28571,\"fWindowTopX\":0,\"fWindowTopY\":0,\"fWindowWidth\":0,\"fWindowHeight\":0,\"fCw\":696,\"fCh\":472,\"fCatt\":{\"_typename\":\"TAttCanvas\",\"fXBetween\":2,\"fYBetween\":2,\"fTitleFromTop\":1.2,\"fXdate\":0.2,\"fYdate\":0.3,\"fAdate\":1},\"kMoveOpaque\":true,\"kResizeOpaque\":true,\"fHighLightColor\":2,\"fBatch\":true,\"kShowEventStatus\":false,\"kAutoExec\":true,\"kMenuBar\":true});\n",
       "            Core.draw(\"root_plot_1617377194130\", obj, \"\");\n",
       "        }\n",
       "    );\n",
       "}\n",
       "</script>\n"
      ],
      "text/plain": [
       "<IPython.core.display.HTML object>"
      ]
     },
     "metadata": {},
     "output_type": "display_data"
    }
   ],
   "source": [
    "c = R.TCanvas()\n",
    "h.Draw()\n",
    "c.Draw()"
   ]
  },
  {
   "cell_type": "code",
   "execution_count": 40,
   "id": "promotional-charger",
   "metadata": {
    "ExecuteTime": {
     "end_time": "2021-04-02T15:26:36.971874Z",
     "start_time": "2021-04-02T15:26:36.862904Z"
    }
   },
   "outputs": [
    {
     "data": {
      "text/plain": [
       "528"
      ]
     },
     "execution_count": 40,
     "metadata": {},
     "output_type": "execute_result"
    }
   ],
   "source": [
    "func1.Write()"
   ]
  },
  {
   "cell_type": "code",
   "execution_count": 41,
   "id": "corrected-venture",
   "metadata": {
    "ExecuteTime": {
     "end_time": "2021-04-02T15:26:40.492139Z",
     "start_time": "2021-04-02T15:26:40.306001Z"
    }
   },
   "outputs": [
    {
     "name": "stdout",
     "output_type": "stream",
     "text": [
      "116.80937558500959\n",
      " FCN=0.0124464 FROM HESSE     STATUS=NOT POSDEF     50 CALLS        2283 TOTAL\n",
      "                     EDM=3.0261e-06    STRATEGY= 1      ERR MATRIX NOT POS-DEF\n",
      "  EXT PARAMETER                APPROXIMATE        STEP         FIRST   \n",
      "  NO.   NAME      VALUE            ERROR          SIZE      DERIVATIVE \n",
      "   1  p0          -1.69164e+02   1.44934e+03   1.16712e-02  -5.67894e-07\n",
      "   2  p1           2.82939e+02   2.39781e+03   1.95587e-02  -3.39261e-07\n",
      "   3  p2          -3.14233e-03   1.31518e-02   1.88826e-07  -1.35201e-01\n",
      "   4  p3          -1.15856e+02   2.77474e+03   2.36949e-02   3.01633e-07\n",
      "   5  p4           1.27464e+00   3.85038e-01   9.66311e-06   4.43527e-03\n",
      "   6  p5           1.88258e+02   6.57039e+03   8.33534e-02  -1.27282e-06\n",
      "   7  p6           6.31951e-02   3.09645e-01   4.19041e-06   2.40265e-02\n",
      "                               ERR DEF= 0.5\n"
     ]
    }
   ],
   "source": [
    "f.cd(\"/\")\n",
    "f.cd(\"mjj100_njet3\")\n",
    "h = R.gDirectory.Get(\"ratio_mjj_zoom2\")\n",
    "\n",
    "#func1 = R.TF1(\"fit_mjj\", \"1 + [0]/(1 + [1]*TMath::Exp(-[2]*(x-[3])))\", 150, 1400)\n",
    "\n",
    "func1 = R.TF1(\"fit_mjj\", \"[5]*TMath::Exp(-[6]*(x))  + [0]/(1 + [1]*TMath::Exp(-[2]*(x-[3]))) + [4] \", 110, 1000)\n",
    "# #func1.SetLineColor(R.kRed)\n",
    "\n",
    "# func1.SetParameter(1,500)\n",
    "func1.SetParameter(0,1)\n",
    "# func1.SetParameter(1,1)\n",
    "# func1.SetParameter(2,)\n",
    "func1.SetParameter(3,300)\n",
    "func1.SetParameter(4,1.2)\n",
    "func1.SetParameter(5,10)\n",
    "func1.SetParameter(6,0.01)\n",
    "\n",
    "s = h.Fit(func1, \"RLS\")\n",
    "\n",
    "print(s.Chi2())"
   ]
  },
  {
   "cell_type": "code",
   "execution_count": 42,
   "id": "theoretical-sensitivity",
   "metadata": {
    "ExecuteTime": {
     "end_time": "2021-04-02T15:26:43.011866Z",
     "start_time": "2021-04-02T15:26:42.894850Z"
    }
   },
   "outputs": [
    {
     "data": {
      "text/html": [
       "\n",
       "<div id=\"root_plot_1617377203006\"\n",
       "     style=\"width: 696px; height: 472px\">\n",
       "</div>\n",
       "<script>\n",
       "if (typeof require !== 'undefined') {\n",
       "\n",
       "    // All requirements met (we are in jupyter notebooks or we loaded requirejs before).\n",
       "    display_root_plot_1617377203006();\n",
       "\n",
       "} else {\n",
       "\n",
       "    // We are in jupyterlab, we need to insert requirejs and configure it.\n",
       "    // Jupyterlab might be installed in a different base_url so we need to know it.\n",
       "    try {\n",
       "        var base_url = JSON.parse(document.getElementById('jupyter-config-data').innerHTML).baseUrl;\n",
       "    } catch(_) {\n",
       "        var base_url = '/';\n",
       "    }\n",
       "\n",
       "    // Try loading a local version of requirejs and fallback to cdn if not possible.\n",
       "    requirejs_load(base_url + 'static/components/requirejs/require.js', requirejs_success(base_url), function(){\n",
       "        requirejs_load('https://cdnjs.cloudflare.com/ajax/libs/require.js/2.2.0/require.min.js', requirejs_success(base_url), function(){\n",
       "            document.getElementById(\"root_plot_1617377203006\").innerHTML = \"Failed to load requireJs\";\n",
       "        });\n",
       "    });\n",
       "}\n",
       "\n",
       "function requirejs_load(src, on_load, on_error) {\n",
       "    var script = document.createElement('script');\n",
       "    script.src = src;\n",
       "    script.onload = on_load;\n",
       "    script.onerror = on_error;\n",
       "    document.head.appendChild(script);\n",
       "}\n",
       "\n",
       "function requirejs_success(base_url) {\n",
       "    return function() {\n",
       "        require.config({\n",
       "            baseUrl: base_url + 'static/'\n",
       "        });\n",
       "        display_root_plot_1617377203006();\n",
       "    }\n",
       "}\n",
       "\n",
       "function display_root_plot_1617377203006() {\n",
       "    require(['scripts/JSRootCore'],\n",
       "        function(Core) {\n",
       "            var obj = Core.JSONR_unref({\"_typename\":\"TCanvas\",\"fUniqueID\":0,\"fBits\":3342344,\"fLineColor\":1,\"fLineStyle\":1,\"fLineWidth\":1,\"fFillColor\":0,\"fFillStyle\":1001,\"fLeftMargin\":0.1,\"fRightMargin\":0.1,\"fBottomMargin\":0.1,\"fTopMargin\":0.1,\"fXfile\":2,\"fYfile\":2,\"fAfile\":1,\"fXstat\":0.99,\"fYstat\":0.99,\"fAstat\":2,\"fFrameFillColor\":0,\"fFrameLineColor\":1,\"fFrameFillStyle\":1001,\"fFrameLineStyle\":1,\"fFrameLineWidth\":1,\"fFrameBorderSize\":1,\"fFrameBorderMode\":0,\"fX1\":-131.250013504178,\"fY1\":-0.183058039604603,\"fX2\":1681.25001350418,\"fY2\":1.64752224733034,\"fXtoAbsPixelk\":50.4000544345858,\"fXtoPixelk\":50.4000544345858,\"fXtoPixel\":0.383999994277954,\"fYtoAbsPixelk\":424.800047186661,\"fYtoPixelk\":424.800047186661,\"fYtoPixel\":-257.841736507663,\"fUtoAbsPixelk\":5e-5,\"fUtoPixelk\":5e-5,\"fUtoPixel\":696,\"fVtoAbsPixelk\":472.00005,\"fVtoPixelk\":472,\"fVtoPixel\":-472,\"fAbsPixeltoXk\":-131.250013504178,\"fPixeltoXk\":-131.250013504178,\"fPixeltoX\":2.60416670547178,\"fAbsPixeltoYk\":1.64752224733034,\"fPixeltoYk\":-0.183058039604603,\"fPixeltoY\":-0.00387834806554013,\"fXlowNDC\":0,\"fYlowNDC\":0,\"fXUpNDC\":1,\"fYUpNDC\":1,\"fWNDC\":1,\"fHNDC\":1,\"fAbsXlowNDC\":0,\"fAbsYlowNDC\":0,\"fAbsWNDC\":1,\"fAbsHNDC\":1,\"fUxmin\":50,\"fUymin\":0,\"fUxmax\":1500,\"fUymax\":1.46446420772573,\"fTheta\":30,\"fPhi\":30,\"fAspectRatio\":0,\"fNumber\":0,\"fTickx\":0,\"fTicky\":0,\"fLogx\":0,\"fLogy\":0,\"fLogz\":0,\"fPadPaint\":0,\"fCrosshair\":0,\"fCrosshairPos\":0,\"fBorderSize\":2,\"fBorderMode\":0,\"fModified\":false,\"fGridx\":false,\"fGridy\":false,\"fAbsCoord\":false,\"fEditable\":true,\"fFixedAspectRatio\":false,\"fPrimitives\":{\"_typename\":\"TList\",\"name\":\"TList\",\"arr\":[{\"_typename\":\"TFrame\",\"fUniqueID\":0,\"fBits\":8,\"fLineColor\":1,\"fLineStyle\":1,\"fLineWidth\":1,\"fFillColor\":0,\"fFillStyle\":1001,\"fX1\":50,\"fY1\":0,\"fX2\":1500,\"fY2\":1.46446420772573,\"fBorderSize\":1,\"fBorderMode\":0},{\"_typename\":\"TH1D\",\"fUniqueID\":0,\"fBits\":8,\"fName\":\"ratio_mjj_zoom2\",\"fTitle\":\"mjj\",\"fLineColor\":602,\"fLineStyle\":1,\"fLineWidth\":1,\"fFillColor\":0,\"fFillStyle\":1001,\"fMarkerColor\":1,\"fMarkerStyle\":1,\"fMarkerSize\":1,\"fNcells\":202,\"fXaxis\":{\"_typename\":\"TAxis\",\"fUniqueID\":0,\"fBits\":0,\"fName\":\"xaxis\",\"fTitle\":\"\",\"fNdivisions\":510,\"fAxisColor\":1,\"fLabelColor\":1,\"fLabelFont\":42,\"fLabelOffset\":0.005,\"fLabelSize\":0.035,\"fTickLength\":0.03,\"fTitleOffset\":1,\"fTitleSize\":0.035,\"fTitleColor\":1,\"fTitleFont\":42,\"fNbins\":200,\"fXmin\":50,\"fXmax\":1500,\"fXbins\":[],\"fFirst\":0,\"fLast\":0,\"fBits2\":0,\"fTimeDisplay\":false,\"fTimeFormat\":\"\",\"fLabels\":null,\"fModLabs\":null},\"fYaxis\":{\"_typename\":\"TAxis\",\"fUniqueID\":0,\"fBits\":0,\"fName\":\"yaxis\",\"fTitle\":\"\",\"fNdivisions\":510,\"fAxisColor\":1,\"fLabelColor\":1,\"fLabelFont\":42,\"fLabelOffset\":0.005,\"fLabelSize\":0.035,\"fTickLength\":0.03,\"fTitleOffset\":0,\"fTitleSize\":0.035,\"fTitleColor\":1,\"fTitleFont\":42,\"fNbins\":1,\"fXmin\":0,\"fXmax\":1,\"fXbins\":[],\"fFirst\":0,\"fLast\":0,\"fBits2\":0,\"fTimeDisplay\":false,\"fTimeFormat\":\"\",\"fLabels\":null,\"fModLabs\":null},\"fZaxis\":{\"_typename\":\"TAxis\",\"fUniqueID\":0,\"fBits\":0,\"fName\":\"zaxis\",\"fTitle\":\"\",\"fNdivisions\":510,\"fAxisColor\":1,\"fLabelColor\":1,\"fLabelFont\":42,\"fLabelOffset\":0.005,\"fLabelSize\":0.035,\"fTickLength\":0.03,\"fTitleOffset\":1,\"fTitleSize\":0.035,\"fTitleColor\":1,\"fTitleFont\":42,\"fNbins\":1,\"fXmin\":0,\"fXmax\":1,\"fXbins\":[],\"fFirst\":0,\"fLast\":0,\"fBits2\":0,\"fTimeDisplay\":false,\"fTimeFormat\":\"\",\"fLabels\":null,\"fModLabs\":null},\"fBarOffset\":0,\"fBarWidth\":1000,\"fEntries\":465262.034330309,\"fTsumw\":235.723435652046,\"fTsumw2\":0.119428481190356,\"fTsumwx\":193255.276371883,\"fTsumwx2\":196572006.869806,\"fMaximum\":-1111,\"fMinimum\":-1111,\"fNormFactor\":0,\"fContour\":[],\"fSumw2\":[0,0,0,0,0,0,0,5.5853414152029e-4,4.79996466346271e-5,3.7320574725855e-5,3.04870652813629e-5,2.74069379034706e-5,2.65482900654448e-5,2.62658564820154e-5,2.75652079936601e-5,3.05206707463515e-5,3.117659142731e-5,3.21007836556734e-5,3.27183421262471e-5,3.40735665423033e-5,3.60009058948834e-5,3.70500034365968e-5,3.82739711143139e-5,4.06056616862513e-5,4.18204535610836e-5,4.3454487616853e-5,4.46507058238979e-5,4.7586686958726e-5,5.06159181798771e-5,5.20925983181594e-5,5.31649901859392e-5,5.6300604043569e-5,5.84414371831179e-5,6.1847203978685e-5,6.59916512888138e-5,6.67123015451644e-5,7.14957128166262e-5,7.36453919344806e-5,7.72914565645e-5,8.02423625974737e-5,8.00946304132098e-5,8.85829450301916e-5,8.87450426982529e-5,9.15622621185222e-5,9.45346575093367e-5,9.98789958911299e-5,1.03187892791493e-4,1.06434409653194e-4,1.10329007229106e-4,1.12339582649892e-4,1.19631360561747e-4,1.24297361269738e-4,1.24894540124935e-4,1.30658204867349e-4,1.35584905720914e-4,1.38878878632774e-4,1.39255293210326e-4,1.43127820538528e-4,1.52375717155692e-4,1.57820661434933e-4,1.66330877374277e-4,1.65112699183916e-4,1.69116227180072e-4,1.77264709411557e-4,1.80485599096003e-4,1.8623077774485e-4,2.0715358165516e-4,2.04107265047679e-4,2.00103963873472e-4,2.31473403330105e-4,2.17982910633627e-4,2.20890246662185e-4,2.30966752609623e-4,2.35587613476678e-4,2.34717396669943e-4,2.41004289108669e-4,2.62006059886664e-4,2.66348946802125e-4,2.57613750340509e-4,2.83320960410056e-4,2.81769546531745e-4,2.81098308919232e-4,2.989452105524e-4,3.02203898159084e-4,3.11103527543542e-4,3.01381582158227e-4,3.33780127569748e-4,3.27630588927994e-4,3.11723723738898e-4,3.3846107855479e-4,3.44321349381739e-4,3.51744143335789e-4,3.64505445295643e-4,3.74327346107159e-4,3.92460066408927e-4,3.80603224972005e-4,3.91835533147239e-4,3.98513999791817e-4,4.08325452474644e-4,4.10733534894856e-4,4.05041872064358e-4,4.18783476640864e-4,4.26366551951663e-4,4.42299897201487e-4,4.61142340692658e-4,4.62031053921701e-4,4.96887815654909e-4,4.94203041123404e-4,5.13375660433508e-4,5.24107206882936e-4,5.10750904363958e-4,4.92268137953237e-4,5.76234088901293e-4,5.34141240249222e-4,5.41511078336027e-4,5.5269527574395e-4,5.79299848669528e-4,5.47256372723101e-4,5.56137669698172e-4,5.88873249192332e-4,6.41168190017229e-4,6.12239420523512e-4,6.22186063393983e-4,6.51956500547261e-4,6.4968671477143e-4,6.80884242702671e-4,6.80538665474446e-4,6.72995278651081e-4,6.97681730821577e-4,7.27925047353295e-4,8.06808511641103e-4,6.88479841807454e-4,7.72036757932983e-4,7.7100751889637e-4,7.774956710091e-4,7.52365536157556e-4,8.15405422307879e-4,8.06608525221133e-4,8.25756955861104e-4,8.02115935199654e-4,8.06834584136421e-4,8.90511454395437e-4,8.51593291130653e-4,9.21005680751875e-4,8.78434069023074e-4,8.96517216673135e-4,0.00100967314271572,9.72544937819565e-4,9.09178956855854e-4,0.00100280383363605,9.32012270070476e-4,0.0010117977738481,0.00103288794941305,9.98452081703073e-4,0.00102552173150312,0.00102747877573229,0.00111715534708008,0.00103103091367127,0.00110570037255709,0.001090318660296,0.00113032838601686,0.00103443803793875,0.00115210372383814,0.00119498798264396,0.00120060188026748,0.00133202481205522,0.00129877683570337,0.00122574545177184,0.00116882655273953,0.0012859727708208,0.00124490281904221,0.00120790449402007,0.00133439658375359,0.0014760318778524,0.00127940721440871,0.00139742092692198,0.0013683720690832,0.00135196376486767,0.00146291674252681,0.0014969203331334,0.00141698699712128,0.00161649578141562,0.00142734376720044,0.00166594852738971,0.00159853692099203,0.0015872908191376,0.0016278174589838,0.00145257376743358,0.00181081245703666,0.00176389000857193,0.00184086554059105,0.00182387041778273,0.00173797991618644,0.00149410268666018,0.00191900526980116,0.00173499048753624,0.00194075936288066,0.00179806302687623,0.00187712343227239,0.00193404995457684,2.26906504540448e-7,2.16676907370414e-5],\"fOption\":\"\",\"fFunctions\":{\"_typename\":\"TList\",\"name\":\"TList\",\"arr\":[{\"_typename\":\"TF1\",\"fUniqueID\":0,\"fBits\":1024,\"fName\":\"fit_mjj\",\"fTitle\":\"[5]*TMath::Exp(-[6]*(x))  + [0]\\/(1 + [1]*TMath::Exp(-[2]*(x-[3]))) + [4] \",\"fLineColor\":2,\"fLineStyle\":1,\"fLineWidth\":2,\"fFillColor\":19,\"fFillStyle\":0,\"fMarkerColor\":1,\"fMarkerStyle\":1,\"fMarkerSize\":1,\"fXmin\":110,\"fXmax\":1000,\"fNpar\":7,\"fNdim\":1,\"fNpx\":100,\"fType\":0,\"fNpfits\":123,\"fNDF\":116,\"fChisquare\":116.80937558501,\"fMinimum\":-1111,\"fMaximum\":-1111,\"fParErrors\":[1449.34453930191,2397.80735686858,0.0131517767242668,2774.73588317909,0.385037631782478,6570.38669607263,0.309644933737224],\"fParMin\":[0,0,0,0,0,0,0],\"fParMax\":[0,0,0,0,0,0,0],\"fSave\":[1.16132480657485,1.09188455784277,1.05557049936641,1.03804290008947,1.03113316157695,1.03018904705829,1.03256194435337,1.03674488133082,1.04188135246285,1.04748544053518,1.05328233830236,1.05911747627435,1.06490474353694,1.07059698448429,1.0761691887494,1.08160891392117,1.08691082960295,1.09207360985309,1.09709816374255,1.10198662836226,1.10674179625489,1.11136679035708,1.11586487994557,1.1202393768988,1.12449357769339,1.12863073143134,1.13265402267131,1.13656656266729,1.14037138537049,1.1440714461188,1.14766962183155,1.15116871203679,1.15457144034815,1.15788045617403,1.16109833653562,1.16422758792424,1.16727064815898,1.17022988822271,1.17310761406503,1.17590606836565,1.17862743225553,1.18127382699437,1.18384731560453,1.18634990446156,1.18878354484233,1.19115013443141,1.19345151878681,1.19568949276611,1.19786580191379,1.19998214381111,1.20204016938915,1.20404148420634,1.20598764969109,1.20788018435076,1.20972056494765,1.21151022764301,1.21325056910989,1.21494294761569,1.21658868407515,1.21818906307471,1.21974533386888,1.22125871134947,1.22273037698833,1.22416147975441,1.22555313700572,1.226906435357,1.22822243152362,1.22950215314247,1.23074659957038,1.23195674266074,1.23313352751886,1.23427787323667,1.23539067360733,1.23647279782032,1.23752509113739,1.23854837555016,1.23954345041959,1.24051109309799,1.241452059534,1.24236708486096,1.24325688396919,1.24412215206254,1.24496356519976,1.24578178082094,1.24657743825959,1.24735115924061,1.24810354836464,1.24883519357915,1.24954666663649,1.25023852353952,1.25091130497491,1.25156553673458,1.25220173012553,1.2528203823685,1.25342197698561,1.25400698417736,1.25457586118933,1.25512905266872,1.2556669910112,1.25619009669814,1.25669877862459,110,1000],\"fNormalized\":false,\"fNormIntegral\":0,\"fFormula\":{\"_typename\":\"TFormula\",\"fUniqueID\":0,\"fBits\":1024,\"fName\":\"fit_mjj\",\"fTitle\":\"[5]*TMath::Exp(-[6]*(x))  + [0]\\/(1 + [1]*TMath::Exp(-[2]*(x-[3]))) + [4] \",\"fClingParameters\":[-169.163713075161,282.939441845308,-0.00314232579971676,-115.855580521028,1.27463642279484,188.258056425703,0.0631951181793435],\"fAllParametersSetted\":true,\"fParams\":[{\"$pair\":\"pair<TString,int,TFormulaParamOrder>\",\"first\":\"p0\",\"second\":0},{\"$pair\":\"pair<TString,int,TFormulaParamOrder>\",\"first\":\"p1\",\"second\":1},{\"$pair\":\"pair<TString,int,TFormulaParamOrder>\",\"first\":\"p2\",\"second\":2},{\"$pair\":\"pair<TString,int,TFormulaParamOrder>\",\"first\":\"p3\",\"second\":3},{\"$pair\":\"pair<TString,int,TFormulaParamOrder>\",\"first\":\"p4\",\"second\":4},{\"$pair\":\"pair<TString,int,TFormulaParamOrder>\",\"first\":\"p5\",\"second\":5},{\"$pair\":\"pair<TString,int,TFormulaParamOrder>\",\"first\":\"p6\",\"second\":6}],\"fFormula\":\"[p5]*TMath::Exp(-[p6]*(x))+[p0]\\/(1+[p1]*TMath::Exp(-[p2]*(x-[p3])))+[p4]\",\"fNdim\":1,\"fLinearParts\":[],\"fVectorized\":false},\"fParams\":null,\"fComposition_ptr\":null},{\"_typename\":\"TPaveStats\",\"fUniqueID\":0,\"fBits\":9,\"fLineColor\":1,\"fLineStyle\":1,\"fLineWidth\":1,\"fFillColor\":0,\"fFillStyle\":1001,\"fX1\":1282.50003673136,\"fY1\":1.23564169368108,\"fX2\":1645.00004753471,\"fY2\":1.52853453304401,\"fX1NDC\":0.780000016093254,\"fY1NDC\":0.775000005960464,\"fX2NDC\":0.980000019073486,\"fY2NDC\":0.935000002384186,\"fBorderSize\":1,\"fInit\":1,\"fShadowColor\":1,\"fCornerRadius\":0,\"fOption\":\"brNDC\",\"fName\":\"stats\",\"fTextAngle\":0,\"fTextSize\":0,\"fTextAlign\":12,\"fTextColor\":1,\"fTextFont\":42,\"fLabel\":\"\",\"fLongest\":18,\"fMargin\":0.05,\"fLines\":{\"_typename\":\"TList\",\"name\":\"TList\",\"arr\":[{\"_typename\":\"TLatex\",\"fUniqueID\":0,\"fBits\":0,\"fName\":\"\",\"fTitle\":\"ratio_mjj_zoom2\",\"fTextAngle\":0,\"fTextSize\":0.0368,\"fTextAlign\":0,\"fTextColor\":0,\"fTextFont\":0,\"fX\":0,\"fY\":0,\"fLineColor\":1,\"fLineStyle\":1,\"fLineWidth\":2,\"fLimitFactorSize\":3,\"fOriginSize\":0.0368000008165836},{\"_typename\":\"TLatex\",\"fUniqueID\":0,\"fBits\":0,\"fName\":\"\",\"fTitle\":\"Entries = 465262 \",\"fTextAngle\":0,\"fTextSize\":0,\"fTextAlign\":0,\"fTextColor\":0,\"fTextFont\":0,\"fX\":0,\"fY\":0,\"fLineColor\":1,\"fLineStyle\":1,\"fLineWidth\":2,\"fLimitFactorSize\":3,\"fOriginSize\":0.04},{\"_typename\":\"TLatex\",\"fUniqueID\":0,\"fBits\":0,\"fName\":\"\",\"fTitle\":\"Mean  =  819.8\",\"fTextAngle\":0,\"fTextSize\":0,\"fTextAlign\":0,\"fTextColor\":0,\"fTextFont\":0,\"fX\":0,\"fY\":0,\"fLineColor\":1,\"fLineStyle\":1,\"fLineWidth\":2,\"fLimitFactorSize\":3,\"fOriginSize\":0.04},{\"_typename\":\"TLatex\",\"fUniqueID\":0,\"fBits\":0,\"fName\":\"\",\"fTitle\":\"Std Dev   =  402.2\",\"fTextAngle\":0,\"fTextSize\":0,\"fTextAlign\":0,\"fTextColor\":0,\"fTextFont\":0,\"fX\":0,\"fY\":0,\"fLineColor\":1,\"fLineStyle\":1,\"fLineWidth\":2,\"fLimitFactorSize\":3,\"fOriginSize\":0.04}],\"opt\":[\"\",\"\",\"\",\"\"]},\"fOptFit\":0,\"fOptStat\":1111,\"fFitFormat\":\"5.4g\",\"fStatFormat\":\"6.4g\",\"fParent\":{\"$ref\":3}}],\"opt\":[\"\",\"brNDC\"]},\"fBufferSize\":0,\"fBuffer\":[],\"fBinStatErrOpt\":0,\"fStatOverflows\":2,\"fArray\":[0,0,0,0,0,0,0,1.13506706598255,1.14401445559754,1.14502871171492,1.09317386532979,1.06430973745548,1.05051735697504,1.029627984046,1.01797449868127,1.0300429344424,1.02890801202307,1.03369421160255,1.02931680315318,1.0401410276155,1.05428939466806,1.05500259372162,1.0560962195689,1.070047816858,1.07181470880856,1.07505086869329,1.06951415205001,1.08602950216646,1.09410020447591,1.08958214625668,1.0859581177715,1.09558779551452,1.09549672413003,1.10999717781787,1.12518067892515,1.10986974163516,1.12396350475893,1.12778517807972,1.13365031941799,1.13488738430105,1.11703475037163,1.14860676361236,1.13924554317514,1.13213134137069,1.13786367560026,1.14770642048239,1.14808925256216,1.14969337196236,1.15475893832766,1.14565151017197,1.16405477834382,1.17051522305433,1.16253081923741,1.16760420008944,1.16526252816114,1.16412749730657,1.15460412008481,1.14791688698986,1.17161078401765,1.1785952297748,1.19577639316938,1.17065341786362,1.17291881504574,1.1834402895516,1.17827445545692,1.18816774710457,1.23379664885672,1.20365354162644,1.18845053788039,1.24815826165593,1.20431735265465,1.20157746107197,1.21646142028802,1.2057590194877,1.19716208950807,1.19717204934742,1.23412564279615,1.2258378150117,1.19734032629233,1.24213007577996,1.22899235781542,1.21068701358627,1.23697576261192,1.22301094457177,1.22831319570311,1.20213969679,1.24896601418177,1.22551134018408,1.18695300182698,1.22475252838591,1.21666840086358,1.22122034988195,1.23079463171627,1.23391716897666,1.2556902604975,1.2265191655718,1.23051767703066,1.2299377502273,1.22743042243504,1.23268838583165,1.21050275894636,1.21622922796755,1.2243438787435,1.22518197997502,1.23707462761313,1.24108269766957,1.26661769516239,1.2542188835681,1.26426981512049,1.25556958148953,1.24869194500372,1.21617415071926,1.29377055736759,1.24283425295109,1.23841897650546,1.2425231906536,1.25232090198001,1.21499107744689,1.22223041289232,1.23269409134914,1.28092114135661,1.23383057002136,1.24538332373806,1.26820004872242,1.25385865589412,1.27700509767739,1.25353944620713,1.24095138419224,1.25537037521149,1.26791603557125,1.32257240545892,1.22881468698969,1.28772329752506,1.27477716495498,1.25682695972795,1.2509702746208,1.28564868938777,1.27330392617509,1.27659665424815,1.24980989735663,1.24295278210318,1.28826419998973,1.2594047755238,1.27902382746577,1.25407649724381,1.25552954121044,1.32413091773943,1.28766529188935,1.25845097041709,1.29103183407737,1.23802304880273,1.28371311636486,1.29671465953308,1.26225482369053,1.27133900460694,1.26135211379934,1.29055077516738,1.24449032577279,1.28160463266415,1.25079078832603,1.28886349596845,1.22396209163646,1.28564388928572,1.26859824970206,1.28684858717614,1.32607493137333,1.29133501491004,1.26688965740629,1.2372508945954,1.2865222094711,1.25057467731377,1.22759009017891,1.25760270891215,1.33386743943373,1.25032022905142,1.28555430567611,1.27385966183009,1.26302821054472,1.2972050244864,1.31069644168425,1.25282836094824,1.34531223182638,1.25702693965409,1.34863581031862,1.31236841197977,1.28451389088131,1.28367821617484,1.22608000551114,1.35217417476917,1.31652074913468,1.33800497226607,1.33045481493461,1.2898835079213,1.18680113101262,1.33793723125715,1.27858046297028,1.33590569198741,1.27415586760116,1.30523716429485,1.32580380605433,1.34393577728728,1.34498084933576]},{\"_typename\":\"TPaveText\",\"fUniqueID\":0,\"fBits\":9,\"fLineColor\":1,\"fLineStyle\":1,\"fLineWidth\":1,\"fFillColor\":0,\"fFillStyle\":0,\"fX1\":712.604165736896,\"fY1\":1.52667293033699,\"fX2\":837.395834263104,\"fY2\":1.63836935462455,\"fX1NDC\":0.465574712643678,\"fY1NDC\":0.933983055615829,\"fX2NDC\":0.534425287356322,\"fY2NDC\":0.995000004768372,\"fBorderSize\":0,\"fInit\":1,\"fShadowColor\":1,\"fCornerRadius\":0,\"fOption\":\"blNDC\",\"fName\":\"title\",\"fTextAngle\":0,\"fTextSize\":0,\"fTextAlign\":22,\"fTextColor\":1,\"fTextFont\":42,\"fLabel\":\"\",\"fLongest\":3,\"fMargin\":0.05,\"fLines\":{\"_typename\":\"TList\",\"name\":\"TList\",\"arr\":[{\"_typename\":\"TLatex\",\"fUniqueID\":0,\"fBits\":0,\"fName\":\"\",\"fTitle\":\"mjj\",\"fTextAngle\":0,\"fTextSize\":0,\"fTextAlign\":0,\"fTextColor\":0,\"fTextFont\":0,\"fX\":0,\"fY\":0,\"fLineColor\":1,\"fLineStyle\":1,\"fLineWidth\":2,\"fLimitFactorSize\":3,\"fOriginSize\":0.0518644079566002}],\"opt\":[\"\"]}},{\"_typename\":\"TStyle\",\"fUniqueID\":0,\"fBits\":0,\"fName\":\"Modern\",\"fTitle\":\"Modern Style\",\"fLineColor\":1,\"fLineStyle\":1,\"fLineWidth\":1,\"fFillColor\":19,\"fFillStyle\":1001,\"fMarkerColor\":1,\"fMarkerStyle\":1,\"fMarkerSize\":1,\"fTextAngle\":0,\"fTextSize\":0.05,\"fTextAlign\":11,\"fTextColor\":1,\"fTextFont\":62,\"fXaxis\":{\"_typename\":\"TAttAxis\",\"fNdivisions\":510,\"fAxisColor\":1,\"fLabelColor\":1,\"fLabelFont\":42,\"fLabelOffset\":0.005,\"fLabelSize\":0.035,\"fTickLength\":0.03,\"fTitleOffset\":1,\"fTitleSize\":0.035,\"fTitleColor\":1,\"fTitleFont\":42},\"fYaxis\":{\"_typename\":\"TAttAxis\",\"fNdivisions\":510,\"fAxisColor\":1,\"fLabelColor\":1,\"fLabelFont\":42,\"fLabelOffset\":0.005,\"fLabelSize\":0.035,\"fTickLength\":0.03,\"fTitleOffset\":0,\"fTitleSize\":0.035,\"fTitleColor\":1,\"fTitleFont\":42},\"fZaxis\":{\"_typename\":\"TAttAxis\",\"fNdivisions\":510,\"fAxisColor\":1,\"fLabelColor\":1,\"fLabelFont\":42,\"fLabelOffset\":0.005,\"fLabelSize\":0.035,\"fTickLength\":0.03,\"fTitleOffset\":1,\"fTitleSize\":0.035,\"fTitleColor\":1,\"fTitleFont\":42},\"fBarWidth\":1,\"fBarOffset\":0,\"fColorModelPS\":0,\"fDrawBorder\":0,\"fOptLogx\":0,\"fOptLogy\":0,\"fOptLogz\":0,\"fOptDate\":0,\"fOptStat\":1111,\"fOptTitle\":1,\"fOptFile\":0,\"fOptFit\":0,\"fShowEventStatus\":0,\"fShowEditor\":0,\"fShowToolBar\":0,\"fNumberContours\":20,\"fAttDate\":{\"_typename\":\"TAttText\",\"fTextAngle\":0,\"fTextSize\":0.025,\"fTextAlign\":11,\"fTextColor\":1,\"fTextFont\":62},\"fDateX\":0.01,\"fDateY\":0.01,\"fEndErrorSize\":2,\"fErrorX\":0.5,\"fFuncColor\":2,\"fFuncStyle\":1,\"fFuncWidth\":2,\"fGridColor\":0,\"fGridStyle\":3,\"fGridWidth\":1,\"fLegendBorderSize\":1,\"fLegendFillColor\":0,\"fLegendFont\":42,\"fLegendTextSize\":0,\"fHatchesLineWidth\":1,\"fHatchesSpacing\":1,\"fFrameFillColor\":0,\"fFrameLineColor\":1,\"fFrameFillStyle\":1001,\"fFrameLineStyle\":1,\"fFrameLineWidth\":1,\"fFrameBorderSize\":1,\"fFrameBorderMode\":0,\"fHistFillColor\":0,\"fHistLineColor\":602,\"fHistFillStyle\":1001,\"fHistLineStyle\":1,\"fHistLineWidth\":1,\"fHistMinimumZero\":false,\"fHistTopMargin\":0.05,\"fCanvasPreferGL\":false,\"fCanvasColor\":0,\"fCanvasBorderSize\":2,\"fCanvasBorderMode\":0,\"fCanvasDefH\":500,\"fCanvasDefW\":700,\"fCanvasDefX\":10,\"fCanvasDefY\":10,\"fPadColor\":0,\"fPadBorderSize\":2,\"fPadBorderMode\":0,\"fPadBottomMargin\":0.1,\"fPadTopMargin\":0.1,\"fPadLeftMargin\":0.1,\"fPadRightMargin\":0.1,\"fPadGridX\":false,\"fPadGridY\":false,\"fPadTickX\":0,\"fPadTickY\":0,\"fPaperSizeX\":20,\"fPaperSizeY\":26,\"fScreenFactor\":1,\"fStatColor\":0,\"fStatTextColor\":1,\"fStatBorderSize\":1,\"fStatFont\":42,\"fStatFontSize\":0,\"fStatStyle\":1001,\"fStatFormat\":\"6.4g\",\"fStatX\":0.98,\"fStatY\":0.935,\"fStatW\":0.2,\"fStatH\":0.16,\"fStripDecimals\":true,\"fTitleAlign\":23,\"fTitleColor\":0,\"fTitleTextColor\":1,\"fTitleBorderSize\":0,\"fTitleFont\":42,\"fTitleFontSize\":0.05,\"fTitleStyle\":0,\"fTitleX\":0.5,\"fTitleY\":0.995,\"fTitleW\":0,\"fTitleH\":0,\"fLegoInnerR\":0.5,\"fLineStyle\":[\"\",\"  \",\" 12 12\",\" 4 8\",\" 12 16 4 16\",\" 20 12 4 12\",\" 20 12 4 12 4 12 4 12\",\" 20 20\",\" 20 12 4 12 4 12\",\" 80 20\",\" 80 40 4 40\",\"  \",\"  \",\"  \",\"  \",\"  \",\"  \",\"  \",\"  \",\"  \",\"  \",\"  \",\"  \",\"  \",\"  \",\"  \",\"  \",\"  \",\"  \",\"  \"],\"fHeaderPS\":\"\",\"fTitlePS\":\"\",\"fFitFormat\":\"5.4g\",\"fPaintTextFormat\":\"g\",\"fLineScalePS\":3,\"fJoinLinePS\":0,\"fCapLinePS\":0,\"fTimeOffset\":788918400,\"fImageScaling\":1}],\"opt\":[\"\",\"\",\"blNDC\",\"\"]},\"fExecs\":null,\"fName\":\"c1_n3\",\"fTitle\":\"c1_n3\",\"fNumPaletteColor\":0,\"fNextPaletteColor\":0,\"fDISPLAY\":\"$DISPLAY\",\"fDoubleBuffer\":0,\"fRetained\":true,\"fXsizeUser\":0,\"fYsizeUser\":0,\"fXsizeReal\":20,\"fYsizeReal\":14.28571,\"fWindowTopX\":0,\"fWindowTopY\":0,\"fWindowWidth\":0,\"fWindowHeight\":0,\"fCw\":696,\"fCh\":472,\"fCatt\":{\"_typename\":\"TAttCanvas\",\"fXBetween\":2,\"fYBetween\":2,\"fTitleFromTop\":1.2,\"fXdate\":0.2,\"fYdate\":0.3,\"fAdate\":1},\"kMoveOpaque\":true,\"kResizeOpaque\":true,\"fHighLightColor\":2,\"fBatch\":true,\"kShowEventStatus\":false,\"kAutoExec\":true,\"kMenuBar\":true});\n",
       "            Core.draw(\"root_plot_1617377203006\", obj, \"\");\n",
       "        }\n",
       "    );\n",
       "}\n",
       "</script>\n"
      ],
      "text/plain": [
       "<IPython.core.display.HTML object>"
      ]
     },
     "metadata": {},
     "output_type": "display_data"
    }
   ],
   "source": [
    "c = R.TCanvas()\n",
    "h.Draw()\n",
    "c.Draw()"
   ]
  },
  {
   "cell_type": "code",
   "execution_count": 43,
   "id": "material-outline",
   "metadata": {
    "ExecuteTime": {
     "end_time": "2021-04-02T15:26:45.600465Z",
     "start_time": "2021-04-02T15:26:45.492882Z"
    }
   },
   "outputs": [
    {
     "data": {
      "text/plain": [
       "531"
      ]
     },
     "execution_count": 43,
     "metadata": {},
     "output_type": "execute_result"
    }
   ],
   "source": [
    "func1.Write()"
   ]
  },
  {
   "cell_type": "code",
   "execution_count": 151,
   "id": "smooth-meter",
   "metadata": {
    "ExecuteTime": {
     "end_time": "2021-04-02T15:40:57.335487Z",
     "start_time": "2021-04-02T15:40:57.143553Z"
    }
   },
   "outputs": [
    {
     "name": "stdout",
     "output_type": "stream",
     "text": [
      "183.02635671918398\n",
      " FCN=0.0257034 FROM HESSE     STATUS=NOT POSDEF     50 CALLS        1849 TOTAL\n",
      "                     EDM=9.02895e-06    STRATEGY= 1      ERR MATRIX NOT POS-DEF\n",
      "  EXT PARAMETER                APPROXIMATE        STEP         FIRST   \n",
      "  NO.   NAME      VALUE            ERROR          SIZE      DERIVATIVE \n",
      "   1  p0          -6.44436e-01   6.50560e+00   5.88944e-05   6.24484e-04\n",
      "   2  p1           3.10144e+00   3.97535e+01   3.51222e-04   1.38450e-04\n",
      "   3  p2          -2.33138e-03   1.77101e-02   3.61538e-07  -1.64326e-01\n",
      "   4  p3           1.63974e+02   5.56029e+03   4.84989e-02  -1.00108e-06\n",
      "   5  p4           1.03191e+00   3.75730e-01   7.39154e-06   7.07421e-03\n",
      "   6  p5           4.06742e-01   1.59865e+01   2.99563e-04  -1.71200e-04\n",
      "   7  p6           1.71242e-02   3.63138e-01   5.33807e-06  -7.46808e-04\n",
      "                               ERR DEF= 0.5\n"
     ]
    }
   ],
   "source": [
    "f.cd(\"/\")\n",
    "f.cd(\"mjj100_njet4\")\n",
    "h = R.gDirectory.Get(\"ratio_mjj_zoom2\")\n",
    "\n",
    "#func1 = R.TF1(\"fit_mjj\", \"1 + [0]/(1 + [1]*TMath::Exp(-[2]*(x-[3])))\", 150, 1400)\n",
    "\n",
    "func1 = R.TF1(\"fit_mjj\", \"[5]*TMath::Exp(-[6]*(x))  + [0]/(1 + [1]*TMath::Exp(-[2]*(x-[3]))) + [4] \", 105, 1400)\n",
    "# #func1.SetLineColor(R.kRed)\n",
    "\n",
    "# func1.SetParameter(1,500)\n",
    "func1.SetParameter(0,1)\n",
    "# func1.SetParameter(1,1)\n",
    "# func1.SetParameter(2,)\n",
    "func1.SetParameter(3,300)\n",
    "func1.SetParameter(4,1.2)\n",
    "func1.SetParameter(5,10)\n",
    "func1.SetParameter(6,0.01)\n",
    "\n",
    "s = h.Fit(func1, \"RLS\")\n",
    "\n",
    "print(s.Chi2())"
   ]
  },
  {
   "cell_type": "code",
   "execution_count": 154,
   "id": "amino-montana",
   "metadata": {
    "ExecuteTime": {
     "end_time": "2021-04-02T15:41:42.094664Z",
     "start_time": "2021-04-02T15:41:41.969523Z"
    },
    "scrolled": false
   },
   "outputs": [
    {
     "data": {
      "text/html": [
       "\n",
       "<div id=\"root_plot_1617378102087\"\n",
       "     style=\"width: 696px; height: 472px\">\n",
       "</div>\n",
       "<script>\n",
       "if (typeof require !== 'undefined') {\n",
       "\n",
       "    // All requirements met (we are in jupyter notebooks or we loaded requirejs before).\n",
       "    display_root_plot_1617378102087();\n",
       "\n",
       "} else {\n",
       "\n",
       "    // We are in jupyterlab, we need to insert requirejs and configure it.\n",
       "    // Jupyterlab might be installed in a different base_url so we need to know it.\n",
       "    try {\n",
       "        var base_url = JSON.parse(document.getElementById('jupyter-config-data').innerHTML).baseUrl;\n",
       "    } catch(_) {\n",
       "        var base_url = '/';\n",
       "    }\n",
       "\n",
       "    // Try loading a local version of requirejs and fallback to cdn if not possible.\n",
       "    requirejs_load(base_url + 'static/components/requirejs/require.js', requirejs_success(base_url), function(){\n",
       "        requirejs_load('https://cdnjs.cloudflare.com/ajax/libs/require.js/2.2.0/require.min.js', requirejs_success(base_url), function(){\n",
       "            document.getElementById(\"root_plot_1617378102087\").innerHTML = \"Failed to load requireJs\";\n",
       "        });\n",
       "    });\n",
       "}\n",
       "\n",
       "function requirejs_load(src, on_load, on_error) {\n",
       "    var script = document.createElement('script');\n",
       "    script.src = src;\n",
       "    script.onload = on_load;\n",
       "    script.onerror = on_error;\n",
       "    document.head.appendChild(script);\n",
       "}\n",
       "\n",
       "function requirejs_success(base_url) {\n",
       "    return function() {\n",
       "        require.config({\n",
       "            baseUrl: base_url + 'static/'\n",
       "        });\n",
       "        display_root_plot_1617378102087();\n",
       "    }\n",
       "}\n",
       "\n",
       "function display_root_plot_1617378102087() {\n",
       "    require(['scripts/JSRootCore'],\n",
       "        function(Core) {\n",
       "            var obj = Core.JSONR_unref({\"_typename\":\"TCanvas\",\"fUniqueID\":0,\"fBits\":3342344,\"fLineColor\":1,\"fLineStyle\":1,\"fLineWidth\":1,\"fFillColor\":0,\"fFillStyle\":1001,\"fLeftMargin\":0.1,\"fRightMargin\":0.1,\"fBottomMargin\":0.1,\"fTopMargin\":0.1,\"fXfile\":2,\"fYfile\":2,\"fAfile\":1,\"fXstat\":0.99,\"fYstat\":0.99,\"fAstat\":2,\"fFrameFillColor\":0,\"fFrameLineColor\":1,\"fFrameFillStyle\":1001,\"fFrameLineStyle\":1,\"fFrameLineWidth\":1,\"fFrameBorderSize\":1,\"fFrameBorderMode\":0,\"fX1\":-262.500027008356,\"fY1\":0.850456295336223,\"fX2\":3362.50002700836,\"fY2\":1.18282432681107,\"fXtoAbsPixelk\":50.4000544345858,\"fXtoPixelk\":50.4000544345858,\"fXtoPixel\":0.191999997138977,\"fYtoAbsPixelk\":1679.74367569546,\"fYtoPixelk\":1679.74367569546,\"fYtoPixel\":-1420.11251174052,\"fUtoAbsPixelk\":5e-5,\"fUtoPixelk\":5e-5,\"fUtoPixel\":696,\"fVtoAbsPixelk\":472.00005,\"fVtoPixelk\":472,\"fVtoPixel\":-472,\"fAbsPixeltoXk\":-262.500027008356,\"fPixeltoXk\":-262.500027008356,\"fPixeltoX\":5.20833341094355,\"fAbsPixeltoYk\":1.18282432681107,\"fPixeltoYk\":0.850456295336223,\"fPixeltoY\":-7.04169558209425e-4,\"fXlowNDC\":0,\"fYlowNDC\":0,\"fXUpNDC\":1,\"fYUpNDC\":1,\"fWNDC\":1,\"fHNDC\":1,\"fAbsXlowNDC\":0,\"fAbsYlowNDC\":0,\"fAbsWNDC\":1,\"fAbsHNDC\":1,\"fUxmin\":100,\"fUymin\":0.883693100464776,\"fUxmax\":3000,\"fUymax\":1.14958752168252,\"fTheta\":30,\"fPhi\":30,\"fAspectRatio\":0,\"fNumber\":0,\"fTickx\":0,\"fTicky\":0,\"fLogx\":0,\"fLogy\":0,\"fLogz\":0,\"fPadPaint\":0,\"fCrosshair\":0,\"fCrosshairPos\":0,\"fBorderSize\":2,\"fBorderMode\":0,\"fModified\":false,\"fGridx\":false,\"fGridy\":false,\"fAbsCoord\":false,\"fEditable\":true,\"fFixedAspectRatio\":false,\"fPrimitives\":{\"_typename\":\"TList\",\"name\":\"TList\",\"arr\":[{\"_typename\":\"TFrame\",\"fUniqueID\":0,\"fBits\":8,\"fLineColor\":1,\"fLineStyle\":1,\"fLineWidth\":1,\"fFillColor\":0,\"fFillStyle\":1001,\"fX1\":100,\"fY1\":0.883693100464776,\"fX2\":3000,\"fY2\":1.14958752168252,\"fBorderSize\":1,\"fBorderMode\":0},{\"_typename\":\"TH1D\",\"fUniqueID\":0,\"fBits\":8,\"fName\":\"ratio_mjj_morebins_100\",\"fTitle\":\"mjj\",\"fLineColor\":602,\"fLineStyle\":1,\"fLineWidth\":1,\"fFillColor\":0,\"fFillStyle\":1001,\"fMarkerColor\":1,\"fMarkerStyle\":1,\"fMarkerSize\":1,\"fNcells\":62,\"fXaxis\":{\"_typename\":\"TAxis\",\"fUniqueID\":0,\"fBits\":0,\"fName\":\"xaxis\",\"fTitle\":\"\",\"fNdivisions\":510,\"fAxisColor\":1,\"fLabelColor\":1,\"fLabelFont\":42,\"fLabelOffset\":0.005,\"fLabelSize\":0.035,\"fTickLength\":0.03,\"fTitleOffset\":1,\"fTitleSize\":0.035,\"fTitleColor\":1,\"fTitleFont\":42,\"fNbins\":60,\"fXmin\":100,\"fXmax\":3000,\"fXbins\":[],\"fFirst\":0,\"fLast\":0,\"fBits2\":0,\"fTimeDisplay\":false,\"fTimeFormat\":\"\",\"fLabels\":null,\"fModLabs\":null},\"fYaxis\":{\"_typename\":\"TAxis\",\"fUniqueID\":0,\"fBits\":0,\"fName\":\"yaxis\",\"fTitle\":\"\",\"fNdivisions\":510,\"fAxisColor\":1,\"fLabelColor\":1,\"fLabelFont\":42,\"fLabelOffset\":0.005,\"fLabelSize\":0.035,\"fTickLength\":0.03,\"fTitleOffset\":0,\"fTitleSize\":0.035,\"fTitleColor\":1,\"fTitleFont\":42,\"fNbins\":1,\"fXmin\":0,\"fXmax\":1,\"fXbins\":[],\"fFirst\":0,\"fLast\":0,\"fBits2\":0,\"fTimeDisplay\":false,\"fTimeFormat\":\"\",\"fLabels\":null,\"fModLabs\":null},\"fZaxis\":{\"_typename\":\"TAxis\",\"fUniqueID\":0,\"fBits\":0,\"fName\":\"zaxis\",\"fTitle\":\"\",\"fNdivisions\":510,\"fAxisColor\":1,\"fLabelColor\":1,\"fLabelFont\":42,\"fLabelOffset\":0.005,\"fLabelSize\":0.035,\"fTickLength\":0.03,\"fTitleOffset\":1,\"fTitleSize\":0.035,\"fTitleColor\":1,\"fTitleFont\":42,\"fNbins\":1,\"fXmin\":0,\"fXmax\":1,\"fXbins\":[],\"fFirst\":0,\"fLast\":0,\"fBits2\":0,\"fTimeDisplay\":false,\"fTimeFormat\":\"\",\"fLabels\":null,\"fModLabs\":null},\"fBarOffset\":0,\"fBarWidth\":1000,\"fEntries\":208463.962415921,\"fTsumw\":60.8148080806053,\"fTsumw2\":0.0177413920325559,\"fTsumwx\":96409.2279866668,\"fTsumwx2\":194659385.892086,\"fMaximum\":-1111,\"fMinimum\":-1111,\"fNormFactor\":0,\"fContour\":[],\"fSumw2\":[0,8.10047591038857e-6,5.63320981098804e-6,5.86472053896435e-6,6.81265840307959e-6,8.30413543087533e-6,9.99898382541836e-6,1.2323300633019e-5,1.45700221011882e-5,1.70891024890635e-5,2.00773824238519e-5,2.28573093129142e-5,2.63620870684406e-5,3.01964213915251e-5,3.41321253432931e-5,3.93207938760149e-5,4.39443554283296e-5,4.87626878608427e-5,5.4282803709147e-5,6.14337507038323e-5,6.65280081790226e-5,7.35450718460065e-5,8.09296432448379e-5,8.82494615479884e-5,9.71254801609358e-5,1.03631265466576e-4,1.12650653658193e-4,1.23231973384118e-4,1.41206959849562e-4,1.44422133719519e-4,1.56018995407314e-4,1.76220915298013e-4,1.9249013764346e-4,1.96100554104328e-4,2.21662713519474e-4,2.36266215692931e-4,2.55970876332456e-4,2.6141294869753e-4,2.91191909004188e-4,3.30939950802748e-4,3.37208470318058e-4,3.71698677393692e-4,3.72044319411887e-4,3.9223671581368e-4,4.5310650371751e-4,4.65183133411854e-4,4.95324397808261e-4,5.71510275522233e-4,6.47692750645023e-4,6.39843627079888e-4,6.35460374307009e-4,7.20026304292058e-4,7.20739886225648e-4,8.14590971105142e-4,7.90584237097307e-4,8.59428030644219e-4,0.00105304595194241,0.00119819982504868,0.00112633681615705,0.00125118719601312,6.08137478079839e-6,1.01371291632774e-4],\"fOption\":\"\",\"fFunctions\":{\"_typename\":\"TList\",\"name\":\"TList\",\"arr\":[{\"_typename\":\"TPaveStats\",\"fUniqueID\":0,\"fBits\":9,\"fLineColor\":1,\"fLineStyle\":1,\"fLineWidth\":1,\"fFillColor\":0,\"fFillStyle\":1001,\"fX1\":2565.00007346273,\"fY1\":1.1080415217103,\"fX2\":3290.00009506941,\"fY2\":1.16122040555763,\"fX1NDC\":0.780000016093254,\"fY1NDC\":0.775000005960464,\"fX2NDC\":0.980000019073486,\"fY2NDC\":0.935000002384186,\"fBorderSize\":1,\"fInit\":1,\"fShadowColor\":1,\"fCornerRadius\":0,\"fOption\":\"brNDC\",\"fName\":\"stats\",\"fTextAngle\":0,\"fTextSize\":0,\"fTextAlign\":12,\"fTextColor\":1,\"fTextFont\":42,\"fLabel\":\"\",\"fLongest\":22,\"fMargin\":0.05,\"fLines\":{\"_typename\":\"TList\",\"name\":\"TList\",\"arr\":[{\"_typename\":\"TLatex\",\"fUniqueID\":0,\"fBits\":0,\"fName\":\"\",\"fTitle\":\"ratio_mjj_morebins_100\",\"fTextAngle\":0,\"fTextSize\":0.0368,\"fTextAlign\":0,\"fTextColor\":0,\"fTextFont\":0,\"fX\":0,\"fY\":0,\"fLineColor\":1,\"fLineStyle\":1,\"fLineWidth\":2,\"fLimitFactorSize\":3,\"fOriginSize\":0.0368000008165836},{\"_typename\":\"TLatex\",\"fUniqueID\":0,\"fBits\":0,\"fName\":\"\",\"fTitle\":\"Entries = 208464 \",\"fTextAngle\":0,\"fTextSize\":0,\"fTextAlign\":0,\"fTextColor\":0,\"fTextFont\":0,\"fX\":0,\"fY\":0,\"fLineColor\":1,\"fLineStyle\":1,\"fLineWidth\":2,\"fLimitFactorSize\":3,\"fOriginSize\":0.04},{\"_typename\":\"TLatex\",\"fUniqueID\":0,\"fBits\":0,\"fName\":\"\",\"fTitle\":\"Mean  =   1585\",\"fTextAngle\":0,\"fTextSize\":0,\"fTextAlign\":0,\"fTextColor\":0,\"fTextFont\":0,\"fX\":0,\"fY\":0,\"fLineColor\":1,\"fLineStyle\":1,\"fLineWidth\":2,\"fLimitFactorSize\":3,\"fOriginSize\":0.04},{\"_typename\":\"TLatex\",\"fUniqueID\":0,\"fBits\":0,\"fName\":\"\",\"fTitle\":\"Std Dev   =  829.3\",\"fTextAngle\":0,\"fTextSize\":0,\"fTextAlign\":0,\"fTextColor\":0,\"fTextFont\":0,\"fX\":0,\"fY\":0,\"fLineColor\":1,\"fLineStyle\":1,\"fLineWidth\":2,\"fLimitFactorSize\":3,\"fOriginSize\":0.04}],\"opt\":[\"\",\"\",\"\",\"\"]},\"fOptFit\":0,\"fOptStat\":1111,\"fFitFormat\":\"5.4g\",\"fStatFormat\":\"6.4g\",\"fParent\":{\"$ref\":3}},{\"_typename\":\"TF1\",\"fUniqueID\":0,\"fBits\":1024,\"fName\":\"fit_mjj\",\"fTitle\":\"[5]*TMath::Exp(-[6]*(x))  + [0]\\/(1 + [1]*TMath::Exp(-[2]*(x-[3]))) + [4] \",\"fLineColor\":2,\"fLineStyle\":1,\"fLineWidth\":2,\"fFillColor\":19,\"fFillStyle\":0,\"fMarkerColor\":1,\"fMarkerStyle\":1,\"fMarkerSize\":1,\"fXmin\":105,\"fXmax\":1200,\"fNpar\":7,\"fNdim\":1,\"fNpx\":100,\"fType\":0,\"fNpfits\":23,\"fNDF\":16,\"fChisquare\":21.656108145529,\"fMinimum\":-1111,\"fMaximum\":-1111,\"fParErrors\":[6.01708624968479,4.00190892044739,0.103510539641846,25409.1723817969,1.34831577583473,3641829.34343397,4.43422977509856e-16],\"fParMin\":[0,0,0,0,0,0,0],\"fParMax\":[0,0,0,0,0,0,0],\"fSave\":[1.10028700008991,0.944947384440503,0.904778642113405,0.895189051614449,0.893729077366398,0.894440648932595,0.8957422279377,0.897213708828806,0.898743185870155,0.9003005197837,0.901877246560219,0.903470630776044,0.905079434211722,0.906702793607475,0.908339923623278,0.909990038885014,0.911652334261037,0.913325980678158,0.915010125144318,0.916703891966599,0.918406384360963,0.92011668623543,0.921833864083223,0.923556968962965,0.925285038553322,0.927017099271813,0.928752168447759,0.930489256539089,0.932227369382443,0.933965510465723,0.935702683212074,0.937437893264187,0.939170150757789,0.94089847257331,0.942621884554881,0.944339423686064,0.946050140212136,0.94775309969911,0.949447385020253,0.951132098261412,0.952806362537101,0.954469323710046,0.956120152007565,0.957758043529009,0.959382221639267,0.960991938244179,0.962586474944559,0.96416514406635,0.965727289565312,0.967272287805423,0.968799548211021,0.970308513793452,0.971798661553758,0.973269502763612,0.974720583127369,0.976151482828706,0.977561816465852,0.978951232879939,0.980319414881372,0.981666078879576,0.982990974421702,0.984293883646215,0.985574620657412,0.986833030827121,0.988068990029889,0.989282403818006,0.990473206542721,0.991641360427946,0.992786854602634,0.993909704097903,0.995009948814816,0.996087652468509,0.997142901514159,0.998175804060035,0.999186488772615,1.00017510377846,1.00114181556728,1.00208680790032,1.00301028072783,1.00391244911924,1.00479354220918,1.00565380216227,1.00649348315932,1.00731285040733,1.0081121791752,1.00889175385714,1.00965186706511,1.01039281875172,1.01111491536458,1.01181846903292,1.01250379678711,1.01317121981153,1.01382106273103,1.01445365293099,1.0150693199111,1.01566839467235,1.01625120913726,1.01681809560256,1.017369386224,1.01790541253262,1.01842650498164,105,1200],\"fNormalized\":false,\"fNormIntegral\":0,\"fFormula\":{\"_typename\":\"TFormula\",\"fUniqueID\":0,\"fBits\":1024,\"fName\":\"fit_mjj\",\"fTitle\":\"[5]*TMath::Exp(-[6]*(x))  + [0]\\/(1 + [1]*TMath::Exp(-[2]*(x-[3]))) + [4] \",\"fClingParameters\":[-0.205284702092862,0.136163858867628,-0.00309323132200082,-232.689613661426,1.0349189610636,71391.2669117461,0.121148909659152],\"fAllParametersSetted\":true,\"fParams\":[{\"$pair\":\"pair<TString,int,TFormulaParamOrder>\",\"first\":\"p0\",\"second\":0},{\"$pair\":\"pair<TString,int,TFormulaParamOrder>\",\"first\":\"p1\",\"second\":1},{\"$pair\":\"pair<TString,int,TFormulaParamOrder>\",\"first\":\"p2\",\"second\":2},{\"$pair\":\"pair<TString,int,TFormulaParamOrder>\",\"first\":\"p3\",\"second\":3},{\"$pair\":\"pair<TString,int,TFormulaParamOrder>\",\"first\":\"p4\",\"second\":4},{\"$pair\":\"pair<TString,int,TFormulaParamOrder>\",\"first\":\"p5\",\"second\":5},{\"$pair\":\"pair<TString,int,TFormulaParamOrder>\",\"first\":\"p6\",\"second\":6}],\"fFormula\":\"[p5]*TMath::Exp(-[p6]*(x))+[p0]\\/(1+[p1]*TMath::Exp(-[p2]*(x-[p3])))+[p4]\",\"fNdim\":1,\"fLinearParts\":[],\"fVectorized\":false},\"fParams\":null,\"fComposition_ptr\":null}],\"opt\":[\"brNDC\",\"\"]},\"fBufferSize\":0,\"fBuffer\":[],\"fBinStatErrOpt\":0,\"fStatOverflows\":2,\"fArray\":[0,0.909732289766147,0.898125242769062,0.901279481988991,0.904445606857973,0.916139642905996,0.92068811595361,0.940823548301751,0.946550497733151,0.950093531885313,0.960055141106401,0.957817031847125,0.964372655759177,0.972426954872332,0.979429122467305,0.992437455739821,0.993507892272804,0.996547854660281,0.998202928645505,1.0130762784492,1.00614167506976,1.01363634300826,1.01622410157557,1.01696788980882,1.01829689304967,1.00820339933887,1.01434932416456,1.01577245326616,1.04445516254899,1.01926193095625,1.02425798601444,1.05279165777911,1.05091602324319,1.0284083845876,1.04888621057289,1.04552027680829,1.05452418339217,1.02532888668802,1.04260842931227,1.07288650632529,1.04493285613501,1.06677447088747,1.03496108222602,1.02844889683182,1.05869841982139,1.03163551033354,1.03160017482885,1.07553402112988,1.11147607411702,1.06561438743332,1.02227936726828,1.05631064669378,1.0238600290522,1.04754901547677,1.01035540720335,1.0168326086226,1.07994756856808,1.08819085510921,1.05108466695797,1.05096947907634,1.08256355134029,1.08591359568391]},{\"_typename\":\"TH1D\",\"fUniqueID\":0,\"fBits\":8,\"fName\":\"ratio_mjj_zoom2\",\"fTitle\":\"mjj\",\"fLineColor\":602,\"fLineStyle\":1,\"fLineWidth\":1,\"fFillColor\":0,\"fFillStyle\":1001,\"fMarkerColor\":1,\"fMarkerStyle\":1,\"fMarkerSize\":1,\"fNcells\":202,\"fXaxis\":{\"_typename\":\"TAxis\",\"fUniqueID\":0,\"fBits\":0,\"fName\":\"xaxis\",\"fTitle\":\"\",\"fNdivisions\":510,\"fAxisColor\":1,\"fLabelColor\":1,\"fLabelFont\":42,\"fLabelOffset\":0.005,\"fLabelSize\":0.035,\"fTickLength\":0.03,\"fTitleOffset\":1,\"fTitleSize\":0.035,\"fTitleColor\":1,\"fTitleFont\":42,\"fNbins\":200,\"fXmin\":50,\"fXmax\":1500,\"fXbins\":[],\"fFirst\":0,\"fLast\":0,\"fBits2\":0,\"fTimeDisplay\":false,\"fTimeFormat\":\"\",\"fLabels\":null,\"fModLabs\":null},\"fYaxis\":{\"_typename\":\"TAxis\",\"fUniqueID\":0,\"fBits\":0,\"fName\":\"yaxis\",\"fTitle\":\"\",\"fNdivisions\":510,\"fAxisColor\":1,\"fLabelColor\":1,\"fLabelFont\":42,\"fLabelOffset\":0.005,\"fLabelSize\":0.035,\"fTickLength\":0.03,\"fTitleOffset\":0,\"fTitleSize\":0.035,\"fTitleColor\":1,\"fTitleFont\":42,\"fNbins\":1,\"fXmin\":0,\"fXmax\":1,\"fXbins\":[],\"fFirst\":0,\"fLast\":0,\"fBits2\":0,\"fTimeDisplay\":false,\"fTimeFormat\":\"\",\"fLabels\":null,\"fModLabs\":null},\"fZaxis\":{\"_typename\":\"TAxis\",\"fUniqueID\":0,\"fBits\":0,\"fName\":\"zaxis\",\"fTitle\":\"\",\"fNdivisions\":510,\"fAxisColor\":1,\"fLabelColor\":1,\"fLabelFont\":42,\"fLabelOffset\":0.005,\"fLabelSize\":0.035,\"fTickLength\":0.03,\"fTitleOffset\":1,\"fTitleSize\":0.035,\"fTitleColor\":1,\"fTitleFont\":42,\"fNbins\":1,\"fXmin\":0,\"fXmax\":1,\"fXbins\":[],\"fFirst\":0,\"fLast\":0,\"fBits2\":0,\"fTimeDisplay\":false,\"fTimeFormat\":\"\",\"fLabels\":null,\"fModLabs\":null},\"fBarOffset\":0,\"fBarWidth\":1000,\"fEntries\":531620.055242277,\"fTsumw\":189.285296712815,\"fTsumw2\":0.0673957334723386,\"fTsumwx\":154060.640137833,\"fTsumwx2\":156320715.781771,\"fMaximum\":-1111,\"fMinimum\":-1111,\"fNormFactor\":0,\"fContour\":[],\"fSumw2\":[0,0,0,0,0,0,0,0.00165695531376102,1.29394818155351e-4,8.02945919732248e-5,5.71512955662665e-5,4.71962085344553e-5,4.11110926303812e-5,3.95219760095181e-5,3.89566895195883e-5,3.8653051460485e-5,3.82753212644407e-5,3.70226988295999e-5,3.64852518614597e-5,3.74898312274213e-5,3.66658247341936e-5,3.80456469869426e-5,3.73966688971052e-5,3.77440045884226e-5,3.91615867665699e-5,4.02225224981026e-5,4.01957385697595e-5,4.16694032230865e-5,4.2320482184833e-5,4.32667491931481e-5,4.37579107975036e-5,4.56779375374764e-5,4.77954028050802e-5,4.86328481082441e-5,5.03886151668154e-5,5.2080087649514e-5,5.36901709108786e-5,5.50428130534305e-5,5.47356651774027e-5,5.72425282552252e-5,6.01467466945529e-5,6.16284102068814e-5,6.19343809199385e-5,6.48833509704078e-5,6.60163654685044e-5,7.13176429704442e-5,7.07686045670365e-5,7.09798090352096e-5,7.6235669509471e-5,7.98051712661053e-5,7.94306948745946e-5,8.49888010612319e-5,8.52497020581335e-5,8.6295880039058e-5,9.16537261452691e-5,9.35783350518696e-5,9.33522173227762e-5,9.15871938168495e-5,1.00100805451669e-4,1.00427928360814e-4,1.0278270511201e-4,1.11264314712797e-4,1.06871637215696e-4,1.08856959432393e-4,1.13876320651573e-4,1.19477553932743e-4,1.19312094194959e-4,1.20576503072726e-4,1.27531239604436e-4,1.27144407407959e-4,1.32115861233421e-4,1.37396013716326e-4,1.32205442038077e-4,1.38833802317536e-4,1.44010763646936e-4,1.49460072500868e-4,1.49047641068178e-4,1.50784117713321e-4,1.487289203172e-4,1.55835544351056e-4,1.66878118465307e-4,1.62387825798278e-4,1.71409139868653e-4,1.68136855405331e-4,1.75337035350154e-4,1.81462924735629e-4,1.85596124032069e-4,1.84805204184414e-4,1.78696246601697e-4,2.0366202523097e-4,1.97894590397737e-4,1.99692478121998e-4,2.08237467968354e-4,2.18036042839912e-4,2.2194704240697e-4,2.20679820670605e-4,2.19550196746159e-4,2.31834587471352e-4,2.28336349675563e-4,2.19665542686106e-4,2.43785981881832e-4,2.50626042200232e-4,2.44203527857759e-4,2.70356567977206e-4,2.59897520308142e-4,2.4663089481817e-4,2.75282641769807e-4,2.91652171350673e-4,2.76073801222288e-4,3.01674124756082e-4,2.70160208418158e-4,2.9410462682699e-4,2.96177550739308e-4,3.1749523207757e-4,3.1568797878635e-4,3.07673274645872e-4,2.85182193695211e-4,3.40084090249078e-4,3.23553160709463e-4,3.41793122361181e-4,3.63781301354473e-4,3.29246173296807e-4,3.71753395379111e-4,3.38454025926765e-4,3.74006307864337e-4,3.79140979725648e-4,3.62266620438997e-4,3.70702985051178e-4,3.65073268498602e-4,4.0299673065323e-4,4.15999337198565e-4,4.08519592800156e-4,4.48840207226084e-4,4.15061430865212e-4,4.26481520643088e-4,4.23744675153985e-4,4.091656719857e-4,4.24203991418346e-4,4.51631156362086e-4,4.72823186909995e-4,4.79837353924417e-4,5.04774800274923e-4,4.97513526564808e-4,4.85946641343452e-4,4.89089845804406e-4,4.78194798464554e-4,4.99856589314645e-4,4.8885513360949e-4,5.34436205616306e-4,5.20025427936759e-4,5.00787378062839e-4,5.52539707133617e-4,5.40650232387568e-4,5.83094722067697e-4,5.75622288436151e-4,5.45196554071461e-4,5.98313436478284e-4,6.05538724627068e-4,6.18531267557379e-4,5.73800706706262e-4,5.8164882703446e-4,6.25448835430866e-4,6.44460754405557e-4,6.37214386229822e-4,6.24864407464694e-4,6.8185059834073e-4,6.60093462492885e-4,6.72912244146736e-4,6.91630089297399e-4,6.51561178702612e-4,6.86257738005481e-4,6.45060690712029e-4,7.09501646481513e-4,7.02770774222269e-4,7.45010389507639e-4,7.49467328309438e-4,7.56575628621244e-4,7.23812206034713e-4,7.64766876142313e-4,7.22154242758009e-4,8.22430660637975e-4,7.85758200070364e-4,7.83010550988866e-4,8.86151246458817e-4,8.44760396914982e-4,8.22583335252003e-4,7.45645328306334e-4,8.63770041990905e-4,8.45374276084637e-4,9.12304446835831e-4,0.00100798171894089,9.62963495180715e-4,9.12098635944538e-4,9.14067244007657e-4,9.88933790122021e-4,0.00102270729385871,9.76498585201794e-4,9.02254170373334e-4,9.2355136943004e-4,0.00110213694445276,1.17108573930169e-7,1.11470863505024e-5],\"fOption\":\"\",\"fFunctions\":{\"_typename\":\"TList\",\"name\":\"TList\",\"arr\":[{\"_typename\":\"TPaveStats\",\"fUniqueID\":0,\"fBits\":9,\"fLineColor\":1,\"fLineStyle\":1,\"fLineWidth\":1,\"fFillColor\":0,\"fFillStyle\":1001,\"fX1\":2565.00007346273,\"fY1\":1.1080415217103,\"fX2\":3290.00009506941,\"fY2\":1.16122040555763,\"fX1NDC\":0.780000016093254,\"fY1NDC\":0.775000005960464,\"fX2NDC\":0.980000019073486,\"fY2NDC\":0.935000002384186,\"fBorderSize\":1,\"fInit\":1,\"fShadowColor\":1,\"fCornerRadius\":0,\"fOption\":\"brNDC\",\"fName\":\"stats\",\"fTextAngle\":0,\"fTextSize\":0,\"fTextAlign\":12,\"fTextColor\":1,\"fTextFont\":42,\"fLabel\":\"\",\"fLongest\":18,\"fMargin\":0.05,\"fLines\":{\"_typename\":\"TList\",\"name\":\"TList\",\"arr\":[{\"_typename\":\"TLatex\",\"fUniqueID\":0,\"fBits\":0,\"fName\":\"\",\"fTitle\":\"ratio_mjj_zoom2\",\"fTextAngle\":0,\"fTextSize\":0.0368,\"fTextAlign\":0,\"fTextColor\":0,\"fTextFont\":0,\"fX\":0,\"fY\":0,\"fLineColor\":1,\"fLineStyle\":1,\"fLineWidth\":2,\"fLimitFactorSize\":3,\"fOriginSize\":0.0368000008165836},{\"_typename\":\"TLatex\",\"fUniqueID\":0,\"fBits\":0,\"fName\":\"\",\"fTitle\":\"Entries = 531620 \",\"fTextAngle\":0,\"fTextSize\":0,\"fTextAlign\":0,\"fTextColor\":0,\"fTextFont\":0,\"fX\":0,\"fY\":0,\"fLineColor\":1,\"fLineStyle\":1,\"fLineWidth\":2,\"fLimitFactorSize\":3,\"fOriginSize\":0.04},{\"_typename\":\"TLatex\",\"fUniqueID\":0,\"fBits\":0,\"fName\":\"\",\"fTitle\":\"Mean  =  813.9\",\"fTextAngle\":0,\"fTextSize\":0,\"fTextAlign\":0,\"fTextColor\":0,\"fTextFont\":0,\"fX\":0,\"fY\":0,\"fLineColor\":1,\"fLineStyle\":1,\"fLineWidth\":2,\"fLimitFactorSize\":3,\"fOriginSize\":0.04},{\"_typename\":\"TLatex\",\"fUniqueID\":0,\"fBits\":0,\"fName\":\"\",\"fTitle\":\"Std Dev   =  404.2\",\"fTextAngle\":0,\"fTextSize\":0,\"fTextAlign\":0,\"fTextColor\":0,\"fTextFont\":0,\"fX\":0,\"fY\":0,\"fLineColor\":1,\"fLineStyle\":1,\"fLineWidth\":2,\"fLimitFactorSize\":3,\"fOriginSize\":0.04}],\"opt\":[\"\",\"\",\"\",\"\"]},\"fOptFit\":0,\"fOptStat\":1111,\"fFitFormat\":\"5.4g\",\"fStatFormat\":\"6.4g\",\"fParent\":{\"$ref\":16}},{\"_typename\":\"TF1\",\"fUniqueID\":0,\"fBits\":1024,\"fName\":\"fit_mjj\",\"fTitle\":\"[5]*TMath::Exp(-[6]*(x))  + [0]\\/(1 + [1]*TMath::Exp(-[2]*(x-[3]))) + [4] \",\"fLineColor\":2,\"fLineStyle\":1,\"fLineWidth\":2,\"fFillColor\":19,\"fFillStyle\":0,\"fMarkerColor\":1,\"fMarkerStyle\":1,\"fMarkerSize\":1,\"fXmin\":105,\"fXmax\":1400,\"fNpar\":7,\"fNdim\":1,\"fNpx\":100,\"fType\":0,\"fNpfits\":178,\"fNDF\":171,\"fChisquare\":183.026356719184,\"fMinimum\":-1111,\"fMaximum\":-1111,\"fParErrors\":[6.50559949681002,39.753473836261,0.0177100602824012,5560.28998596194,0.37572988811625,15.9865220122491,0.363138015639231],\"fParMin\":[0,0,0,0,0,0,0],\"fParMax\":[0,0,0,0,0,0,0],\"fSave\":[0.92524205433561,0.915652181158276,0.908673287562255,0.903774820562684,0.900531706508742,0.898603383834814,0.897717005680776,0.897653983016385,0.898239203860103,0.899332396329884,0.900821209127604,0.902615667867453,0.904643733599465,0.906847744307311,0.909181563762074,0.911608297044096,0.914098460027908,0.916628512542538,0.919179682878081,0.921737025696126,0.924288666926868,0.926825198468598,0.929339192901736,0.931824814354866,0.934277506406925,0.9366937417123,0.939070821081764,0.941406712192445,0.943699920054876,0.945949382931172,0.948154388652815,0.950314507291464,0.952429536941169,0.954499460015214,0.956524407977329,0.958504632840797,0.960440484100363,0.962332390027366,0.964180842471112,0.965986384479859,0.967749600191163,0.969471106550616,0.9711515465055,0.97279158338997,0.974391896274505,0.975953176097305,0.97747612243133,0.978961440769482,0.980409840233534,0.981822031630895,0.983198725798089,0.984540632181718,0.985848457617147,0.987122905272765,0.988364673733787,0.989574456204429,0.990752939811212,0.991900804993298,0.993018724968265,0.994107365263774,0.995167383307193,0.996199428066562,0.997204139737319,0.998182149470106,0.9991340791356,1.00006054112293,1.00096213816866,1.00183946321377,1.00269309928613,1.00352361940672,1.00433158651736,1.00511755342856,1.00588206278584,1.00662564705312,1.00734882851186,1.00805211927489,1.00873602131362,1.00940102649775,1.01004761664639,1.01067626358985,1.01128742924098,1.01188156567555,1.01245911522065,1.01302051055064,1.0135661747897,1.01409652162067,1.01461195539925,1.01511287127329,1.01559965530637,1.01607268460547,1.01653232745193,1.01697894343553,1.01741288359115,1.01783449053762,1.01824409861838,1.01864203404376,1.0190286150343,1.01940415196508,1.01976894751054,1.02012329678974,1.02046748751171,105,1400],\"fNormalized\":false,\"fNormIntegral\":0,\"fFormula\":{\"_typename\":\"TFormula\",\"fUniqueID\":0,\"fBits\":1024,\"fName\":\"fit_mjj\",\"fTitle\":\"[5]*TMath::Exp(-[6]*(x))  + [0]\\/(1 + [1]*TMath::Exp(-[2]*(x-[3]))) + [4] \",\"fClingParameters\":[-0.644436151777789,3.10143843673133,-0.00233137584158881,163.974188562019,1.03190570798219,0.406741611727616,0.0171242315355007],\"fAllParametersSetted\":true,\"fParams\":[{\"$pair\":\"pair<TString,int,TFormulaParamOrder>\",\"first\":\"p0\",\"second\":0},{\"$pair\":\"pair<TString,int,TFormulaParamOrder>\",\"first\":\"p1\",\"second\":1},{\"$pair\":\"pair<TString,int,TFormulaParamOrder>\",\"first\":\"p2\",\"second\":2},{\"$pair\":\"pair<TString,int,TFormulaParamOrder>\",\"first\":\"p3\",\"second\":3},{\"$pair\":\"pair<TString,int,TFormulaParamOrder>\",\"first\":\"p4\",\"second\":4},{\"$pair\":\"pair<TString,int,TFormulaParamOrder>\",\"first\":\"p5\",\"second\":5},{\"$pair\":\"pair<TString,int,TFormulaParamOrder>\",\"first\":\"p6\",\"second\":6}],\"fFormula\":\"[p5]*TMath::Exp(-[p6]*(x))+[p0]\\/(1+[p1]*TMath::Exp(-[p2]*(x-[p3])))+[p4]\",\"fNdim\":1,\"fLinearParts\":[],\"fVectorized\":false},\"fParams\":null,\"fComposition_ptr\":null}],\"opt\":[\"brNDC\",\"\"]},\"fBufferSize\":0,\"fBuffer\":[],\"fBinStatErrOpt\":0,\"fStatOverflows\":2,\"fArray\":[0,0,0,0,0,0,0,0.915842271637968,0.928390904281042,0.929478066069491,0.915017979655554,0.915875701888071,0.896739470437585,0.900310434006294,0.901356466569647,0.897480784470724,0.897733368387659,0.893727639422413,0.893516284624332,0.906654254227,0.895145061814452,0.906334453018191,0.895253394386947,0.895335630604045,0.905787257612362,0.909122330656661,0.897310827723551,0.90646563648997,0.903621511247776,0.901051434774368,0.894771584848523,0.902269545013014,0.915069212690083,0.906807650088479,0.914877633762662,0.916277870125041,0.917817918412095,0.919119428324214,0.900982276505026,0.914329972648744,0.92095747644106,0.919549301504394,0.910188659478656,0.921409678775095,0.915670192389275,0.938682936866872,0.928140242871224,0.913223804031607,0.937649360299695,0.944582852387933,0.933305353107996,0.952893764554508,0.941506106493272,0.936941622560061,0.957833353395649,0.954824158603948,0.943105340036508,0.921356016918367,0.954772584646414,0.947594539367022,0.941357952467785,0.968442724904499,0.941049212676338,0.940721946160738,0.949658178063664,0.963239190160821,0.952687790511844,0.944781569452605,0.961918711488472,0.950436443915555,0.959339357096012,0.967050442689687,0.943122326567601,0.958296423703988,0.967356167445633,0.968977387030484,0.959697920570583,0.95909527102009,0.943492981120186,0.950397784268276,0.97364047502898,0.949377559581953,0.972282163866958,0.959004866167439,0.961852234899613,0.968711809030845,0.970193832539308,0.964516948407857,0.94154363711833,0.987240745364603,0.966448219496247,0.969001665230534,0.981279568044541,0.988325137343498,0.995428939325047,0.986437381468301,0.974818440757925,0.985580446360051,0.975246648680934,0.953131096321529,0.988131071467517,1.00087350609419,0.972183247806649,1.01378785904357,0.987985990366893,0.955385864452477,0.996717945928416,1.02270050251778,0.988424387059302,1.02197828156601,0.95825704212814,0.993671269946292,0.987851757004147,1.01244483542043,1.00749221269488,0.9933617022921,0.944257542142181,1.01908419606827,0.987039674401651,1.00619773019352,1.0329197510867,0.972616842113509,1.02735002057894,0.975863897628899,1.01568541478547,1.01189197885599,0.981460221456893,0.991086361298949,0.973644606954775,1.01874814348184,1.02493339829971,1.01009454093493,1.04983330372021,1.00702354418085,1.00017090266777,0.99925535848907,0.980299866840076,0.988941576372566,1.01596646699504,1.0261814660648,1.02473925486601,1.04994093497829,1.02575427057843,1.01279137709446,1.01782766737483,0.998972059069866,1.01085992628708,0.991519391067216,1.03465971189685,1.00597712080236,0.984316679894103,1.02879110816031,1.00621514193953,1.03681457099224,1.02882187215563,0.994355405165332,1.02692742028356,1.034626391344,1.03904122501114,0.996125092858819,0.99841968282244,1.01880319151137,1.03315234763278,1.01222594068427,1.00252345283572,1.0354403689951,1.01664127641309,1.02166681167829,1.03189428406013,0.983255178529041,1.00510189737251,0.975840378474482,1.01856045385801,0.997546588917125,1.03182091595973,1.03299690098474,1.02022876384678,0.992046798395223,1.02267073154013,0.975412483167496,1.05345562713065,1.01242544491662,1.00863618657515,1.06149518641246,1.03348314302971,1.00649543840388,0.955011951499373,1.0250094655848,1.01098371016691,1.03991180246338,1.08708971160845,1.04492394946386,1.02312261944077,1.01021112810702,1.05948173235188,1.06088109755719,1.03207355005398,0.979700891790936,0.994876723446405,1.07974512159156,1.04991968281709,1.05030237941148]},{\"_typename\":\"TPaveText\",\"fUniqueID\":0,\"fBits\":9,\"fLineColor\":1,\"fLineStyle\":1,\"fLineWidth\":1,\"fFillColor\":0,\"fFillStyle\":0,\"fX1\":1425.20833147379,\"fY1\":1.16088240496212,\"fX2\":1674.79166852621,\"fY2\":1.18116248823855,\"fX1NDC\":0.465574712643678,\"fY1NDC\":0.933983055615829,\"fX2NDC\":0.534425287356322,\"fY2NDC\":0.995000004768372,\"fBorderSize\":0,\"fInit\":1,\"fShadowColor\":1,\"fCornerRadius\":0,\"fOption\":\"blNDC\",\"fName\":\"title\",\"fTextAngle\":0,\"fTextSize\":0,\"fTextAlign\":22,\"fTextColor\":1,\"fTextFont\":42,\"fLabel\":\"\",\"fLongest\":3,\"fMargin\":0.05,\"fLines\":{\"_typename\":\"TList\",\"name\":\"TList\",\"arr\":[{\"_typename\":\"TLatex\",\"fUniqueID\":0,\"fBits\":0,\"fName\":\"\",\"fTitle\":\"mjj\",\"fTextAngle\":0,\"fTextSize\":0,\"fTextAlign\":0,\"fTextColor\":0,\"fTextFont\":0,\"fX\":0,\"fY\":0,\"fLineColor\":1,\"fLineStyle\":1,\"fLineWidth\":2,\"fLimitFactorSize\":3,\"fOriginSize\":0.0518644079566002}],\"opt\":[\"\"]}},{\"_typename\":\"TStyle\",\"fUniqueID\":0,\"fBits\":0,\"fName\":\"Modern\",\"fTitle\":\"Modern Style\",\"fLineColor\":1,\"fLineStyle\":1,\"fLineWidth\":1,\"fFillColor\":19,\"fFillStyle\":1001,\"fMarkerColor\":1,\"fMarkerStyle\":1,\"fMarkerSize\":1,\"fTextAngle\":0,\"fTextSize\":0.05,\"fTextAlign\":11,\"fTextColor\":1,\"fTextFont\":62,\"fXaxis\":{\"_typename\":\"TAttAxis\",\"fNdivisions\":510,\"fAxisColor\":1,\"fLabelColor\":1,\"fLabelFont\":42,\"fLabelOffset\":0.005,\"fLabelSize\":0.035,\"fTickLength\":0.03,\"fTitleOffset\":1,\"fTitleSize\":0.035,\"fTitleColor\":1,\"fTitleFont\":42},\"fYaxis\":{\"_typename\":\"TAttAxis\",\"fNdivisions\":510,\"fAxisColor\":1,\"fLabelColor\":1,\"fLabelFont\":42,\"fLabelOffset\":0.005,\"fLabelSize\":0.035,\"fTickLength\":0.03,\"fTitleOffset\":0,\"fTitleSize\":0.035,\"fTitleColor\":1,\"fTitleFont\":42},\"fZaxis\":{\"_typename\":\"TAttAxis\",\"fNdivisions\":510,\"fAxisColor\":1,\"fLabelColor\":1,\"fLabelFont\":42,\"fLabelOffset\":0.005,\"fLabelSize\":0.035,\"fTickLength\":0.03,\"fTitleOffset\":1,\"fTitleSize\":0.035,\"fTitleColor\":1,\"fTitleFont\":42},\"fBarWidth\":1,\"fBarOffset\":0,\"fColorModelPS\":0,\"fDrawBorder\":0,\"fOptLogx\":0,\"fOptLogy\":0,\"fOptLogz\":0,\"fOptDate\":0,\"fOptStat\":1111,\"fOptTitle\":1,\"fOptFile\":0,\"fOptFit\":0,\"fShowEventStatus\":0,\"fShowEditor\":0,\"fShowToolBar\":0,\"fNumberContours\":20,\"fAttDate\":{\"_typename\":\"TAttText\",\"fTextAngle\":0,\"fTextSize\":0.025,\"fTextAlign\":11,\"fTextColor\":1,\"fTextFont\":62},\"fDateX\":0.01,\"fDateY\":0.01,\"fEndErrorSize\":2,\"fErrorX\":0.5,\"fFuncColor\":2,\"fFuncStyle\":1,\"fFuncWidth\":2,\"fGridColor\":0,\"fGridStyle\":3,\"fGridWidth\":1,\"fLegendBorderSize\":1,\"fLegendFillColor\":0,\"fLegendFont\":42,\"fLegendTextSize\":0,\"fHatchesLineWidth\":1,\"fHatchesSpacing\":1,\"fFrameFillColor\":0,\"fFrameLineColor\":1,\"fFrameFillStyle\":1001,\"fFrameLineStyle\":1,\"fFrameLineWidth\":1,\"fFrameBorderSize\":1,\"fFrameBorderMode\":0,\"fHistFillColor\":0,\"fHistLineColor\":602,\"fHistFillStyle\":1001,\"fHistLineStyle\":1,\"fHistLineWidth\":1,\"fHistMinimumZero\":false,\"fHistTopMargin\":0.05,\"fCanvasPreferGL\":false,\"fCanvasColor\":0,\"fCanvasBorderSize\":2,\"fCanvasBorderMode\":0,\"fCanvasDefH\":500,\"fCanvasDefW\":700,\"fCanvasDefX\":10,\"fCanvasDefY\":10,\"fPadColor\":0,\"fPadBorderSize\":2,\"fPadBorderMode\":0,\"fPadBottomMargin\":0.1,\"fPadTopMargin\":0.1,\"fPadLeftMargin\":0.1,\"fPadRightMargin\":0.1,\"fPadGridX\":false,\"fPadGridY\":false,\"fPadTickX\":0,\"fPadTickY\":0,\"fPaperSizeX\":20,\"fPaperSizeY\":26,\"fScreenFactor\":1,\"fStatColor\":0,\"fStatTextColor\":1,\"fStatBorderSize\":1,\"fStatFont\":42,\"fStatFontSize\":0,\"fStatStyle\":1001,\"fStatFormat\":\"6.4g\",\"fStatX\":0.98,\"fStatY\":0.935,\"fStatW\":0.2,\"fStatH\":0.16,\"fStripDecimals\":true,\"fTitleAlign\":23,\"fTitleColor\":0,\"fTitleTextColor\":1,\"fTitleBorderSize\":0,\"fTitleFont\":42,\"fTitleFontSize\":0.05,\"fTitleStyle\":0,\"fTitleX\":0.5,\"fTitleY\":0.995,\"fTitleW\":0,\"fTitleH\":0,\"fLegoInnerR\":0.5,\"fLineStyle\":[\"\",\"  \",\" 12 12\",\" 4 8\",\" 12 16 4 16\",\" 20 12 4 12\",\" 20 12 4 12 4 12 4 12\",\" 20 20\",\" 20 12 4 12 4 12\",\" 80 20\",\" 80 40 4 40\",\"  \",\"  \",\"  \",\"  \",\"  \",\"  \",\"  \",\"  \",\"  \",\"  \",\"  \",\"  \",\"  \",\"  \",\"  \",\"  \",\"  \",\"  \",\"  \"],\"fHeaderPS\":\"\",\"fTitlePS\":\"\",\"fFitFormat\":\"5.4g\",\"fPaintTextFormat\":\"g\",\"fLineScalePS\":3,\"fJoinLinePS\":0,\"fCapLinePS\":0,\"fTimeOffset\":788918400,\"fImageScaling\":1}],\"opt\":[\"\",\"\",\"same\",\"blNDC\",\"\"]},\"fExecs\":null,\"fName\":\"c1_n3\",\"fTitle\":\"c1_n3\",\"fNumPaletteColor\":0,\"fNextPaletteColor\":0,\"fDISPLAY\":\"$DISPLAY\",\"fDoubleBuffer\":0,\"fRetained\":true,\"fXsizeUser\":0,\"fYsizeUser\":0,\"fXsizeReal\":20,\"fYsizeReal\":14.28571,\"fWindowTopX\":0,\"fWindowTopY\":0,\"fWindowWidth\":0,\"fWindowHeight\":0,\"fCw\":696,\"fCh\":472,\"fCatt\":{\"_typename\":\"TAttCanvas\",\"fXBetween\":2,\"fYBetween\":2,\"fTitleFromTop\":1.2,\"fXdate\":0.2,\"fYdate\":0.3,\"fAdate\":1},\"kMoveOpaque\":true,\"kResizeOpaque\":true,\"fHighLightColor\":2,\"fBatch\":true,\"kShowEventStatus\":false,\"kAutoExec\":true,\"kMenuBar\":true});\n",
       "            Core.draw(\"root_plot_1617378102087\", obj, \"\");\n",
       "        }\n",
       "    );\n",
       "}\n",
       "</script>\n"
      ],
      "text/plain": [
       "<IPython.core.display.HTML object>"
      ]
     },
     "metadata": {},
     "output_type": "display_data"
    }
   ],
   "source": [
    "c = R.TCanvas()\n",
    "h2 =  R.gDirectory.Get(\"ratio_mjj_morebins_100\")\n",
    "\n",
    "h2.Draw()\n",
    "h.Draw(\"same\")\n",
    "c.Draw()"
   ]
  },
  {
   "cell_type": "code",
   "execution_count": 131,
   "id": "micro-makeup",
   "metadata": {
    "ExecuteTime": {
     "end_time": "2021-04-02T15:34:59.205051Z",
     "start_time": "2021-04-02T15:34:59.096244Z"
    }
   },
   "outputs": [
    {
     "data": {
      "text/plain": [
       "531"
      ]
     },
     "execution_count": 131,
     "metadata": {},
     "output_type": "execute_result"
    }
   ],
   "source": [
    "func1.Write()"
   ]
  },
  {
   "cell_type": "code",
   "execution_count": 132,
   "id": "asian-petroleum",
   "metadata": {
    "ExecuteTime": {
     "end_time": "2021-04-02T15:35:01.932809Z",
     "start_time": "2021-04-02T15:35:01.819470Z"
    }
   },
   "outputs": [
    {
     "name": "stdout",
     "output_type": "stream",
     "text": [
      "206.74989635754298\n",
      " FCN=0.024148 FROM MIGRAD    STATUS=CONVERGED     372 CALLS         373 TOTAL\n",
      "                     EDM=1.28342e-06    STRATEGY= 1      ERROR MATRIX ACCURATE \n",
      "  EXT PARAMETER                                   STEP         FIRST   \n",
      "  NO.   NAME      VALUE            ERROR          SIZE      DERIVATIVE \n",
      "   1  p0           6.77098e-01   3.61954e-01   4.09807e-05   2.17833e-05\n",
      "   2  p1           1.16622e+00   6.92782e+01   6.55164e-03  -3.74892e-05\n",
      "   3  p2           2.28732e-02   4.56339e-01   3.99994e-05   7.57640e-03\n",
      "   4  p3           4.50935e-05   4.95124e-04   2.26176e-08   1.17254e+00\n",
      "   5  p4          -2.80528e-08   1.46855e-07   9.59924e-12   5.12885e+03\n",
      "                               ERR DEF= 0.5\n"
     ]
    }
   ],
   "source": [
    "f.cd(\"/\")\n",
    "f.cd(\"mjj100_njet5\")\n",
    "h = R.gDirectory.Get(\"ratio_mjj_zoom\")\n",
    "\n",
    "#func1 = R.TF1(\"fit_mjj\", \"1 + [0]/(1 + [1]*TMath::Exp(-[2]*(x-[3])))\", 150, 1400)\n",
    "\n",
    "func1 = R.TF1(\"fit_mjj\", \"[0] + [1]*TMath::Exp(-[2]*(x)) + [3]*x + [4]*x^2\", 100 , 3000) # + [0]/(1 + [1]*TMath::Exp(+[2]*(x-[3]))) + [4]\n",
    "# #func1.SetLineColor(R.kRed)\n",
    "\n",
    "func1.SetParameter(0,0.65)\n",
    "func1.SetParameter(1,1.6)\n",
    "func1.SetParameter(2,0.03)\n",
    "func1.SetParameter(2,0.03)\n",
    "\n",
    "s = h.Fit(func1, \"RLS\")\n",
    "\n",
    "print(s.Chi2())"
   ]
  },
  {
   "cell_type": "code",
   "execution_count": 133,
   "id": "caring-polls",
   "metadata": {
    "ExecuteTime": {
     "end_time": "2021-04-02T15:35:07.009891Z",
     "start_time": "2021-04-02T15:35:06.890163Z"
    }
   },
   "outputs": [
    {
     "data": {
      "text/html": [
       "\n",
       "<div id=\"root_plot_1617377707004\"\n",
       "     style=\"width: 696px; height: 472px\">\n",
       "</div>\n",
       "<script>\n",
       "if (typeof require !== 'undefined') {\n",
       "\n",
       "    // All requirements met (we are in jupyter notebooks or we loaded requirejs before).\n",
       "    display_root_plot_1617377707004();\n",
       "\n",
       "} else {\n",
       "\n",
       "    // We are in jupyterlab, we need to insert requirejs and configure it.\n",
       "    // Jupyterlab might be installed in a different base_url so we need to know it.\n",
       "    try {\n",
       "        var base_url = JSON.parse(document.getElementById('jupyter-config-data').innerHTML).baseUrl;\n",
       "    } catch(_) {\n",
       "        var base_url = '/';\n",
       "    }\n",
       "\n",
       "    // Try loading a local version of requirejs and fallback to cdn if not possible.\n",
       "    requirejs_load(base_url + 'static/components/requirejs/require.js', requirejs_success(base_url), function(){\n",
       "        requirejs_load('https://cdnjs.cloudflare.com/ajax/libs/require.js/2.2.0/require.min.js', requirejs_success(base_url), function(){\n",
       "            document.getElementById(\"root_plot_1617377707004\").innerHTML = \"Failed to load requireJs\";\n",
       "        });\n",
       "    });\n",
       "}\n",
       "\n",
       "function requirejs_load(src, on_load, on_error) {\n",
       "    var script = document.createElement('script');\n",
       "    script.src = src;\n",
       "    script.onload = on_load;\n",
       "    script.onerror = on_error;\n",
       "    document.head.appendChild(script);\n",
       "}\n",
       "\n",
       "function requirejs_success(base_url) {\n",
       "    return function() {\n",
       "        require.config({\n",
       "            baseUrl: base_url + 'static/'\n",
       "        });\n",
       "        display_root_plot_1617377707004();\n",
       "    }\n",
       "}\n",
       "\n",
       "function display_root_plot_1617377707004() {\n",
       "    require(['scripts/JSRootCore'],\n",
       "        function(Core) {\n",
       "            var obj = Core.JSONR_unref({\"_typename\":\"TCanvas\",\"fUniqueID\":0,\"fBits\":3342344,\"fLineColor\":1,\"fLineStyle\":1,\"fLineWidth\":1,\"fFillColor\":0,\"fFillStyle\":1001,\"fLeftMargin\":0.1,\"fRightMargin\":0.1,\"fBottomMargin\":0.1,\"fTopMargin\":0.1,\"fXfile\":2,\"fYfile\":2,\"fAfile\":1,\"fXstat\":0.99,\"fYstat\":0.99,\"fAstat\":2,\"fFrameFillColor\":0,\"fFrameLineColor\":1,\"fFrameFillStyle\":1001,\"fFrameLineStyle\":1,\"fFrameLineWidth\":1,\"fFrameBorderSize\":1,\"fFrameBorderMode\":0,\"fX1\":-318.750027474018,\"fY1\":-0.105429142042196,\"fX2\":3368.75002747402,\"fY2\":0.948862215539095,\"fXtoAbsPixelk\":60.1627661535168,\"fXtoPixelk\":60.1627661535168,\"fXtoPixel\":0.188745759899333,\"fYtoAbsPixelk\":424.800047186661,\"fYtoPixelk\":424.800047186661,\"fYtoPixel\":-447.694080583987,\"fUtoAbsPixelk\":5e-5,\"fUtoPixelk\":5e-5,\"fUtoPixel\":696,\"fVtoAbsPixelk\":472.00005,\"fVtoPixelk\":472,\"fVtoPixel\":-472,\"fAbsPixeltoXk\":-318.750027474018,\"fPixeltoXk\":-318.750027474018,\"fPixeltoX\":5.29813226285637,\"fAbsPixeltoYk\":0.948862215539095,\"fPixeltoYk\":-0.105429142042196,\"fPixeltoY\":-0.00223366813046884,\"fXlowNDC\":0,\"fYlowNDC\":0,\"fXUpNDC\":1,\"fYUpNDC\":1,\"fWNDC\":1,\"fHNDC\":1,\"fAbsXlowNDC\":0,\"fAbsYlowNDC\":0,\"fAbsWNDC\":1,\"fAbsHNDC\":1,\"fUxmin\":50,\"fUymin\":0,\"fUxmax\":3000,\"fUymax\":0.8434330734969,\"fTheta\":30,\"fPhi\":30,\"fAspectRatio\":0,\"fNumber\":0,\"fTickx\":0,\"fTicky\":0,\"fLogx\":0,\"fLogy\":0,\"fLogz\":0,\"fPadPaint\":0,\"fCrosshair\":0,\"fCrosshairPos\":0,\"fBorderSize\":2,\"fBorderMode\":0,\"fModified\":false,\"fGridx\":false,\"fGridy\":false,\"fAbsCoord\":false,\"fEditable\":true,\"fFixedAspectRatio\":false,\"fPrimitives\":{\"_typename\":\"TList\",\"name\":\"TList\",\"arr\":[{\"_typename\":\"TFrame\",\"fUniqueID\":0,\"fBits\":8,\"fLineColor\":1,\"fLineStyle\":1,\"fLineWidth\":1,\"fFillColor\":0,\"fFillStyle\":1001,\"fX1\":50,\"fY1\":0,\"fX2\":3000,\"fY2\":0.8434330734969,\"fBorderSize\":1,\"fBorderMode\":0},{\"_typename\":\"TH1D\",\"fUniqueID\":0,\"fBits\":8,\"fName\":\"ratio_mjj_zoom\",\"fTitle\":\"mjj\",\"fLineColor\":602,\"fLineStyle\":1,\"fLineWidth\":1,\"fFillColor\":0,\"fFillStyle\":1001,\"fMarkerColor\":1,\"fMarkerStyle\":1,\"fMarkerSize\":1,\"fNcells\":102,\"fXaxis\":{\"_typename\":\"TAxis\",\"fUniqueID\":0,\"fBits\":0,\"fName\":\"xaxis\",\"fTitle\":\"\",\"fNdivisions\":510,\"fAxisColor\":1,\"fLabelColor\":1,\"fLabelFont\":42,\"fLabelOffset\":0.005,\"fLabelSize\":0.035,\"fTickLength\":0.03,\"fTitleOffset\":1,\"fTitleSize\":0.035,\"fTitleColor\":1,\"fTitleFont\":42,\"fNbins\":100,\"fXmin\":50,\"fXmax\":3000,\"fXbins\":[],\"fFirst\":0,\"fLast\":0,\"fBits2\":0,\"fTimeDisplay\":false,\"fTimeFormat\":\"\",\"fLabels\":null,\"fModLabs\":null},\"fYaxis\":{\"_typename\":\"TAxis\",\"fUniqueID\":0,\"fBits\":0,\"fName\":\"yaxis\",\"fTitle\":\"\",\"fNdivisions\":510,\"fAxisColor\":1,\"fLabelColor\":1,\"fLabelFont\":42,\"fLabelOffset\":0.005,\"fLabelSize\":0.035,\"fTickLength\":0.03,\"fTitleOffset\":0,\"fTitleSize\":0.035,\"fTitleColor\":1,\"fTitleFont\":42,\"fNbins\":1,\"fXmin\":0,\"fXmax\":1,\"fXbins\":[],\"fFirst\":0,\"fLast\":0,\"fBits2\":0,\"fTimeDisplay\":false,\"fTimeFormat\":\"\",\"fLabels\":null,\"fModLabs\":null},\"fZaxis\":{\"_typename\":\"TAxis\",\"fUniqueID\":0,\"fBits\":0,\"fName\":\"zaxis\",\"fTitle\":\"\",\"fNdivisions\":510,\"fAxisColor\":1,\"fLabelColor\":1,\"fLabelFont\":42,\"fLabelOffset\":0.005,\"fLabelSize\":0.035,\"fTickLength\":0.03,\"fTitleOffset\":1,\"fTitleSize\":0.035,\"fTitleColor\":1,\"fTitleFont\":42,\"fNbins\":1,\"fXmin\":0,\"fXmax\":1,\"fXbins\":[],\"fFirst\":0,\"fLast\":0,\"fBits2\":0,\"fTimeDisplay\":false,\"fTimeFormat\":\"\",\"fLabels\":null,\"fModLabs\":null},\"fBarOffset\":0,\"fBarWidth\":1000,\"fEntries\":105146.370759013,\"fTsumw\":65.5845422567681,\"fTsumw2\":0.0409080423031252,\"fTsumwx\":97743.6953514694,\"fTsumwx2\":191302151.935076,\"fMaximum\":-1111,\"fMinimum\":-1111,\"fNormFactor\":0,\"fContour\":[],\"fSumw2\":[0,0,6.91558247036547e-4,6.06389230603255e-5,2.9791767278871e-5,2.20662543405872e-5,1.95951259600901e-5,1.8914899946059e-5,1.91012881854004e-5,1.99046260831562e-5,2.12218498170788e-5,2.27585455238773e-5,2.50296746558612e-5,2.66932940227976e-5,2.898592831908e-5,3.18678934806467e-5,3.39555220959702e-5,3.56870698475619e-5,4.0845274403235e-5,4.20147733499889e-5,4.49309732689284e-5,4.78663970497543e-5,5.30245405791982e-5,5.54619578483921e-5,5.92608561639259e-5,6.42783270926923e-5,6.58939715523529e-5,7.30684033270767e-5,7.50735150188799e-5,8.23036936824925e-5,8.83081855989126e-5,9.40846568012492e-5,1.00889629916075e-4,1.05105852658767e-4,1.07928862790872e-4,1.18656899293651e-4,1.20851181657511e-4,1.36568326124601e-4,1.32262459743258e-4,1.3701685210404e-4,1.36329625302339e-4,1.55320203334143e-4,1.68734076427381e-4,1.71977160412961e-4,1.97515107549022e-4,1.87779693987558e-4,1.9309553725246e-4,2.00308382513119e-4,2.15264920348239e-4,2.15053477360269e-4,2.40471948219611e-4,2.47052085322565e-4,2.36586008008157e-4,2.6989785800371e-4,2.83234627554561e-4,3.2247366287441e-4,2.92458072728017e-4,2.97547352966342e-4,3.20242828423436e-4,3.17112132677511e-4,3.58620499332279e-4,3.59621616859543e-4,4.20327898408417e-4,4.31268884061368e-4,4.41106193897951e-4,4.32691839934985e-4,4.53383252598977e-4,4.70689377286148e-4,4.86737204439969e-4,5.46544674621276e-4,5.78080953532381e-4,5.84614352739929e-4,5.76128562440391e-4,6.02700189259114e-4,6.28588471261544e-4,6.91955234471731e-4,6.46110760131313e-4,6.62441682068179e-4,7.31933383002455e-4,6.85503086715711e-4,7.76860120725686e-4,7.58798581685635e-4,9.68966173773599e-4,7.98152275329817e-4,9.84169843555044e-4,0.00102117442101164,8.62186838750294e-4,0.00102279448181477,8.62617591660086e-4,0.00116221365395935,0.00119471793172365,0.00117243645907071,0.00116970245818232,0.00135647498466523,0.00121657697258205,0.00127862599736191,0.00137373064436639,0.00147950522085923,0.00150760555127206,0.00152677732510556,2.98539766088988e-6,6.99355240171478e-5],\"fOption\":\"\",\"fFunctions\":{\"_typename\":\"TList\",\"name\":\"TList\",\"arr\":[{\"_typename\":\"TPaveStats\",\"fUniqueID\":0,\"fBits\":9,\"fLineColor\":1,\"fLineStyle\":1,\"fLineWidth\":1,\"fFillColor\":0,\"fFillStyle\":1001,\"fX1\":2557.50007472933,\"fY1\":0.711646666367371,\"fX2\":3295.00009670854,\"fY2\":0.880333279809938,\"fX1NDC\":0.780000016093254,\"fY1NDC\":0.775000005960464,\"fX2NDC\":0.980000019073486,\"fY2NDC\":0.935000002384186,\"fBorderSize\":1,\"fInit\":1,\"fShadowColor\":1,\"fCornerRadius\":0,\"fOption\":\"brNDC\",\"fName\":\"stats\",\"fTextAngle\":0,\"fTextSize\":0,\"fTextAlign\":12,\"fTextColor\":1,\"fTextFont\":42,\"fLabel\":\"\",\"fLongest\":18,\"fMargin\":0.05,\"fLines\":{\"_typename\":\"TList\",\"name\":\"TList\",\"arr\":[{\"_typename\":\"TLatex\",\"fUniqueID\":0,\"fBits\":0,\"fName\":\"\",\"fTitle\":\"ratio_mjj_zoom\",\"fTextAngle\":0,\"fTextSize\":0.0368,\"fTextAlign\":0,\"fTextColor\":0,\"fTextFont\":0,\"fX\":0,\"fY\":0,\"fLineColor\":1,\"fLineStyle\":1,\"fLineWidth\":2,\"fLimitFactorSize\":3,\"fOriginSize\":0.0368000008165836},{\"_typename\":\"TLatex\",\"fUniqueID\":0,\"fBits\":0,\"fName\":\"\",\"fTitle\":\"Entries = 105146 \",\"fTextAngle\":0,\"fTextSize\":0,\"fTextAlign\":0,\"fTextColor\":0,\"fTextFont\":0,\"fX\":0,\"fY\":0,\"fLineColor\":1,\"fLineStyle\":1,\"fLineWidth\":2,\"fLimitFactorSize\":3,\"fOriginSize\":0.04},{\"_typename\":\"TLatex\",\"fUniqueID\":0,\"fBits\":0,\"fName\":\"\",\"fTitle\":\"Mean  =   1490\",\"fTextAngle\":0,\"fTextSize\":0,\"fTextAlign\":0,\"fTextColor\":0,\"fTextFont\":0,\"fX\":0,\"fY\":0,\"fLineColor\":1,\"fLineStyle\":1,\"fLineWidth\":2,\"fLimitFactorSize\":3,\"fOriginSize\":0.04},{\"_typename\":\"TLatex\",\"fUniqueID\":0,\"fBits\":0,\"fName\":\"\",\"fTitle\":\"Std Dev   =  834.1\",\"fTextAngle\":0,\"fTextSize\":0,\"fTextAlign\":0,\"fTextColor\":0,\"fTextFont\":0,\"fX\":0,\"fY\":0,\"fLineColor\":1,\"fLineStyle\":1,\"fLineWidth\":2,\"fLimitFactorSize\":3,\"fOriginSize\":0.04}],\"opt\":[\"\",\"\",\"\",\"\"]},\"fOptFit\":0,\"fOptStat\":1111,\"fFitFormat\":\"5.4g\",\"fStatFormat\":\"6.4g\",\"fParent\":{\"$ref\":3}},{\"_typename\":\"TF1\",\"fUniqueID\":0,\"fBits\":1024,\"fName\":\"fit_mjj\",\"fTitle\":\"[0] + [1]*TMath::Exp(-[2]*(x)) + [3]*x + [4]*x^2\",\"fLineColor\":2,\"fLineStyle\":1,\"fLineWidth\":2,\"fFillColor\":19,\"fFillStyle\":0,\"fMarkerColor\":1,\"fMarkerStyle\":1,\"fMarkerSize\":1,\"fXmin\":100,\"fXmax\":3000,\"fNpar\":5,\"fNdim\":1,\"fNpx\":100,\"fType\":0,\"fNpfits\":98,\"fNDF\":93,\"fChisquare\":206.749896357543,\"fMinimum\":-1111,\"fMaximum\":-1111,\"fParErrors\":[0.361953534188772,69.27822141079,0.456339228743604,4.95123731798447e-4,1.46854571780902e-7],\"fParMin\":[0,0,0,0,0],\"fParMax\":[0,0,0,0,0],\"fSave\":[0.799742725313506,0.743448422387999,0.714945685730685,0.700736537446886,0.693867668513505,0.690757171570196,0.689559873290782,0.689325256461632,0.689563674413467,0.690022891987049,0.690572973497022,0.691146984252839,0.691710443712942,0.692245589671568,0.692743272157769,0.693198777682157,0.693609678151538,0.693974722765052,0.694293267188789,0.694564979502455,0.694789688721595,0.694967306765775,0.695097788261498,0.695181109835193,0.695217259446264,0.695206230892157,0.695148020977704,0.695042628056956,0.694890051282024,0.694690290216128,0.694443344634269,0.694149214420538,0.693807899515229,0.693419399887583,0.692983715521757,0.692500846409587,0.691970792546871,0.691393553931441,0.690769130562182,0.69009752243852,0.689378729560157,0.688612751926943,0.687799589538797,0.68693924239568,0.68603171049757,0.685076993844458,0.684075092436337,0.683026006273204,0.681929735355059,0.6807862796819,0.679595639253727,0.67835781407054,0.677072804132338,0.675740609439122,0.674361229990892,0.672934665787647,0.671460916829388,0.669939983116114,0.668371864647826,0.666756561424524,0.665094073446207,0.663384400712875,0.66162754322453,0.659823500981169,0.657972273982795,0.656073862229406,0.654128265721002,0.652135484457584,0.650095518439152,0.648008367665705,0.645874032137244,0.643692511853768,0.641463806815278,0.639187917021773,0.636864842473254,0.634494583169721,0.632077139111173,0.62961251029761,0.627100696729034,0.624541698405442,0.621935515326837,0.619282147493217,0.616581594904582,0.613833857560933,0.61103893546227,0.608196828608592,0.6053075369999,0.602371060636193,0.599387399517472,0.596356553643737,0.593278523014987,0.590153307631222,0.586980907492443,0.58376132259865,0.580494552949842,0.57718059854602,0.573819459387184,0.570411135473332,0.566955626804467,0.563452933380587,0.559903055201693,100,3000],\"fNormalized\":false,\"fNormIntegral\":0,\"fFormula\":{\"_typename\":\"TFormula\",\"fUniqueID\":0,\"fBits\":1024,\"fName\":\"fit_mjj\",\"fTitle\":\"[0] + [1]*TMath::Exp(-[2]*(x)) + [3]*x + [4]*x^2\",\"fClingParameters\":[0.677097515180261,1.16622247626137,0.0228731801360712,4.50934826488247e-5,-2.80527675472269e-8],\"fAllParametersSetted\":true,\"fParams\":[{\"$pair\":\"pair<TString,int,TFormulaParamOrder>\",\"first\":\"p0\",\"second\":0},{\"$pair\":\"pair<TString,int,TFormulaParamOrder>\",\"first\":\"p1\",\"second\":1},{\"$pair\":\"pair<TString,int,TFormulaParamOrder>\",\"first\":\"p2\",\"second\":2},{\"$pair\":\"pair<TString,int,TFormulaParamOrder>\",\"first\":\"p3\",\"second\":3},{\"$pair\":\"pair<TString,int,TFormulaParamOrder>\",\"first\":\"p4\",\"second\":4}],\"fFormula\":\"[p0]+[p1]*TMath::Exp(-[p2]*(x))+[p3]*x+[p4]*pow(x,2)\",\"fNdim\":1,\"fLinearParts\":[],\"fVectorized\":false},\"fParams\":null,\"fComposition_ptr\":null}],\"opt\":[\"brNDC\",\"\"]},\"fBufferSize\":0,\"fBuffer\":[],\"fBinStatErrOpt\":0,\"fStatOverflows\":2,\"fArray\":[0,0,0.776972098735053,0.750205241402052,0.720315842346463,0.702661208082185,0.698027509295857,0.690426232395344,0.686121478154486,0.683501902438194,0.686010790749765,0.68323287457195,0.692066870730466,0.688937462447058,0.691170611656919,0.69666002765431,0.691200988150566,0.682786649868398,0.705579934111418,0.689687737264155,0.694062722064497,0.686399330055067,0.69809004996042,0.691473561742042,0.691429136668256,0.698374015912985,0.683830238342562,0.70122781381224,0.689663605053947,0.694295518183116,0.704535567572189,0.711610187271296,0.711599959766049,0.705724679129331,0.691358196070665,0.706264849745653,0.695499887747274,0.722616639117643,0.690597858107102,0.680882826512616,0.661597238462887,0.691132520433652,0.6987105080682,0.692020765244604,0.727244431772087,0.683826023829633,0.681102144933194,0.678315097251264,0.679681576910999,0.664054706472859,0.689366641785271,0.671299338657873,0.64915048863038,0.67365325686146,0.684613104575101,0.706959778937127,0.658277601903096,0.640175287709999,0.662189537058656,0.635039042486754,0.665970452969518,0.647479304661409,0.686983976197489,0.680059234831865,0.666705463997549,0.644230201936453,0.645509905029173,0.644569990733208,0.645550246969296,0.670208170979109,0.671848723824803,0.652644199960469,0.651014786195168,0.653911054857294,0.638515055366737,0.662195839565551,0.616431312375117,0.612432428837929,0.608394713547337,0.589435907270923,0.634299305153853,0.598543492783723,0.669895192050325,0.596001751528379,0.643021171035971,0.639760751214154,0.573649181232458,0.620716162089333,0.542196564386829,0.629707707973405,0.620175309726955,0.603688538060938,0.579003148565387,0.615131213510046,0.559587685244677,0.563446657784284,0.586556101323948,0.578942190055123,0.573458380319808,0.565797598494255,0.54336198925311,0.540375905370634]},{\"_typename\":\"TPaveText\",\"fUniqueID\":0,\"fBits\":9,\"fLineColor\":1,\"fLineStyle\":1,\"fLineWidth\":1,\"fFillColor\":0,\"fFillStyle\":0,\"fX1\":1398.05675098196,\"fY1\":0.879261121620939,\"fX2\":1651.94324901804,\"fY2\":0.943590763778442,\"fX1NDC\":0.465574712643678,\"fY1NDC\":0.933983055615829,\"fX2NDC\":0.534425287356322,\"fY2NDC\":0.995000004768372,\"fBorderSize\":0,\"fInit\":1,\"fShadowColor\":1,\"fCornerRadius\":0,\"fOption\":\"blNDC\",\"fName\":\"title\",\"fTextAngle\":0,\"fTextSize\":0,\"fTextAlign\":22,\"fTextColor\":1,\"fTextFont\":42,\"fLabel\":\"\",\"fLongest\":3,\"fMargin\":0.05,\"fLines\":{\"_typename\":\"TList\",\"name\":\"TList\",\"arr\":[{\"_typename\":\"TLatex\",\"fUniqueID\":0,\"fBits\":0,\"fName\":\"\",\"fTitle\":\"mjj\",\"fTextAngle\":0,\"fTextSize\":0,\"fTextAlign\":0,\"fTextColor\":0,\"fTextFont\":0,\"fX\":0,\"fY\":0,\"fLineColor\":1,\"fLineStyle\":1,\"fLineWidth\":2,\"fLimitFactorSize\":3,\"fOriginSize\":0.0518644079566002}],\"opt\":[\"\"]}},{\"_typename\":\"TStyle\",\"fUniqueID\":0,\"fBits\":0,\"fName\":\"Modern\",\"fTitle\":\"Modern Style\",\"fLineColor\":1,\"fLineStyle\":1,\"fLineWidth\":1,\"fFillColor\":19,\"fFillStyle\":1001,\"fMarkerColor\":1,\"fMarkerStyle\":1,\"fMarkerSize\":1,\"fTextAngle\":0,\"fTextSize\":0.05,\"fTextAlign\":11,\"fTextColor\":1,\"fTextFont\":62,\"fXaxis\":{\"_typename\":\"TAttAxis\",\"fNdivisions\":510,\"fAxisColor\":1,\"fLabelColor\":1,\"fLabelFont\":42,\"fLabelOffset\":0.005,\"fLabelSize\":0.035,\"fTickLength\":0.03,\"fTitleOffset\":1,\"fTitleSize\":0.035,\"fTitleColor\":1,\"fTitleFont\":42},\"fYaxis\":{\"_typename\":\"TAttAxis\",\"fNdivisions\":510,\"fAxisColor\":1,\"fLabelColor\":1,\"fLabelFont\":42,\"fLabelOffset\":0.005,\"fLabelSize\":0.035,\"fTickLength\":0.03,\"fTitleOffset\":0,\"fTitleSize\":0.035,\"fTitleColor\":1,\"fTitleFont\":42},\"fZaxis\":{\"_typename\":\"TAttAxis\",\"fNdivisions\":510,\"fAxisColor\":1,\"fLabelColor\":1,\"fLabelFont\":42,\"fLabelOffset\":0.005,\"fLabelSize\":0.035,\"fTickLength\":0.03,\"fTitleOffset\":1,\"fTitleSize\":0.035,\"fTitleColor\":1,\"fTitleFont\":42},\"fBarWidth\":1,\"fBarOffset\":0,\"fColorModelPS\":0,\"fDrawBorder\":0,\"fOptLogx\":0,\"fOptLogy\":0,\"fOptLogz\":0,\"fOptDate\":0,\"fOptStat\":1111,\"fOptTitle\":1,\"fOptFile\":0,\"fOptFit\":0,\"fShowEventStatus\":0,\"fShowEditor\":0,\"fShowToolBar\":0,\"fNumberContours\":20,\"fAttDate\":{\"_typename\":\"TAttText\",\"fTextAngle\":0,\"fTextSize\":0.025,\"fTextAlign\":11,\"fTextColor\":1,\"fTextFont\":62},\"fDateX\":0.01,\"fDateY\":0.01,\"fEndErrorSize\":2,\"fErrorX\":0.5,\"fFuncColor\":2,\"fFuncStyle\":1,\"fFuncWidth\":2,\"fGridColor\":0,\"fGridStyle\":3,\"fGridWidth\":1,\"fLegendBorderSize\":1,\"fLegendFillColor\":0,\"fLegendFont\":42,\"fLegendTextSize\":0,\"fHatchesLineWidth\":1,\"fHatchesSpacing\":1,\"fFrameFillColor\":0,\"fFrameLineColor\":1,\"fFrameFillStyle\":1001,\"fFrameLineStyle\":1,\"fFrameLineWidth\":1,\"fFrameBorderSize\":1,\"fFrameBorderMode\":0,\"fHistFillColor\":0,\"fHistLineColor\":602,\"fHistFillStyle\":1001,\"fHistLineStyle\":1,\"fHistLineWidth\":1,\"fHistMinimumZero\":false,\"fHistTopMargin\":0.05,\"fCanvasPreferGL\":false,\"fCanvasColor\":0,\"fCanvasBorderSize\":2,\"fCanvasBorderMode\":0,\"fCanvasDefH\":500,\"fCanvasDefW\":700,\"fCanvasDefX\":10,\"fCanvasDefY\":10,\"fPadColor\":0,\"fPadBorderSize\":2,\"fPadBorderMode\":0,\"fPadBottomMargin\":0.1,\"fPadTopMargin\":0.1,\"fPadLeftMargin\":0.1,\"fPadRightMargin\":0.1,\"fPadGridX\":false,\"fPadGridY\":false,\"fPadTickX\":0,\"fPadTickY\":0,\"fPaperSizeX\":20,\"fPaperSizeY\":26,\"fScreenFactor\":1,\"fStatColor\":0,\"fStatTextColor\":1,\"fStatBorderSize\":1,\"fStatFont\":42,\"fStatFontSize\":0,\"fStatStyle\":1001,\"fStatFormat\":\"6.4g\",\"fStatX\":0.98,\"fStatY\":0.935,\"fStatW\":0.2,\"fStatH\":0.16,\"fStripDecimals\":true,\"fTitleAlign\":23,\"fTitleColor\":0,\"fTitleTextColor\":1,\"fTitleBorderSize\":0,\"fTitleFont\":42,\"fTitleFontSize\":0.05,\"fTitleStyle\":0,\"fTitleX\":0.5,\"fTitleY\":0.995,\"fTitleW\":0,\"fTitleH\":0,\"fLegoInnerR\":0.5,\"fLineStyle\":[\"\",\"  \",\" 12 12\",\" 4 8\",\" 12 16 4 16\",\" 20 12 4 12\",\" 20 12 4 12 4 12 4 12\",\" 20 20\",\" 20 12 4 12 4 12\",\" 80 20\",\" 80 40 4 40\",\"  \",\"  \",\"  \",\"  \",\"  \",\"  \",\"  \",\"  \",\"  \",\"  \",\"  \",\"  \",\"  \",\"  \",\"  \",\"  \",\"  \",\"  \",\"  \"],\"fHeaderPS\":\"\",\"fTitlePS\":\"\",\"fFitFormat\":\"5.4g\",\"fPaintTextFormat\":\"g\",\"fLineScalePS\":3,\"fJoinLinePS\":0,\"fCapLinePS\":0,\"fTimeOffset\":788918400,\"fImageScaling\":1}],\"opt\":[\"\",\"\",\"blNDC\",\"\"]},\"fExecs\":null,\"fName\":\"c1_n4\",\"fTitle\":\"c1_n4\",\"fNumPaletteColor\":0,\"fNextPaletteColor\":0,\"fDISPLAY\":\"$DISPLAY\",\"fDoubleBuffer\":0,\"fRetained\":true,\"fXsizeUser\":0,\"fYsizeUser\":0,\"fXsizeReal\":20,\"fYsizeReal\":14.28571,\"fWindowTopX\":0,\"fWindowTopY\":0,\"fWindowWidth\":0,\"fWindowHeight\":0,\"fCw\":696,\"fCh\":472,\"fCatt\":{\"_typename\":\"TAttCanvas\",\"fXBetween\":2,\"fYBetween\":2,\"fTitleFromTop\":1.2,\"fXdate\":0.2,\"fYdate\":0.3,\"fAdate\":1},\"kMoveOpaque\":true,\"kResizeOpaque\":true,\"fHighLightColor\":2,\"fBatch\":true,\"kShowEventStatus\":false,\"kAutoExec\":true,\"kMenuBar\":true});\n",
       "            Core.draw(\"root_plot_1617377707004\", obj, \"\");\n",
       "        }\n",
       "    );\n",
       "}\n",
       "</script>\n"
      ],
      "text/plain": [
       "<IPython.core.display.HTML object>"
      ]
     },
     "metadata": {},
     "output_type": "display_data"
    }
   ],
   "source": [
    "c = R.TCanvas()\n",
    "h.Draw()\n",
    "c.Draw()"
   ]
  },
  {
   "cell_type": "code",
   "execution_count": 134,
   "id": "arbitrary-drill",
   "metadata": {
    "ExecuteTime": {
     "end_time": "2021-04-02T15:35:09.718264Z",
     "start_time": "2021-04-02T15:35:09.609784Z"
    }
   },
   "outputs": [
    {
     "data": {
      "text/plain": [
       "447"
      ]
     },
     "execution_count": 134,
     "metadata": {},
     "output_type": "execute_result"
    }
   ],
   "source": [
    "func1.Write()"
   ]
  },
  {
   "cell_type": "code",
   "execution_count": 113,
   "id": "classified-massachusetts",
   "metadata": {
    "ExecuteTime": {
     "end_time": "2021-04-02T15:33:27.545105Z",
     "start_time": "2021-04-02T15:33:27.420763Z"
    }
   },
   "outputs": [
    {
     "name": "stdout",
     "output_type": "stream",
     "text": [
      "12221.376780203735\n",
      " FCN=0.115768 FROM MIGRAD    STATUS=CONVERGED     206 CALLS         207 TOTAL\n",
      "                     EDM=1.43537e-07    STRATEGY= 1      ERROR MATRIX ACCURATE \n",
      "  EXT PARAMETER                                   STEP         FIRST   \n",
      "  NO.   NAME      VALUE            ERROR          SIZE      DERIVATIVE \n",
      "   1  p0           5.32884e-01   1.52631e-01   2.72258e-05  -1.70422e-03\n",
      "   2  p1           1.49568e+00   3.36056e+01   2.60640e-03  -3.56072e-05\n",
      "   3  p2           2.31790e-02   1.88446e-01   1.36940e-05   8.68195e-03\n",
      "   4  p3          -5.97753e-05   1.55852e-04   2.96605e-08   4.29419e-01\n",
      "                               ERR DEF= 0.5\n"
     ]
    }
   ],
   "source": [
    "f.cd(\"/\")\n",
    "f.cd(\"mjj100_njet6\")\n",
    "h = R.gDirectory.Get(\"ratio_mjj_zoom2\")\n",
    "\n",
    "#func1 = R.TF1(\"fit_mjj\", \"1 + [0]/(1 + [1]*TMath::Exp(-[2]*(x-[3])))\", 150, 1400)\n",
    "\n",
    "func1 = R.TF1(\"fit_mjj\", \"[0] + [1]*TMath::Exp(-[2]*(x)) + [3]*x\", 100 , 3000) # + [0]/(1 + [1]*TMath::Exp(+[2]*(x-[3]))) + [4]\n",
    "# #func1.SetLineColor(R.kRed)\n",
    "\n",
    "func1.SetParameter(0,0.65)\n",
    "func1.SetParameter(1,1.6)\n",
    "func1.SetParameter(2,0.03)\n",
    "func1.SetParameter(2,0.03)\n",
    "\n",
    "s = h.Fit(func1, \"RLS\")\n",
    "\n",
    "print(s.Chi2())"
   ]
  },
  {
   "cell_type": "code",
   "execution_count": 114,
   "id": "synthetic-fundamental",
   "metadata": {
    "ExecuteTime": {
     "end_time": "2021-04-02T15:33:30.248008Z",
     "start_time": "2021-04-02T15:33:30.128889Z"
    }
   },
   "outputs": [
    {
     "data": {
      "text/html": [
       "\n",
       "<div id=\"root_plot_1617377610241\"\n",
       "     style=\"width: 696px; height: 472px\">\n",
       "</div>\n",
       "<script>\n",
       "if (typeof require !== 'undefined') {\n",
       "\n",
       "    // All requirements met (we are in jupyter notebooks or we loaded requirejs before).\n",
       "    display_root_plot_1617377610241();\n",
       "\n",
       "} else {\n",
       "\n",
       "    // We are in jupyterlab, we need to insert requirejs and configure it.\n",
       "    // Jupyterlab might be installed in a different base_url so we need to know it.\n",
       "    try {\n",
       "        var base_url = JSON.parse(document.getElementById('jupyter-config-data').innerHTML).baseUrl;\n",
       "    } catch(_) {\n",
       "        var base_url = '/';\n",
       "    }\n",
       "\n",
       "    // Try loading a local version of requirejs and fallback to cdn if not possible.\n",
       "    requirejs_load(base_url + 'static/components/requirejs/require.js', requirejs_success(base_url), function(){\n",
       "        requirejs_load('https://cdnjs.cloudflare.com/ajax/libs/require.js/2.2.0/require.min.js', requirejs_success(base_url), function(){\n",
       "            document.getElementById(\"root_plot_1617377610241\").innerHTML = \"Failed to load requireJs\";\n",
       "        });\n",
       "    });\n",
       "}\n",
       "\n",
       "function requirejs_load(src, on_load, on_error) {\n",
       "    var script = document.createElement('script');\n",
       "    script.src = src;\n",
       "    script.onload = on_load;\n",
       "    script.onerror = on_error;\n",
       "    document.head.appendChild(script);\n",
       "}\n",
       "\n",
       "function requirejs_success(base_url) {\n",
       "    return function() {\n",
       "        require.config({\n",
       "            baseUrl: base_url + 'static/'\n",
       "        });\n",
       "        display_root_plot_1617377610241();\n",
       "    }\n",
       "}\n",
       "\n",
       "function display_root_plot_1617377610241() {\n",
       "    require(['scripts/JSRootCore'],\n",
       "        function(Core) {\n",
       "            var obj = Core.JSONR_unref({\"_typename\":\"TCanvas\",\"fUniqueID\":0,\"fBits\":3342344,\"fLineColor\":1,\"fLineStyle\":1,\"fLineWidth\":1,\"fFillColor\":0,\"fFillStyle\":1001,\"fLeftMargin\":0.1,\"fRightMargin\":0.1,\"fBottomMargin\":0.1,\"fTopMargin\":0.1,\"fXfile\":2,\"fYfile\":2,\"fAfile\":1,\"fXstat\":0.99,\"fYstat\":0.99,\"fAstat\":2,\"fFrameFillColor\":0,\"fFrameLineColor\":1,\"fFrameFillStyle\":1001,\"fFrameLineStyle\":1,\"fFrameLineWidth\":1,\"fFrameBorderSize\":1,\"fFrameBorderMode\":0,\"fX1\":-131.250013504178,\"fY1\":-0.172830265404049,\"fX2\":1681.25001350418,\"fY2\":1.55547228562158,\"fXtoAbsPixelk\":50.4000544345858,\"fXtoPixelk\":50.4000544345858,\"fXtoPixel\":0.383999994277954,\"fYtoAbsPixelk\":424.800047186661,\"fYtoPixelk\":424.800047186661,\"fYtoPixel\":-273.100331721376,\"fUtoAbsPixelk\":5e-5,\"fUtoPixelk\":5e-5,\"fUtoPixel\":696,\"fVtoAbsPixelk\":472.00005,\"fVtoPixelk\":472,\"fVtoPixel\":-472,\"fAbsPixeltoXk\":-131.250013504178,\"fPixeltoXk\":-131.250013504178,\"fPixeltoX\":2.60416670547178,\"fAbsPixeltoYk\":1.55547228562158,\"fPixeltoYk\":-0.172830265404049,\"fPixeltoY\":-0.0036616579470882,\"fXlowNDC\":0,\"fYlowNDC\":0,\"fXUpNDC\":1,\"fYUpNDC\":1,\"fWNDC\":1,\"fHNDC\":1,\"fAbsXlowNDC\":0,\"fAbsYlowNDC\":0,\"fAbsWNDC\":1,\"fAbsHNDC\":1,\"fUxmin\":50,\"fUymin\":0,\"fUxmax\":1500,\"fUymax\":1.38264202021753,\"fTheta\":30,\"fPhi\":30,\"fAspectRatio\":0,\"fNumber\":0,\"fTickx\":0,\"fTicky\":0,\"fLogx\":0,\"fLogy\":0,\"fLogz\":0,\"fPadPaint\":0,\"fCrosshair\":0,\"fCrosshairPos\":0,\"fBorderSize\":2,\"fBorderMode\":0,\"fModified\":false,\"fGridx\":false,\"fGridy\":false,\"fAbsCoord\":false,\"fEditable\":true,\"fFixedAspectRatio\":false,\"fPrimitives\":{\"_typename\":\"TList\",\"name\":\"TList\",\"arr\":[{\"_typename\":\"TFrame\",\"fUniqueID\":0,\"fBits\":8,\"fLineColor\":1,\"fLineStyle\":1,\"fLineWidth\":1,\"fFillColor\":0,\"fFillStyle\":1001,\"fX1\":50,\"fY1\":0,\"fX2\":1500,\"fY2\":1.38264202021753,\"fBorderSize\":1,\"fBorderMode\":0},{\"_typename\":\"TH1D\",\"fUniqueID\":0,\"fBits\":8,\"fName\":\"ratio_mjj_zoom2\",\"fTitle\":\"mjj\",\"fLineColor\":602,\"fLineStyle\":1,\"fLineWidth\":1,\"fFillColor\":0,\"fFillStyle\":1001,\"fMarkerColor\":1,\"fMarkerStyle\":1,\"fMarkerSize\":1,\"fNcells\":202,\"fXaxis\":{\"_typename\":\"TAxis\",\"fUniqueID\":0,\"fBits\":0,\"fName\":\"xaxis\",\"fTitle\":\"\",\"fNdivisions\":510,\"fAxisColor\":1,\"fLabelColor\":1,\"fLabelFont\":42,\"fLabelOffset\":0.005,\"fLabelSize\":0.035,\"fTickLength\":0.03,\"fTitleOffset\":1,\"fTitleSize\":0.035,\"fTitleColor\":1,\"fTitleFont\":42,\"fNbins\":200,\"fXmin\":50,\"fXmax\":1500,\"fXbins\":[],\"fFirst\":0,\"fLast\":0,\"fBits2\":0,\"fTimeDisplay\":false,\"fTimeFormat\":\"\",\"fLabels\":null,\"fModLabs\":null},\"fYaxis\":{\"_typename\":\"TAxis\",\"fUniqueID\":0,\"fBits\":0,\"fName\":\"yaxis\",\"fTitle\":\"\",\"fNdivisions\":510,\"fAxisColor\":1,\"fLabelColor\":1,\"fLabelFont\":42,\"fLabelOffset\":0.005,\"fLabelSize\":0.035,\"fTickLength\":0.03,\"fTitleOffset\":0,\"fTitleSize\":0.035,\"fTitleColor\":1,\"fTitleFont\":42,\"fNbins\":1,\"fXmin\":0,\"fXmax\":1,\"fXbins\":[],\"fFirst\":0,\"fLast\":0,\"fBits2\":0,\"fTimeDisplay\":false,\"fTimeFormat\":\"\",\"fLabels\":null,\"fModLabs\":null},\"fZaxis\":{\"_typename\":\"TAxis\",\"fUniqueID\":0,\"fBits\":0,\"fName\":\"zaxis\",\"fTitle\":\"\",\"fNdivisions\":510,\"fAxisColor\":1,\"fLabelColor\":1,\"fLabelFont\":42,\"fLabelOffset\":0.005,\"fLabelSize\":0.035,\"fTickLength\":0.03,\"fTitleOffset\":1,\"fTitleSize\":0.035,\"fTitleColor\":1,\"fTitleFont\":42,\"fNbins\":1,\"fXmin\":0,\"fXmax\":1,\"fXbins\":[],\"fFirst\":0,\"fLast\":0,\"fBits2\":0,\"fTimeDisplay\":false,\"fTimeFormat\":\"\",\"fLabels\":null,\"fModLabs\":null},\"fBarOffset\":0,\"fBarWidth\":1000,\"fEntries\":22261.6920918643,\"fTsumw\":95.2618509334607,\"fTsumw2\":0.407642878439835,\"fTsumwx\":73238.886541506,\"fTsumwx2\":72283241.191717,\"fMaximum\":-1111,\"fMinimum\":-1111,\"fNormFactor\":0,\"fContour\":[],\"fSumw2\":[0,0,0,0,0,0,0,0.280177814753173,0.0116472183331797,0.00385272294875511,0.0026298266011973,0.00125478468378312,0.00108983542286331,0.00105626268881658,7.49623608483276e-4,5.90595488947325e-4,5.16108780835629e-4,4.88217434718903e-4,4.23690236827958e-4,3.57450142263361e-4,3.41054915813752e-4,3.17712908813648e-4,2.62188138759813e-4,2.78565580147381e-4,2.54074691165397e-4,2.44310833909518e-4,2.40159471428575e-4,2.51506268760104e-4,2.35137374529821e-4,2.2841139134837e-4,2.28509875540178e-4,2.17767820741853e-4,2.06668964584171e-4,1.98100969560165e-4,2.09572137439938e-4,2.1209005154202e-4,2.21558735131284e-4,2.29388922705303e-4,2.02977097988072e-4,2.15540736161257e-4,2.09811937497631e-4,2.25657005190074e-4,2.17665537124435e-4,2.05525823771495e-4,2.10795184920147e-4,2.20028196874792e-4,2.12728134291104e-4,2.19370106138559e-4,2.54444428686051e-4,2.34266144256304e-4,2.34157961483902e-4,2.17171521041832e-4,2.35979550128876e-4,2.51915453641752e-4,2.33471015297298e-4,2.45276754302211e-4,2.53079695933489e-4,2.65475298370118e-4,2.41205079707943e-4,2.63377472669866e-4,2.60410022405841e-4,2.4275223008537e-4,2.67989138794596e-4,2.6817699718355e-4,2.62678377441389e-4,2.99032974744948e-4,2.7061946473454e-4,2.94620918421274e-4,2.82991710297444e-4,2.66848418554323e-4,2.99001872285431e-4,3.06795090837122e-4,2.83431000045432e-4,2.95540230474415e-4,3.18495468357502e-4,3.1244642420486e-4,3.07465090608523e-4,3.17184875414836e-4,3.26091134849895e-4,2.88011492130802e-4,3.09707433971722e-4,3.04684230206205e-4,3.73806222856735e-4,3.31581126771847e-4,3.9306826833244e-4,3.71752821451437e-4,3.73378313610357e-4,3.77028212810931e-4,3.76743284947866e-4,3.50920275910129e-4,3.8075319155303e-4,4.13526554584946e-4,3.93587435066566e-4,3.41249263772435e-4,4.49985176984515e-4,4.3862360230537e-4,4.11637831024992e-4,4.17799511522216e-4,4.19191983390397e-4,4.11149254917684e-4,3.91653333418744e-4,4.43861962819155e-4,4.60829455152219e-4,4.12950928032851e-4,4.76573722795559e-4,4.21802999817907e-4,4.44490190350493e-4,4.80631018717818e-4,4.94249301965886e-4,4.61463937079542e-4,4.89078550429758e-4,5.02210822854571e-4,4.71502334122989e-4,4.74318372430308e-4,5.08415258963224e-4,6.12352322079814e-4,5.79670117857588e-4,4.33273195281795e-4,5.22980752979305e-4,5.8369294702563e-4,5.33216654970467e-4,6.07589067046571e-4,5.8142421336742e-4,5.34223787761617e-4,6.2089009214245e-4,6.27887626267977e-4,5.34541245755275e-4,6.17441732657967e-4,6.27239841393917e-4,6.78534294643479e-4,6.47367257401166e-4,6.4345321070317e-4,4.61054590666123e-4,7.16935557334404e-4,6.73471884438719e-4,7.01791662117322e-4,5.95199177485177e-4,6.51480422849239e-4,5.94342950312528e-4,6.14925174844173e-4,6.43387316750286e-4,6.3555024290634e-4,6.13267597194115e-4,7.2160556275678e-4,6.83780151594826e-4,7.33373247010887e-4,6.91748539398557e-4,6.95687198439596e-4,6.43160008350076e-4,7.67179127469267e-4,6.45180249722891e-4,7.7158572077657e-4,7.54149083853581e-4,8.17864765259942e-4,7.41404870932911e-4,8.75059987944305e-4,8.68723794417996e-4,9.22624496365616e-4,8.4088991629963e-4,8.64833034860338e-4,0.00102470295582473,8.89461362203013e-4,8.63705838615082e-4,8.74732578900344e-4,9.29425229870016e-4,8.98960333011837e-4,8.7570206812716e-4,8.56507774895499e-4,0.00105605075857113,9.03410504978726e-4,8.21599084051492e-4,0.00110309628815257,8.57742560379012e-4,0.00103601153720382,8.46152330621698e-4,9.24097511780164e-4,0.00112986681951854,0.00112910049054851,9.79739779522999e-4,9.38165663796625e-4,0.0010089437602941,0.00131783519146041,0.00142832825270515,0.00100279384900575,0.00105134347665322,0.00120668891225667,0.00104198787729456,9.73949007308156e-4,0.00136809403919324,0.00104525690114808,0.0011696079810694,0.00100950187463213,0.00145683513688528,0.00128367350476824,0.00129883082349582,0.00147778677891233,0.00105409837937418,0.00124341386625465,0.00129158119763897,0.00142228871097499,1.33328191265937e-7,1.258771390692e-5],\"fOption\":\"\",\"fFunctions\":{\"_typename\":\"TList\",\"name\":\"TList\",\"arr\":[{\"_typename\":\"TPaveStats\",\"fUniqueID\":0,\"fBits\":9,\"fLineColor\":1,\"fLineStyle\":1,\"fLineWidth\":1,\"fFillColor\":0,\"fFillStyle\":1001,\"fX1\":1282.50003673136,\"fY1\":1.1666042219423,\"fX2\":1645.00004753471,\"fY2\":1.44313262392551,\"fX1NDC\":0.780000016093254,\"fY1NDC\":0.775000005960464,\"fX2NDC\":0.980000019073486,\"fY2NDC\":0.935000002384186,\"fBorderSize\":1,\"fInit\":1,\"fShadowColor\":1,\"fCornerRadius\":0,\"fOption\":\"brNDC\",\"fName\":\"stats\",\"fTextAngle\":0,\"fTextSize\":0,\"fTextAlign\":12,\"fTextColor\":1,\"fTextFont\":42,\"fLabel\":\"\",\"fLongest\":18,\"fMargin\":0.05,\"fLines\":{\"_typename\":\"TList\",\"name\":\"TList\",\"arr\":[{\"_typename\":\"TLatex\",\"fUniqueID\":0,\"fBits\":0,\"fName\":\"\",\"fTitle\":\"ratio_mjj_zoom2\",\"fTextAngle\":0,\"fTextSize\":0.0368,\"fTextAlign\":0,\"fTextColor\":0,\"fTextFont\":0,\"fX\":0,\"fY\":0,\"fLineColor\":1,\"fLineStyle\":1,\"fLineWidth\":2,\"fLimitFactorSize\":3,\"fOriginSize\":0.0368000008165836},{\"_typename\":\"TLatex\",\"fUniqueID\":0,\"fBits\":0,\"fName\":\"\",\"fTitle\":\"Entries = 22262  \",\"fTextAngle\":0,\"fTextSize\":0,\"fTextAlign\":0,\"fTextColor\":0,\"fTextFont\":0,\"fX\":0,\"fY\":0,\"fLineColor\":1,\"fLineStyle\":1,\"fLineWidth\":2,\"fLimitFactorSize\":3,\"fOriginSize\":0.04},{\"_typename\":\"TLatex\",\"fUniqueID\":0,\"fBits\":0,\"fName\":\"\",\"fTitle\":\"Mean  =  768.8\",\"fTextAngle\":0,\"fTextSize\":0,\"fTextAlign\":0,\"fTextColor\":0,\"fTextFont\":0,\"fX\":0,\"fY\":0,\"fLineColor\":1,\"fLineStyle\":1,\"fLineWidth\":2,\"fLimitFactorSize\":3,\"fOriginSize\":0.04},{\"_typename\":\"TLatex\",\"fUniqueID\":0,\"fBits\":0,\"fName\":\"\",\"fTitle\":\"Std Dev   =  409.5\",\"fTextAngle\":0,\"fTextSize\":0,\"fTextAlign\":0,\"fTextColor\":0,\"fTextFont\":0,\"fX\":0,\"fY\":0,\"fLineColor\":1,\"fLineStyle\":1,\"fLineWidth\":2,\"fLimitFactorSize\":3,\"fOriginSize\":0.04}],\"opt\":[\"\",\"\",\"\",\"\"]},\"fOptFit\":0,\"fOptStat\":1111,\"fFitFormat\":\"5.4g\",\"fStatFormat\":\"6.4g\",\"fParent\":{\"$ref\":3}},{\"_typename\":\"TF1\",\"fUniqueID\":0,\"fBits\":1024,\"fName\":\"fit_mjj\",\"fTitle\":\"[0] + [1]*TMath::Exp(-[2]*(x)) + [3]*x\",\"fLineColor\":2,\"fLineStyle\":1,\"fLineWidth\":2,\"fFillColor\":19,\"fFillStyle\":0,\"fMarkerColor\":1,\"fMarkerStyle\":1,\"fMarkerSize\":1,\"fXmin\":100,\"fXmax\":3000,\"fNpar\":4,\"fNdim\":1,\"fNpx\":100,\"fType\":0,\"fNpfits\":193,\"fNDF\":189,\"fChisquare\":12221.3767802037,\"fMinimum\":-1111,\"fMaximum\":-1111,\"fParErrors\":[0.152630966638696,33.6056438960929,0.188445684035343,1.55852228155731e-4],\"fParMin\":[0,0,0,0],\"fParMax\":[0,0,0,0],\"fSave\":[0.674200700491404,0.600379734112559,0.561839229089812,0.541312512983891,0.52998342578267,0.523350539800368,0.51911547896595,0.516104719470379,0.513719073849198,0.511652604025311,0.509749101612247,0.507928808443791,0.506151000937673,0.50439488611141,0.502649847312528,0.500910463803048,0.499173967817872,0.497438946168667,0.495704677298082,0.493970792787413,0.492237104526399,0.490503516468152,0.488769979572261,0.487036468799268,0.485302971364319,0.483569480739618,0.48183599359215,0.480102508220117,0.4783690237546,0.476635539751939,0.474902055985607,0.473168572339941,0.471435088755887,0.469701605203291,0.467968121666757,0.466234638138424,0.464501154614278,0.46276767109227,0.461034187571354,0.459300704050995,0.457567220530921,0.455833737010992,0.454100253491137,0.452366769971321,0.450633286451523,0.448899802931736,0.447166319411953,0.445432835892173,0.443699352372395,0.441965868852617,0.440232385332839,0.438498901813062,0.436765418293284,0.435031934773507,0.43329845125373,0.431564967733952,0.429831484214175,0.428098000694398,0.426364517174621,0.424631033654843,0.422897550135066,0.421164066615289,0.419430583095512,0.417697099575734,0.415963616055957,0.41423013253618,0.412496649016403,0.410763165496625,0.409029681976848,0.407296198457071,0.405562714937294,0.403829231417516,0.402095747897739,0.400362264377962,0.398628780858185,0.396895297338407,0.39516181381863,0.393428330298853,0.391694846779076,0.389961363259298,0.388227879739521,0.386494396219744,0.384760912699967,0.383027429180189,0.381293945660412,0.379560462140635,0.377826978620858,0.37609349510108,0.374360011581303,0.372626528061526,0.370893044541749,0.369159561021971,0.367426077502194,0.365692593982417,0.36395911046264,0.362225626942862,0.360492143423085,0.358758659903308,0.357025176383531,0.355291692863753,0.353558209343976,100,3000],\"fNormalized\":false,\"fNormIntegral\":0,\"fFormula\":{\"_typename\":\"TFormula\",\"fUniqueID\":0,\"fBits\":1024,\"fName\":\"fit_mjj\",\"fTitle\":\"[0] + [1]*TMath::Exp(-[2]*(x)) + [3]*x\",\"fClingParameters\":[0.532884090700243,1.49567706106693,0.023179027326768,-5.97752937854225e-5],\"fAllParametersSetted\":true,\"fParams\":[{\"$pair\":\"pair<TString,int,TFormulaParamOrder>\",\"first\":\"p0\",\"second\":0},{\"$pair\":\"pair<TString,int,TFormulaParamOrder>\",\"first\":\"p1\",\"second\":1},{\"$pair\":\"pair<TString,int,TFormulaParamOrder>\",\"first\":\"p2\",\"second\":2},{\"$pair\":\"pair<TString,int,TFormulaParamOrder>\",\"first\":\"p3\",\"second\":3}],\"fFormula\":\"[p0]+[p1]*TMath::Exp(-[p2]*(x))+[p3]*x\",\"fNdim\":1,\"fLinearParts\":[],\"fVectorized\":false},\"fParams\":null,\"fComposition_ptr\":null}],\"opt\":[\"brNDC\",\"\"]},\"fBufferSize\":0,\"fBuffer\":[],\"fBinStatErrOpt\":0,\"fStatOverflows\":2,\"fArray\":[0,0,0,0,0,0,0,0.787483669321873,0.73663491654474,0.586696911095334,0.625139655109366,0.512713000766994,0.567873259585815,0.624479808756457,0.595271536951008,0.557052682759683,0.559077221394793,0.576270192477121,0.559895115311641,0.53741938346907,0.554948031476274,0.55603846590848,0.511405624585219,0.542586922926169,0.533497919068686,0.518239098453899,0.519926653413461,0.54410262723036,0.536617618403924,0.526471064588529,0.526244826754441,0.520464579353201,0.503089510986338,0.493144020097504,0.516754386960848,0.517154099773461,0.525408846720926,0.530613939788495,0.497376124070146,0.518821984264495,0.513696722305337,0.527269686053323,0.509223358972662,0.498008049037633,0.495231916211228,0.509490458403498,0.491079814750087,0.500424905236847,0.534586863219469,0.51153201228971,0.508354269845872,0.488529437308639,0.511359798008611,0.526216493020335,0.498108774341608,0.507722012552832,0.510844794143182,0.533951266168887,0.501675515359222,0.521948058890614,0.503879666054289,0.489131594934042,0.510205698735793,0.501574624940556,0.495764454209094,0.526565533974417,0.491415160043794,0.517789395360733,0.487293424749676,0.480302605208242,0.506836323978636,0.512567579943668,0.478583507562162,0.492674380940287,0.504791561435149,0.492678000357217,0.494762479821565,0.497975283421446,0.500521076602379,0.46353950632288,0.480552425810164,0.468332500397902,0.506952092731257,0.47996275502543,0.534880774217084,0.503641493176366,0.502127816802786,0.499746418359365,0.500490678668063,0.488146617764013,0.491600557585449,0.51710504444441,0.489411260828634,0.46045723358556,0.519641688926598,0.512474830470286,0.488197503776953,0.496330969887959,0.494359239337972,0.485688618386327,0.460871447190119,0.491291988673758,0.50268567437951,0.468588655309257,0.500915303757217,0.457052899234063,0.473619020594684,0.490553225482879,0.48746703283471,0.466682064529471,0.473737763417839,0.48812022446585,0.46578810216418,0.465514986415366,0.467574195575133,0.532985402844239,0.502437750957964,0.433351410207907,0.468181496627413,0.498410105398291,0.474557872944894,0.496581742970566,0.487887810586964,0.464493447381161,0.501857329581408,0.4896184759593,0.449175109569232,0.486853225165977,0.481712880822254,0.503316006039705,0.497799960140004,0.479279521766155,0.390867684414578,0.509651951110687,0.478307444419351,0.493193286904795,0.434526685526275,0.464478518735851,0.431669353448664,0.441547190461707,0.455774447059079,0.444803150517108,0.419430863185094,0.468544643917266,0.456942388515318,0.470431884399775,0.450541058337652,0.436089155796741,0.430753060619919,0.47419848522449,0.425903888525014,0.473671110069697,0.449512342238041,0.477713651017166,0.449630680788858,0.470032200782904,0.471816445575131,0.477941367719827,0.464103722905866,0.457134075985009,0.514184855443674,0.466345218300011,0.457488266599654,0.457981611102733,0.466026782847006,0.466743343590132,0.455531879765117,0.451457974271447,0.503836769172606,0.453921153795509,0.424828445834776,0.507707037479116,0.428054291591672,0.493637965586875,0.409490960774216,0.43665695116786,0.480738807193188,0.466090778231259,0.420136868406163,0.413134494976746,0.432805735290955,0.506662730638357,0.524219394945203,0.441342772185737,0.433644516851319,0.467552676357051,0.434192445314023,0.406010307935762,0.486359918699517,0.415490882822257,0.462190525833646,0.410872159414522,0.496557964557758,0.454580494626659,0.458182811114457,0.48511548713264,0.410887995566546,0.464517073124267,0.458606365208437,0.469418058269383,0.40335300698612,0.402991317432009]},{\"_typename\":\"TPaveText\",\"fUniqueID\":0,\"fBits\":9,\"fLineColor\":1,\"fLineStyle\":1,\"fLineWidth\":1,\"fFillColor\":0,\"fFillStyle\":0,\"fX1\":712.604165736896,\"fY1\":1.4413750322315,\"fX2\":837.395834263104,\"fY2\":1.54683078110764,\"fX1NDC\":0.465574712643678,\"fY1NDC\":0.933983055615829,\"fX2NDC\":0.534425287356322,\"fY2NDC\":0.995000004768372,\"fBorderSize\":0,\"fInit\":1,\"fShadowColor\":1,\"fCornerRadius\":0,\"fOption\":\"blNDC\",\"fName\":\"title\",\"fTextAngle\":0,\"fTextSize\":0,\"fTextAlign\":22,\"fTextColor\":1,\"fTextFont\":42,\"fLabel\":\"\",\"fLongest\":3,\"fMargin\":0.05,\"fLines\":{\"_typename\":\"TList\",\"name\":\"TList\",\"arr\":[{\"_typename\":\"TLatex\",\"fUniqueID\":0,\"fBits\":0,\"fName\":\"\",\"fTitle\":\"mjj\",\"fTextAngle\":0,\"fTextSize\":0,\"fTextAlign\":0,\"fTextColor\":0,\"fTextFont\":0,\"fX\":0,\"fY\":0,\"fLineColor\":1,\"fLineStyle\":1,\"fLineWidth\":2,\"fLimitFactorSize\":3,\"fOriginSize\":0.0518644079566002}],\"opt\":[\"\"]}},{\"_typename\":\"TStyle\",\"fUniqueID\":0,\"fBits\":0,\"fName\":\"Modern\",\"fTitle\":\"Modern Style\",\"fLineColor\":1,\"fLineStyle\":1,\"fLineWidth\":1,\"fFillColor\":19,\"fFillStyle\":1001,\"fMarkerColor\":1,\"fMarkerStyle\":1,\"fMarkerSize\":1,\"fTextAngle\":0,\"fTextSize\":0.05,\"fTextAlign\":11,\"fTextColor\":1,\"fTextFont\":62,\"fXaxis\":{\"_typename\":\"TAttAxis\",\"fNdivisions\":510,\"fAxisColor\":1,\"fLabelColor\":1,\"fLabelFont\":42,\"fLabelOffset\":0.005,\"fLabelSize\":0.035,\"fTickLength\":0.03,\"fTitleOffset\":1,\"fTitleSize\":0.035,\"fTitleColor\":1,\"fTitleFont\":42},\"fYaxis\":{\"_typename\":\"TAttAxis\",\"fNdivisions\":510,\"fAxisColor\":1,\"fLabelColor\":1,\"fLabelFont\":42,\"fLabelOffset\":0.005,\"fLabelSize\":0.035,\"fTickLength\":0.03,\"fTitleOffset\":0,\"fTitleSize\":0.035,\"fTitleColor\":1,\"fTitleFont\":42},\"fZaxis\":{\"_typename\":\"TAttAxis\",\"fNdivisions\":510,\"fAxisColor\":1,\"fLabelColor\":1,\"fLabelFont\":42,\"fLabelOffset\":0.005,\"fLabelSize\":0.035,\"fTickLength\":0.03,\"fTitleOffset\":1,\"fTitleSize\":0.035,\"fTitleColor\":1,\"fTitleFont\":42},\"fBarWidth\":1,\"fBarOffset\":0,\"fColorModelPS\":0,\"fDrawBorder\":0,\"fOptLogx\":0,\"fOptLogy\":0,\"fOptLogz\":0,\"fOptDate\":0,\"fOptStat\":1111,\"fOptTitle\":1,\"fOptFile\":0,\"fOptFit\":0,\"fShowEventStatus\":0,\"fShowEditor\":0,\"fShowToolBar\":0,\"fNumberContours\":20,\"fAttDate\":{\"_typename\":\"TAttText\",\"fTextAngle\":0,\"fTextSize\":0.025,\"fTextAlign\":11,\"fTextColor\":1,\"fTextFont\":62},\"fDateX\":0.01,\"fDateY\":0.01,\"fEndErrorSize\":2,\"fErrorX\":0.5,\"fFuncColor\":2,\"fFuncStyle\":1,\"fFuncWidth\":2,\"fGridColor\":0,\"fGridStyle\":3,\"fGridWidth\":1,\"fLegendBorderSize\":1,\"fLegendFillColor\":0,\"fLegendFont\":42,\"fLegendTextSize\":0,\"fHatchesLineWidth\":1,\"fHatchesSpacing\":1,\"fFrameFillColor\":0,\"fFrameLineColor\":1,\"fFrameFillStyle\":1001,\"fFrameLineStyle\":1,\"fFrameLineWidth\":1,\"fFrameBorderSize\":1,\"fFrameBorderMode\":0,\"fHistFillColor\":0,\"fHistLineColor\":602,\"fHistFillStyle\":1001,\"fHistLineStyle\":1,\"fHistLineWidth\":1,\"fHistMinimumZero\":false,\"fHistTopMargin\":0.05,\"fCanvasPreferGL\":false,\"fCanvasColor\":0,\"fCanvasBorderSize\":2,\"fCanvasBorderMode\":0,\"fCanvasDefH\":500,\"fCanvasDefW\":700,\"fCanvasDefX\":10,\"fCanvasDefY\":10,\"fPadColor\":0,\"fPadBorderSize\":2,\"fPadBorderMode\":0,\"fPadBottomMargin\":0.1,\"fPadTopMargin\":0.1,\"fPadLeftMargin\":0.1,\"fPadRightMargin\":0.1,\"fPadGridX\":false,\"fPadGridY\":false,\"fPadTickX\":0,\"fPadTickY\":0,\"fPaperSizeX\":20,\"fPaperSizeY\":26,\"fScreenFactor\":1,\"fStatColor\":0,\"fStatTextColor\":1,\"fStatBorderSize\":1,\"fStatFont\":42,\"fStatFontSize\":0,\"fStatStyle\":1001,\"fStatFormat\":\"6.4g\",\"fStatX\":0.98,\"fStatY\":0.935,\"fStatW\":0.2,\"fStatH\":0.16,\"fStripDecimals\":true,\"fTitleAlign\":23,\"fTitleColor\":0,\"fTitleTextColor\":1,\"fTitleBorderSize\":0,\"fTitleFont\":42,\"fTitleFontSize\":0.05,\"fTitleStyle\":0,\"fTitleX\":0.5,\"fTitleY\":0.995,\"fTitleW\":0,\"fTitleH\":0,\"fLegoInnerR\":0.5,\"fLineStyle\":[\"\",\"  \",\" 12 12\",\" 4 8\",\" 12 16 4 16\",\" 20 12 4 12\",\" 20 12 4 12 4 12 4 12\",\" 20 20\",\" 20 12 4 12 4 12\",\" 80 20\",\" 80 40 4 40\",\"  \",\"  \",\"  \",\"  \",\"  \",\"  \",\"  \",\"  \",\"  \",\"  \",\"  \",\"  \",\"  \",\"  \",\"  \",\"  \",\"  \",\"  \",\"  \"],\"fHeaderPS\":\"\",\"fTitlePS\":\"\",\"fFitFormat\":\"5.4g\",\"fPaintTextFormat\":\"g\",\"fLineScalePS\":3,\"fJoinLinePS\":0,\"fCapLinePS\":0,\"fTimeOffset\":788918400,\"fImageScaling\":1}],\"opt\":[\"\",\"\",\"blNDC\",\"\"]},\"fExecs\":null,\"fName\":\"c1_n3\",\"fTitle\":\"c1_n3\",\"fNumPaletteColor\":0,\"fNextPaletteColor\":0,\"fDISPLAY\":\"$DISPLAY\",\"fDoubleBuffer\":0,\"fRetained\":true,\"fXsizeUser\":0,\"fYsizeUser\":0,\"fXsizeReal\":20,\"fYsizeReal\":14.28571,\"fWindowTopX\":0,\"fWindowTopY\":0,\"fWindowWidth\":0,\"fWindowHeight\":0,\"fCw\":696,\"fCh\":472,\"fCatt\":{\"_typename\":\"TAttCanvas\",\"fXBetween\":2,\"fYBetween\":2,\"fTitleFromTop\":1.2,\"fXdate\":0.2,\"fYdate\":0.3,\"fAdate\":1},\"kMoveOpaque\":true,\"kResizeOpaque\":true,\"fHighLightColor\":2,\"fBatch\":true,\"kShowEventStatus\":false,\"kAutoExec\":true,\"kMenuBar\":true});\n",
       "            Core.draw(\"root_plot_1617377610241\", obj, \"\");\n",
       "        }\n",
       "    );\n",
       "}\n",
       "</script>\n"
      ],
      "text/plain": [
       "<IPython.core.display.HTML object>"
      ]
     },
     "metadata": {},
     "output_type": "display_data"
    }
   ],
   "source": [
    "c = R.TCanvas()\n",
    "h.Draw()\n",
    "c.Draw()"
   ]
  },
  {
   "cell_type": "code",
   "execution_count": 115,
   "id": "automotive-society",
   "metadata": {
    "ExecuteTime": {
     "end_time": "2021-04-02T15:33:32.890667Z",
     "start_time": "2021-04-02T15:33:32.783008Z"
    }
   },
   "outputs": [
    {
     "data": {
      "text/plain": [
       "397"
      ]
     },
     "execution_count": 115,
     "metadata": {},
     "output_type": "execute_result"
    }
   ],
   "source": [
    "func1.Write()"
   ]
  },
  {
   "cell_type": "code",
   "execution_count": 123,
   "id": "latest-second",
   "metadata": {
    "ExecuteTime": {
     "end_time": "2021-04-02T15:34:04.190714Z",
     "start_time": "2021-04-02T15:34:04.067158Z"
    }
   },
   "outputs": [
    {
     "name": "stdout",
     "output_type": "stream",
     "text": [
      "304.09709295725986\n",
      " FCN=0.174543 FROM MIGRAD    STATUS=CONVERGED     340 CALLS         341 TOTAL\n",
      "                     EDM=7.16673e-08    STRATEGY= 1      ERROR MATRIX ACCURATE \n",
      "  EXT PARAMETER                                   STEP         FIRST   \n",
      "  NO.   NAME      VALUE            ERROR          SIZE      DERIVATIVE \n",
      "   1  p0           3.67247e-01   2.70075e-01   3.02585e-05   3.97633e-03\n",
      "   2  p1           1.78989e-01   1.11486e+00   2.73179e-04   4.09998e-04\n",
      "   3  p2           3.90210e-03   3.30262e-02   5.48539e-06  -1.90316e-02\n",
      "   4  p3          -5.55219e-05   1.21025e-04   1.58530e-08   5.38059e+00\n",
      "                               ERR DEF= 0.5\n"
     ]
    }
   ],
   "source": [
    "f.cd(\"/\")\n",
    "f.cd(\"mjj100_njet7\")\n",
    "h = R.gDirectory.Get(\"ratio_mjj_zoom\")\n",
    "\n",
    "#func1 = R.TF1(\"fit_mjj\", \"1 + [0]/(1 + [1]*TMath::Exp(-[2]*(x-[3])))\", 150, 1400)\n",
    "\n",
    "func1 = R.TF1(\"fit_mjj\", \"[0] + [1]*TMath::Exp(-[2]*(x)) + [3]*x\", 120 , 3000) # + [0]/(1 + [1]*TMath::Exp(+[2]*(x-[3]))) + [4]\n",
    "# #func1.SetLineColor(R.kRed)\n",
    "\n",
    "func1.SetParameter(0,0.65)\n",
    "func1.SetParameter(1,1.6)\n",
    "func1.SetParameter(2,0.03)\n",
    "func1.SetParameter(2,0.03)\n",
    "\n",
    "s = h.Fit(func1, \"RLS\")\n",
    "\n",
    "print(s.Chi2())"
   ]
  },
  {
   "cell_type": "code",
   "execution_count": 124,
   "id": "controversial-lobby",
   "metadata": {
    "ExecuteTime": {
     "end_time": "2021-04-02T15:34:06.868236Z",
     "start_time": "2021-04-02T15:34:06.750028Z"
    }
   },
   "outputs": [
    {
     "data": {
      "text/html": [
       "\n",
       "<div id=\"root_plot_1617377646862\"\n",
       "     style=\"width: 696px; height: 472px\">\n",
       "</div>\n",
       "<script>\n",
       "if (typeof require !== 'undefined') {\n",
       "\n",
       "    // All requirements met (we are in jupyter notebooks or we loaded requirejs before).\n",
       "    display_root_plot_1617377646862();\n",
       "\n",
       "} else {\n",
       "\n",
       "    // We are in jupyterlab, we need to insert requirejs and configure it.\n",
       "    // Jupyterlab might be installed in a different base_url so we need to know it.\n",
       "    try {\n",
       "        var base_url = JSON.parse(document.getElementById('jupyter-config-data').innerHTML).baseUrl;\n",
       "    } catch(_) {\n",
       "        var base_url = '/';\n",
       "    }\n",
       "\n",
       "    // Try loading a local version of requirejs and fallback to cdn if not possible.\n",
       "    requirejs_load(base_url + 'static/components/requirejs/require.js', requirejs_success(base_url), function(){\n",
       "        requirejs_load('https://cdnjs.cloudflare.com/ajax/libs/require.js/2.2.0/require.min.js', requirejs_success(base_url), function(){\n",
       "            document.getElementById(\"root_plot_1617377646862\").innerHTML = \"Failed to load requireJs\";\n",
       "        });\n",
       "    });\n",
       "}\n",
       "\n",
       "function requirejs_load(src, on_load, on_error) {\n",
       "    var script = document.createElement('script');\n",
       "    script.src = src;\n",
       "    script.onload = on_load;\n",
       "    script.onerror = on_error;\n",
       "    document.head.appendChild(script);\n",
       "}\n",
       "\n",
       "function requirejs_success(base_url) {\n",
       "    return function() {\n",
       "        require.config({\n",
       "            baseUrl: base_url + 'static/'\n",
       "        });\n",
       "        display_root_plot_1617377646862();\n",
       "    }\n",
       "}\n",
       "\n",
       "function display_root_plot_1617377646862() {\n",
       "    require(['scripts/JSRootCore'],\n",
       "        function(Core) {\n",
       "            var obj = Core.JSONR_unref({\"_typename\":\"TCanvas\",\"fUniqueID\":0,\"fBits\":3342344,\"fLineColor\":1,\"fLineStyle\":1,\"fLineWidth\":1,\"fFillColor\":0,\"fFillStyle\":1001,\"fLeftMargin\":0.1,\"fRightMargin\":0.1,\"fBottomMargin\":0.1,\"fTopMargin\":0.1,\"fXfile\":2,\"fYfile\":2,\"fAfile\":1,\"fXstat\":0.99,\"fYstat\":0.99,\"fAstat\":2,\"fFrameFillColor\":0,\"fFrameLineColor\":1,\"fFrameFillStyle\":1001,\"fFrameLineStyle\":1,\"fFrameLineWidth\":1,\"fFrameBorderSize\":1,\"fFrameBorderMode\":0,\"fX1\":-318.750027474018,\"fY1\":-0.137701467823633,\"fX2\":3368.75002747402,\"fY2\":1.23931312833623,\"fXtoAbsPixelk\":60.1627661535168,\"fXtoPixelk\":60.1627661535168,\"fXtoPixel\":0.188745759899333,\"fYtoAbsPixelk\":424.800047186661,\"fYtoPixelk\":424.800047186661,\"fYtoPixel\":-342.770513338266,\"fUtoAbsPixelk\":5e-5,\"fUtoPixelk\":5e-5,\"fUtoPixel\":696,\"fVtoAbsPixelk\":472.00005,\"fVtoPixelk\":472,\"fVtoPixel\":-472,\"fAbsPixeltoXk\":-318.750027474018,\"fPixeltoXk\":-318.750027474018,\"fPixeltoX\":5.29813226285637,\"fAbsPixeltoYk\":1.23931312833623,\"fPixeltoYk\":-0.137701467823633,\"fPixeltoY\":-0.00291740380542343,\"fXlowNDC\":0,\"fYlowNDC\":0,\"fXUpNDC\":1,\"fYUpNDC\":1,\"fWNDC\":1,\"fHNDC\":1,\"fAbsXlowNDC\":0,\"fAbsYlowNDC\":0,\"fAbsWNDC\":1,\"fAbsHNDC\":1,\"fUxmin\":50,\"fUymin\":0,\"fUxmax\":3000,\"fUymax\":1.10161166051259,\"fTheta\":30,\"fPhi\":30,\"fAspectRatio\":0,\"fNumber\":0,\"fTickx\":0,\"fTicky\":0,\"fLogx\":0,\"fLogy\":0,\"fLogz\":0,\"fPadPaint\":0,\"fCrosshair\":0,\"fCrosshairPos\":0,\"fBorderSize\":2,\"fBorderMode\":0,\"fModified\":false,\"fGridx\":false,\"fGridy\":false,\"fAbsCoord\":false,\"fEditable\":true,\"fFixedAspectRatio\":false,\"fPrimitives\":{\"_typename\":\"TList\",\"name\":\"TList\",\"arr\":[{\"_typename\":\"TFrame\",\"fUniqueID\":0,\"fBits\":8,\"fLineColor\":1,\"fLineStyle\":1,\"fLineWidth\":1,\"fFillColor\":0,\"fFillStyle\":1001,\"fX1\":50,\"fY1\":0,\"fX2\":3000,\"fY2\":1.10161166051259,\"fBorderSize\":1,\"fBorderMode\":0},{\"_typename\":\"TH1D\",\"fUniqueID\":0,\"fBits\":8,\"fName\":\"ratio_mjj_zoom\",\"fTitle\":\"mjj\",\"fLineColor\":602,\"fLineStyle\":1,\"fLineWidth\":1,\"fFillColor\":0,\"fFillStyle\":1001,\"fMarkerColor\":1,\"fMarkerStyle\":1,\"fMarkerSize\":1,\"fNcells\":102,\"fXaxis\":{\"_typename\":\"TAxis\",\"fUniqueID\":0,\"fBits\":0,\"fName\":\"xaxis\",\"fTitle\":\"\",\"fNdivisions\":510,\"fAxisColor\":1,\"fLabelColor\":1,\"fLabelFont\":42,\"fLabelOffset\":0.005,\"fLabelSize\":0.035,\"fTickLength\":0.03,\"fTitleOffset\":1,\"fTitleSize\":0.035,\"fTitleColor\":1,\"fTitleFont\":42,\"fNbins\":100,\"fXmin\":50,\"fXmax\":3000,\"fXbins\":[],\"fFirst\":0,\"fLast\":0,\"fBits2\":0,\"fTimeDisplay\":false,\"fTimeFormat\":\"\",\"fLabels\":null,\"fModLabs\":null},\"fYaxis\":{\"_typename\":\"TAxis\",\"fUniqueID\":0,\"fBits\":0,\"fName\":\"yaxis\",\"fTitle\":\"\",\"fNdivisions\":510,\"fAxisColor\":1,\"fLabelColor\":1,\"fLabelFont\":42,\"fLabelOffset\":0.005,\"fLabelSize\":0.035,\"fTickLength\":0.03,\"fTitleOffset\":0,\"fTitleSize\":0.035,\"fTitleColor\":1,\"fTitleFont\":42,\"fNbins\":1,\"fXmin\":0,\"fXmax\":1,\"fXbins\":[],\"fFirst\":0,\"fLast\":0,\"fBits2\":0,\"fTimeDisplay\":false,\"fTimeFormat\":\"\",\"fLabels\":null,\"fModLabs\":null},\"fZaxis\":{\"_typename\":\"TAxis\",\"fUniqueID\":0,\"fBits\":0,\"fName\":\"zaxis\",\"fTitle\":\"\",\"fNdivisions\":510,\"fAxisColor\":1,\"fLabelColor\":1,\"fLabelFont\":42,\"fLabelOffset\":0.005,\"fLabelSize\":0.035,\"fTickLength\":0.03,\"fTitleOffset\":1,\"fTitleSize\":0.035,\"fTitleColor\":1,\"fTitleFont\":42,\"fNbins\":1,\"fXmin\":0,\"fXmax\":1,\"fXbins\":[],\"fFirst\":0,\"fLast\":0,\"fBits2\":0,\"fTimeDisplay\":false,\"fTimeFormat\":\"\",\"fLabels\":null,\"fModLabs\":null},\"fBarOffset\":0,\"fBarWidth\":1000,\"fEntries\":3437.59805175182,\"fTsumw\":29.1838744070106,\"fTsumw2\":0.247759776617902,\"fTsumwx\":39423.3833819747,\"fTsumwx2\":74124297.9942138,\"fMaximum\":-1111,\"fMinimum\":-1111,\"fNormFactor\":0,\"fContour\":[],\"fSumw2\":[0,0,0.169464598194918,0.0035513207381582,0.00141491254599021,5.52094563994003e-4,2.96914146587498e-4,2.29824422618002e-4,1.94685793554055e-4,1.7157241719047e-4,1.59433925487972e-4,1.39058753481822e-4,1.40673669093984e-4,1.40294895217278e-4,1.43148973007677e-4,1.48294397237022e-4,1.37808238593988e-4,1.56338130654089e-4,1.36022642108288e-4,1.59744598071539e-4,1.57307944072739e-4,1.52537034461287e-4,1.74648677551552e-4,1.40546082771325e-4,1.7446242480085e-4,1.70138281204701e-4,2.10006887800416e-4,1.84751227750738e-4,1.89358305239028e-4,2.04949925336818e-4,2.26299862990325e-4,2.25822770817265e-4,2.38738436787018e-4,2.34535963141246e-4,2.66941814011083e-4,2.13958325522871e-4,3.20414026744266e-4,2.62797575412897e-4,3.15254331995644e-4,3.05729156468268e-4,2.70855550443444e-4,3.46776886485824e-4,3.25135124572073e-4,2.94415613459458e-4,3.42021953016996e-4,3.96369316736351e-4,4.07855655268903e-4,4.41474859720069e-4,3.8946333500707e-4,4.27487656538502e-4,4.53194625616227e-4,5.44523653016279e-4,4.66899324304194e-4,5.03273892822656e-4,6.02299589482972e-4,6.02435248154264e-4,5.69497745786463e-4,5.17210773241239e-4,5.00464098407687e-4,5.76449112590078e-4,7.73192773419311e-4,6.50166497971698e-4,6.88058134980875e-4,8.52083099485955e-4,9.21752532461047e-4,7.35372597871616e-4,7.1894251162414e-4,9.30076455950224e-4,8.8449387654213e-4,8.10664295082636e-4,6.67150421440465e-4,9.27903432297276e-4,0.00107876512640837,7.75887813370221e-4,7.3145406605314e-4,9.74210222495956e-4,0.00111328843361778,0.00138755484793501,0.00105946536350555,0.00116685288269659,0.00163915336719606,0.00156866031375603,9.31893450285708e-4,0.00105669091014872,0.00126636788353534,9.42454002630044e-4,0.00146229963962703,0.00136361633046638,0.00169828423871423,0.00209792119234232,0.00204834385432392,0.00300719276623008,0.0016220002486365,0.0035278258282354,0.00192386433605371,0.00173352321106293,0.00244024427591783,0.0038372444489322,0.00340677685439495,0.00164943438466627,4.60558002118388e-6,1.10762777223905e-4],\"fOption\":\"\",\"fFunctions\":{\"_typename\":\"TList\",\"name\":\"TList\",\"arr\":[{\"_typename\":\"TPaveStats\",\"fUniqueID\":0,\"fBits\":9,\"fLineColor\":1,\"fLineStyle\":1,\"fLineWidth\":1,\"fFillColor\":0,\"fFillStyle\":1001,\"fX1\":2557.50007472933,\"fY1\":0.929484852407904,\"fX2\":3295.00009670854,\"fY2\":1.14980718286889,\"fX1NDC\":0.780000016093254,\"fY1NDC\":0.775000005960464,\"fX2NDC\":0.980000019073486,\"fY2NDC\":0.935000002384186,\"fBorderSize\":1,\"fInit\":1,\"fShadowColor\":1,\"fCornerRadius\":0,\"fOption\":\"brNDC\",\"fName\":\"stats\",\"fTextAngle\":0,\"fTextSize\":0,\"fTextAlign\":12,\"fTextColor\":1,\"fTextFont\":42,\"fLabel\":\"\",\"fLongest\":18,\"fMargin\":0.05,\"fLines\":{\"_typename\":\"TList\",\"name\":\"TList\",\"arr\":[{\"_typename\":\"TLatex\",\"fUniqueID\":0,\"fBits\":0,\"fName\":\"\",\"fTitle\":\"ratio_mjj_zoom\",\"fTextAngle\":0,\"fTextSize\":0.0368,\"fTextAlign\":0,\"fTextColor\":0,\"fTextFont\":0,\"fX\":0,\"fY\":0,\"fLineColor\":1,\"fLineStyle\":1,\"fLineWidth\":2,\"fLimitFactorSize\":3,\"fOriginSize\":0.0368000008165836},{\"_typename\":\"TLatex\",\"fUniqueID\":0,\"fBits\":0,\"fName\":\"\",\"fTitle\":\"Entries = 3438   \",\"fTextAngle\":0,\"fTextSize\":0,\"fTextAlign\":0,\"fTextColor\":0,\"fTextFont\":0,\"fX\":0,\"fY\":0,\"fLineColor\":1,\"fLineStyle\":1,\"fLineWidth\":2,\"fLimitFactorSize\":3,\"fOriginSize\":0.04},{\"_typename\":\"TLatex\",\"fUniqueID\":0,\"fBits\":0,\"fName\":\"\",\"fTitle\":\"Mean  =   1351\",\"fTextAngle\":0,\"fTextSize\":0,\"fTextAlign\":0,\"fTextColor\":0,\"fTextFont\":0,\"fX\":0,\"fY\":0,\"fLineColor\":1,\"fLineStyle\":1,\"fLineWidth\":2,\"fLimitFactorSize\":3,\"fOriginSize\":0.04},{\"_typename\":\"TLatex\",\"fUniqueID\":0,\"fBits\":0,\"fName\":\"\",\"fTitle\":\"Std Dev   =  845.6\",\"fTextAngle\":0,\"fTextSize\":0,\"fTextAlign\":0,\"fTextColor\":0,\"fTextFont\":0,\"fX\":0,\"fY\":0,\"fLineColor\":1,\"fLineStyle\":1,\"fLineWidth\":2,\"fLimitFactorSize\":3,\"fOriginSize\":0.04}],\"opt\":[\"\",\"\",\"\",\"\"]},\"fOptFit\":0,\"fOptStat\":1111,\"fFitFormat\":\"5.4g\",\"fStatFormat\":\"6.4g\",\"fParent\":{\"$ref\":3}},{\"_typename\":\"TF1\",\"fUniqueID\":0,\"fBits\":1024,\"fName\":\"fit_mjj\",\"fTitle\":\"[0] + [1]*TMath::Exp(-[2]*(x)) + [3]*x\",\"fLineColor\":2,\"fLineStyle\":1,\"fLineWidth\":2,\"fFillColor\":19,\"fFillStyle\":0,\"fMarkerColor\":1,\"fMarkerStyle\":1,\"fMarkerSize\":1,\"fXmin\":120,\"fXmax\":3000,\"fNpar\":4,\"fNdim\":1,\"fNpx\":100,\"fType\":0,\"fNpfits\":98,\"fNDF\":94,\"fChisquare\":304.09709295726,\"fMinimum\":-1111,\"fMaximum\":-1111,\"fParErrors\":[0.270075037556042,1.11486391940049,0.0330262195442005,1.21024737287974e-4],\"fParMin\":[0,0,0,0],\"fParMax\":[0,0,0,0],\"fSave\":[0.472649073785247,0.45913805016732,0.446893223145608,0.435780001137276,0.425678099101005,0.416480017809427,0.40808968476875,0.40042123960315,0.393397948547881,0.386951234327392,0.381019809153474,0.375548899882208,0.370489555533594,0.365798028419046,0.361435221052539,0.35736619185286,0.353559713387718,0.349987877574718,0.346625742847877,0.343451018828913,0.340443784516705,0.337586236432072,0.334862463533743,0.332258246059857,0.329760875751791,0.327358995187474,0.325042454192915,0.322802181516617,0.320630070144466,0.318518874805198,0.316462120370614,0.314454019992484,0.312489401941166,0.310563644220984,0.308672616135732,0.306812626065523,0.304980374794748,0.303172913801091,0.301387607978245,0.299622102321057,0.29787429215191,0.296142296511914,0.294424434380509,0.29271920342283,0.29102526099614,0.289341407175199,0.287666569581973,0.285999789827881,0.284340211397176,0.282687068818276,0.281039677986132,0.279397427513303,0.277759771000359,0.276126220127925,0.274496338482999,0.272869736041522,0.271246064237415,0.269625011555764,0.268006299594435,0.266389679544312,0.264774929043686,0.263161849366999,0.261550262912415,0.259940010956457,0.258330951647314,0.256722958211445,0.25511591735083,0.253509727810566,0.251904299098739,0.250299550342361,0.248695409264913,0.247091811272582,0.245488698637612,0.243886019768477,0.242283728557621,0.240681783798536,0.239080148664798,0.237478790244482,0.235877679124071,0.234276789016584,0.232676096429239,0.231075580366443,0.229475222064351,0.227875004753636,0.226274913447484,0.224674934752121,0.223075056697473,0.22147526858584,0.219875560856642,0.218275924965551,0.216676353276466,0.215076838964975,0.213477375932069,0.211877958727044,0.210278582478579,0.20867924283316,0.207079935900028,0.205480658202001,0.203881406631505,0.202282178411289,0.200682971059313,120,3000],\"fNormalized\":false,\"fNormIntegral\":0,\"fFormula\":{\"_typename\":\"TFormula\",\"fUniqueID\":0,\"fBits\":1024,\"fName\":\"fit_mjj\",\"fTitle\":\"[0] + [1]*TMath::Exp(-[2]*(x)) + [3]*x\",\"fClingParameters\":[0.367247318624084,0.178989320471938,0.0039021045191797,-5.55219409089479e-5],\"fAllParametersSetted\":true,\"fParams\":[{\"$pair\":\"pair<TString,int,TFormulaParamOrder>\",\"first\":\"p0\",\"second\":0},{\"$pair\":\"pair<TString,int,TFormulaParamOrder>\",\"first\":\"p1\",\"second\":1},{\"$pair\":\"pair<TString,int,TFormulaParamOrder>\",\"first\":\"p2\",\"second\":2},{\"$pair\":\"pair<TString,int,TFormulaParamOrder>\",\"first\":\"p3\",\"second\":3}],\"fFormula\":\"[p0]+[p1]*TMath::Exp(-[p2]*(x))+[p3]*x\",\"fNdim\":1,\"fLinearParts\":[],\"fVectorized\":false},\"fParams\":null,\"fComposition_ptr\":null}],\"opt\":[\"brNDC\",\"\"]},\"fBufferSize\":0,\"fBuffer\":[],\"fBinStatErrOpt\":0,\"fStatOverflows\":2,\"fArray\":[0,0,0.637493181901388,0.416853740500656,0.536236150111705,0.467637145124414,0.410591439713943,0.40980302979184,0.409420193073869,0.401431605517792,0.39531488432541,0.376427342096857,0.377676154272989,0.374193474592203,0.372402873847639,0.387890857247691,0.359926866951379,0.380766491090618,0.337486944584775,0.3640135627194,0.354958326773314,0.335927286485458,0.355585584708132,0.3054671393003,0.336820623439243,0.324493628390162,0.359303864629101,0.322208211814492,0.318239860793364,0.32635862435612,0.331266664796606,0.326781282314859,0.322983290037199,0.30863365144554,0.326625380703126,0.278576250993054,0.340208673696218,0.292267894780513,0.326875060748396,0.30602485086331,0.272423560984384,0.315733821428538,0.288236256035982,0.270754016504571,0.285291625014664,0.302997054116558,0.301116094259994,0.296467569178587,0.283846714181891,0.274357427848132,0.285324742715355,0.311853473803797,0.27508167215663,0.294567290501433,0.300988189777093,0.289569096530665,0.28786405864252,0.259991189837282,0.236880537461566,0.248521169252481,0.2947429814314,0.260052272594668,0.282304483541998,0.303157626093865,0.300442986299977,0.234955994014895,0.238216143327587,0.288304502670434,0.263379728978622,0.250311866365158,0.210007739769778,0.254603922057044,0.258918433005808,0.191574316234748,0.200025411740437,0.24250213107241,0.231973680725904,0.266800923920829,0.240222700654254,0.239654597340921,0.238168859291423,0.242166746023102,0.169705590306423,0.179645649038975,0.202219842197604,0.149676834029192,0.2039620894715,0.188578124352922,0.212189203099842,0.266780849964681,0.236231819769494,0.295703933251363,0.167375651333321,0.312010887604743,0.183692544349429,0.179349736833829,0.230887390887977,0.292834273408934,0.252042457468156,0.16020320963598,0.171258624085742,0.171775797226242]},{\"_typename\":\"TPaveText\",\"fUniqueID\":0,\"fBits\":9,\"fLineColor\":1,\"fLineStyle\":1,\"fLineWidth\":1,\"fFillColor\":0,\"fFillStyle\":0,\"fX1\":1398.05675098196,\"fY1\":1.14840683232535,\"fX2\":1651.94324901804,\"fY2\":1.23242806192154,\"fX1NDC\":0.465574712643678,\"fY1NDC\":0.933983055615829,\"fX2NDC\":0.534425287356322,\"fY2NDC\":0.995000004768372,\"fBorderSize\":0,\"fInit\":1,\"fShadowColor\":1,\"fCornerRadius\":0,\"fOption\":\"blNDC\",\"fName\":\"title\",\"fTextAngle\":0,\"fTextSize\":0,\"fTextAlign\":22,\"fTextColor\":1,\"fTextFont\":42,\"fLabel\":\"\",\"fLongest\":3,\"fMargin\":0.05,\"fLines\":{\"_typename\":\"TList\",\"name\":\"TList\",\"arr\":[{\"_typename\":\"TLatex\",\"fUniqueID\":0,\"fBits\":0,\"fName\":\"\",\"fTitle\":\"mjj\",\"fTextAngle\":0,\"fTextSize\":0,\"fTextAlign\":0,\"fTextColor\":0,\"fTextFont\":0,\"fX\":0,\"fY\":0,\"fLineColor\":1,\"fLineStyle\":1,\"fLineWidth\":2,\"fLimitFactorSize\":3,\"fOriginSize\":0.0518644079566002}],\"opt\":[\"\"]}},{\"_typename\":\"TStyle\",\"fUniqueID\":0,\"fBits\":0,\"fName\":\"Modern\",\"fTitle\":\"Modern Style\",\"fLineColor\":1,\"fLineStyle\":1,\"fLineWidth\":1,\"fFillColor\":19,\"fFillStyle\":1001,\"fMarkerColor\":1,\"fMarkerStyle\":1,\"fMarkerSize\":1,\"fTextAngle\":0,\"fTextSize\":0.05,\"fTextAlign\":11,\"fTextColor\":1,\"fTextFont\":62,\"fXaxis\":{\"_typename\":\"TAttAxis\",\"fNdivisions\":510,\"fAxisColor\":1,\"fLabelColor\":1,\"fLabelFont\":42,\"fLabelOffset\":0.005,\"fLabelSize\":0.035,\"fTickLength\":0.03,\"fTitleOffset\":1,\"fTitleSize\":0.035,\"fTitleColor\":1,\"fTitleFont\":42},\"fYaxis\":{\"_typename\":\"TAttAxis\",\"fNdivisions\":510,\"fAxisColor\":1,\"fLabelColor\":1,\"fLabelFont\":42,\"fLabelOffset\":0.005,\"fLabelSize\":0.035,\"fTickLength\":0.03,\"fTitleOffset\":0,\"fTitleSize\":0.035,\"fTitleColor\":1,\"fTitleFont\":42},\"fZaxis\":{\"_typename\":\"TAttAxis\",\"fNdivisions\":510,\"fAxisColor\":1,\"fLabelColor\":1,\"fLabelFont\":42,\"fLabelOffset\":0.005,\"fLabelSize\":0.035,\"fTickLength\":0.03,\"fTitleOffset\":1,\"fTitleSize\":0.035,\"fTitleColor\":1,\"fTitleFont\":42},\"fBarWidth\":1,\"fBarOffset\":0,\"fColorModelPS\":0,\"fDrawBorder\":0,\"fOptLogx\":0,\"fOptLogy\":0,\"fOptLogz\":0,\"fOptDate\":0,\"fOptStat\":1111,\"fOptTitle\":1,\"fOptFile\":0,\"fOptFit\":0,\"fShowEventStatus\":0,\"fShowEditor\":0,\"fShowToolBar\":0,\"fNumberContours\":20,\"fAttDate\":{\"_typename\":\"TAttText\",\"fTextAngle\":0,\"fTextSize\":0.025,\"fTextAlign\":11,\"fTextColor\":1,\"fTextFont\":62},\"fDateX\":0.01,\"fDateY\":0.01,\"fEndErrorSize\":2,\"fErrorX\":0.5,\"fFuncColor\":2,\"fFuncStyle\":1,\"fFuncWidth\":2,\"fGridColor\":0,\"fGridStyle\":3,\"fGridWidth\":1,\"fLegendBorderSize\":1,\"fLegendFillColor\":0,\"fLegendFont\":42,\"fLegendTextSize\":0,\"fHatchesLineWidth\":1,\"fHatchesSpacing\":1,\"fFrameFillColor\":0,\"fFrameLineColor\":1,\"fFrameFillStyle\":1001,\"fFrameLineStyle\":1,\"fFrameLineWidth\":1,\"fFrameBorderSize\":1,\"fFrameBorderMode\":0,\"fHistFillColor\":0,\"fHistLineColor\":602,\"fHistFillStyle\":1001,\"fHistLineStyle\":1,\"fHistLineWidth\":1,\"fHistMinimumZero\":false,\"fHistTopMargin\":0.05,\"fCanvasPreferGL\":false,\"fCanvasColor\":0,\"fCanvasBorderSize\":2,\"fCanvasBorderMode\":0,\"fCanvasDefH\":500,\"fCanvasDefW\":700,\"fCanvasDefX\":10,\"fCanvasDefY\":10,\"fPadColor\":0,\"fPadBorderSize\":2,\"fPadBorderMode\":0,\"fPadBottomMargin\":0.1,\"fPadTopMargin\":0.1,\"fPadLeftMargin\":0.1,\"fPadRightMargin\":0.1,\"fPadGridX\":false,\"fPadGridY\":false,\"fPadTickX\":0,\"fPadTickY\":0,\"fPaperSizeX\":20,\"fPaperSizeY\":26,\"fScreenFactor\":1,\"fStatColor\":0,\"fStatTextColor\":1,\"fStatBorderSize\":1,\"fStatFont\":42,\"fStatFontSize\":0,\"fStatStyle\":1001,\"fStatFormat\":\"6.4g\",\"fStatX\":0.98,\"fStatY\":0.935,\"fStatW\":0.2,\"fStatH\":0.16,\"fStripDecimals\":true,\"fTitleAlign\":23,\"fTitleColor\":0,\"fTitleTextColor\":1,\"fTitleBorderSize\":0,\"fTitleFont\":42,\"fTitleFontSize\":0.05,\"fTitleStyle\":0,\"fTitleX\":0.5,\"fTitleY\":0.995,\"fTitleW\":0,\"fTitleH\":0,\"fLegoInnerR\":0.5,\"fLineStyle\":[\"\",\"  \",\" 12 12\",\" 4 8\",\" 12 16 4 16\",\" 20 12 4 12\",\" 20 12 4 12 4 12 4 12\",\" 20 20\",\" 20 12 4 12 4 12\",\" 80 20\",\" 80 40 4 40\",\"  \",\"  \",\"  \",\"  \",\"  \",\"  \",\"  \",\"  \",\"  \",\"  \",\"  \",\"  \",\"  \",\"  \",\"  \",\"  \",\"  \",\"  \",\"  \"],\"fHeaderPS\":\"\",\"fTitlePS\":\"\",\"fFitFormat\":\"5.4g\",\"fPaintTextFormat\":\"g\",\"fLineScalePS\":3,\"fJoinLinePS\":0,\"fCapLinePS\":0,\"fTimeOffset\":788918400,\"fImageScaling\":1}],\"opt\":[\"\",\"\",\"blNDC\",\"\"]},\"fExecs\":null,\"fName\":\"c1_n3\",\"fTitle\":\"c1_n3\",\"fNumPaletteColor\":0,\"fNextPaletteColor\":0,\"fDISPLAY\":\"$DISPLAY\",\"fDoubleBuffer\":0,\"fRetained\":true,\"fXsizeUser\":0,\"fYsizeUser\":0,\"fXsizeReal\":20,\"fYsizeReal\":14.28571,\"fWindowTopX\":0,\"fWindowTopY\":0,\"fWindowWidth\":0,\"fWindowHeight\":0,\"fCw\":696,\"fCh\":472,\"fCatt\":{\"_typename\":\"TAttCanvas\",\"fXBetween\":2,\"fYBetween\":2,\"fTitleFromTop\":1.2,\"fXdate\":0.2,\"fYdate\":0.3,\"fAdate\":1},\"kMoveOpaque\":true,\"kResizeOpaque\":true,\"fHighLightColor\":2,\"fBatch\":true,\"kShowEventStatus\":false,\"kAutoExec\":true,\"kMenuBar\":true});\n",
       "            Core.draw(\"root_plot_1617377646862\", obj, \"\");\n",
       "        }\n",
       "    );\n",
       "}\n",
       "</script>\n"
      ],
      "text/plain": [
       "<IPython.core.display.HTML object>"
      ]
     },
     "metadata": {},
     "output_type": "display_data"
    }
   ],
   "source": [
    "c = R.TCanvas()\n",
    "h.Draw()\n",
    "c.Draw()"
   ]
  },
  {
   "cell_type": "code",
   "execution_count": 125,
   "id": "crude-adolescent",
   "metadata": {
    "ExecuteTime": {
     "end_time": "2021-04-02T15:34:12.478420Z",
     "start_time": "2021-04-02T15:34:12.368950Z"
    }
   },
   "outputs": [
    {
     "data": {
      "text/plain": [
       "397"
      ]
     },
     "execution_count": 125,
     "metadata": {},
     "output_type": "execute_result"
    }
   ],
   "source": [
    "func1.Write()"
   ]
  },
  {
   "cell_type": "code",
   "execution_count": null,
   "id": "divided-national",
   "metadata": {},
   "outputs": [],
   "source": []
  },
  {
   "cell_type": "code",
   "execution_count": 135,
   "id": "liked-hearing",
   "metadata": {
    "ExecuteTime": {
     "end_time": "2021-04-02T15:35:18.829906Z",
     "start_time": "2021-04-02T15:35:17.782692Z"
    }
   },
   "outputs": [],
   "source": [
    "f.Close()"
   ]
  },
  {
   "cell_type": "code",
   "execution_count": 32,
   "id": "junior-blast",
   "metadata": {
    "ExecuteTime": {
     "end_time": "2021-04-01T21:52:53.736686Z",
     "start_time": "2021-04-01T21:52:53.627762Z"
    }
   },
   "outputs": [
    {
     "data": {
      "text/plain": [
       "True"
      ]
     },
     "execution_count": 32,
     "metadata": {},
     "output_type": "execute_result"
    }
   ],
   "source": [
    "f.cd(\"njet2\")"
   ]
  },
  {
   "cell_type": "code",
   "execution_count": 34,
   "id": "wound-outline",
   "metadata": {
    "ExecuteTime": {
     "end_time": "2021-04-01T21:53:25.685332Z",
     "start_time": "2021-04-01T21:53:24.245398Z"
    }
   },
   "outputs": [
    {
     "name": "stdout",
     "output_type": "stream",
     "text": [
      "/eos/home-d/dvalsecc/Code/Latinos/pythia_dipole_reweight\r\n"
     ]
    }
   ],
   "source": [
    "!pwd"
   ]
  },
  {
   "cell_type": "code",
   "execution_count": null,
   "id": "proper-origin",
   "metadata": {},
   "outputs": [],
   "source": []
  }
 ],
 "metadata": {
  "kernelspec": {
   "display_name": "Python 3",
   "language": "python",
   "name": "python3"
  },
  "toc": {
   "base_numbering": 1,
   "nav_menu": {},
   "number_sections": true,
   "sideBar": true,
   "skip_h1_title": false,
   "title_cell": "Table of Contents",
   "title_sidebar": "Contents",
   "toc_cell": false,
   "toc_position": {},
   "toc_section_display": true,
   "toc_window_display": false
  },
  "varInspector": {
   "cols": {
    "lenName": 16,
    "lenType": 16,
    "lenVar": 40
   },
   "kernels_config": {
    "python": {
     "delete_cmd_postfix": "",
     "delete_cmd_prefix": "del ",
     "library": "var_list.py",
     "varRefreshCmd": "print(var_dic_list())"
    },
    "r": {
     "delete_cmd_postfix": ") ",
     "delete_cmd_prefix": "rm(",
     "library": "var_list.r",
     "varRefreshCmd": "cat(var_dic_list()) "
    }
   },
   "types_to_exclude": [
    "module",
    "function",
    "builtin_function_or_method",
    "instance",
    "_Feature"
   ],
   "window_display": false
  }
 },
 "nbformat": 4,
 "nbformat_minor": 5
}
